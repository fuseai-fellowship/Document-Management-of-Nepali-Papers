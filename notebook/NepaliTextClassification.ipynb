{
  "nbformat": 4,
  "nbformat_minor": 0,
  "metadata": {
    "colab": {
      "provenance": []
    },
    "kernelspec": {
      "name": "python3",
      "display_name": "Python 3"
    },
    "language_info": {
      "name": "python"
    }
  },
  "cells": [
    {
      "cell_type": "markdown",
      "source": [
        "# Downloading Data from drive"
      ],
      "metadata": {
        "id": "QxZ4bwzVeFvN"
      }
    },
    {
      "cell_type": "code",
      "execution_count": null,
      "metadata": {
        "colab": {
          "base_uri": "https://localhost:8080/"
        },
        "id": "KGfeR3x4hDE_",
        "outputId": "7d0204de-cdde-4d80-c90b-df651b44278b"
      },
      "outputs": [
        {
          "output_type": "stream",
          "name": "stdout",
          "text": [
            "Downloading...\n",
            "From: https://drive.google.com/uc?id=1wkvyKBdgQztOQosEYckO2nRQeFBi176S\n",
            "To: /content/NepaliText.csv\n",
            "\r  0% 0.00/946k [00:00<?, ?B/s]\r100% 946k/946k [00:00<00:00, 23.8MB/s]\n"
          ]
        }
      ],
      "source": [
        "# Custom made Data\n",
        "!gdown https://drive.google.com/uc?id=1wkvyKBdgQztOQosEYckO2nRQeFBi176S"
      ]
    },
    {
      "cell_type": "code",
      "source": [
        "# Stop words\n",
        "# credit -> Kushal Paudyal (https://github.com/sanjaalcorps/NepaliStopWords)\n",
        "!gdown https://drive.google.com/uc?id=1rut_6tJVxvhW2sos425LGNbOb0RCNXmc"
      ],
      "metadata": {
        "colab": {
          "base_uri": "https://localhost:8080/"
        },
        "id": "myMnO3ktoSLT",
        "outputId": "9882049d-e3cc-4af8-b56a-1f04903ec2e1"
      },
      "execution_count": null,
      "outputs": [
        {
          "output_type": "stream",
          "name": "stdout",
          "text": [
            "Downloading...\n",
            "From: https://drive.google.com/uc?id=1rut_6tJVxvhW2sos425LGNbOb0RCNXmc\n",
            "To: /content/NepaliStopWords.zip\n",
            "\r  0% 0.00/2.21k [00:00<?, ?B/s]\r100% 2.21k/2.21k [00:00<00:00, 5.86MB/s]\n"
          ]
        }
      ]
    },
    {
      "cell_type": "code",
      "source": [
        "!unzip /content/NepaliStopWords.zip"
      ],
      "metadata": {
        "colab": {
          "base_uri": "https://localhost:8080/"
        },
        "id": "eMQVd4Luq9tJ",
        "outputId": "17c9be65-2d6d-42cc-e820-08899f5dac81"
      },
      "execution_count": null,
      "outputs": [
        {
          "output_type": "stream",
          "name": "stdout",
          "text": [
            "Archive:  /content/NepaliStopWords.zip\n",
            "   creating: NepaliStopWords/\n",
            "  inflating: NepaliStopWords/NepaliStopWords.txt  \n"
          ]
        }
      ]
    },
    {
      "cell_type": "code",
      "source": [
        "# library for nepali text pre-processing\n",
        "# credit -> prabash jha (https://github.com/prabhashj07/nepalikit)\n",
        "!pip install nepalikit"
      ],
      "metadata": {
        "colab": {
          "base_uri": "https://localhost:8080/"
        },
        "id": "g9fpozbhlM2-",
        "outputId": "9f40a6f8-fa1d-4bc3-ebca-325cfc2023e5"
      },
      "execution_count": 1,
      "outputs": [
        {
          "output_type": "stream",
          "name": "stdout",
          "text": [
            "Collecting nepalikit\n",
            "  Downloading nepalikit-1.0.2-py3-none-any.whl.metadata (3.5 kB)\n",
            "Requirement already satisfied: torch>=2.3.1 in /usr/local/lib/python3.10/dist-packages (from nepalikit) (2.4.0+cu121)\n",
            "Collecting sentencepiece==0.2.0 (from nepalikit)\n",
            "  Downloading sentencepiece-0.2.0-cp310-cp310-manylinux_2_17_x86_64.manylinux2014_x86_64.whl.metadata (7.7 kB)\n",
            "Requirement already satisfied: regex in /usr/local/lib/python3.10/dist-packages (from nepalikit) (2024.9.11)\n",
            "Requirement already satisfied: filelock in /usr/local/lib/python3.10/dist-packages (from torch>=2.3.1->nepalikit) (3.16.0)\n",
            "Requirement already satisfied: typing-extensions>=4.8.0 in /usr/local/lib/python3.10/dist-packages (from torch>=2.3.1->nepalikit) (4.12.2)\n",
            "Requirement already satisfied: sympy in /usr/local/lib/python3.10/dist-packages (from torch>=2.3.1->nepalikit) (1.13.2)\n",
            "Requirement already satisfied: networkx in /usr/local/lib/python3.10/dist-packages (from torch>=2.3.1->nepalikit) (3.3)\n",
            "Requirement already satisfied: jinja2 in /usr/local/lib/python3.10/dist-packages (from torch>=2.3.1->nepalikit) (3.1.4)\n",
            "Requirement already satisfied: fsspec in /usr/local/lib/python3.10/dist-packages (from torch>=2.3.1->nepalikit) (2024.6.1)\n",
            "Requirement already satisfied: MarkupSafe>=2.0 in /usr/local/lib/python3.10/dist-packages (from jinja2->torch>=2.3.1->nepalikit) (2.1.5)\n",
            "Requirement already satisfied: mpmath<1.4,>=1.1.0 in /usr/local/lib/python3.10/dist-packages (from sympy->torch>=2.3.1->nepalikit) (1.3.0)\n",
            "Downloading nepalikit-1.0.2-py3-none-any.whl (232 kB)\n",
            "\u001b[2K   \u001b[90m━━━━━━━━━━━━━━━━━━━━━━━━━━━━━━━━━━━━━━━━\u001b[0m \u001b[32m232.6/232.6 kB\u001b[0m \u001b[31m7.7 MB/s\u001b[0m eta \u001b[36m0:00:00\u001b[0m\n",
            "\u001b[?25hDownloading sentencepiece-0.2.0-cp310-cp310-manylinux_2_17_x86_64.manylinux2014_x86_64.whl (1.3 MB)\n",
            "\u001b[2K   \u001b[90m━━━━━━━━━━━━━━━━━━━━━━━━━━━━━━━━━━━━━━━━\u001b[0m \u001b[32m1.3/1.3 MB\u001b[0m \u001b[31m30.2 MB/s\u001b[0m eta \u001b[36m0:00:00\u001b[0m\n",
            "\u001b[?25hInstalling collected packages: sentencepiece, nepalikit\n",
            "  Attempting uninstall: sentencepiece\n",
            "    Found existing installation: sentencepiece 0.1.99\n",
            "    Uninstalling sentencepiece-0.1.99:\n",
            "      Successfully uninstalled sentencepiece-0.1.99\n",
            "Successfully installed nepalikit-1.0.2 sentencepiece-0.2.0\n"
          ]
        }
      ]
    },
    {
      "cell_type": "markdown",
      "source": [
        "# Importing necessary libraries"
      ],
      "metadata": {
        "id": "YqDGyUW0eTcl"
      }
    },
    {
      "cell_type": "code",
      "source": [
        "import pandas as pd\n",
        "import sys\n",
        "import re\n",
        "import sklearn\n",
        "from sklearn.model_selection import train_test_split\n",
        "import torch.optim as optim\n",
        "from sklearn.metrics import accuracy_score\n",
        "import matplotlib.pyplot as plt\n",
        "import random\n",
        "from sklearn.preprocessing import LabelEncoder\n",
        "from sklearn.model_selection import train_test_split\n",
        "from nepalikit.tokenization import Tokenizer\n",
        "import torch\n",
        "import torch.nn as nn\n",
        "from torch.utils.data import Dataset, DataLoader\n",
        "from nepalikit.preprocessing import TextProcessor\n",
        "from nepalikit.manage_stopwords import load_stopwords, remove_stopwords_from_text"
      ],
      "metadata": {
        "id": "XXL_XBmsh6S0"
      },
      "execution_count": 12,
      "outputs": []
    },
    {
      "cell_type": "code",
      "source": [
        "print('Python version:',sys.version)\n",
        "print('Pandas version:',pd.__version__)\n",
        "print('Pytorch version:', torch.__version__)\n",
        "print('Sklearn version:',sklearn.__version__)"
      ],
      "metadata": {
        "colab": {
          "base_uri": "https://localhost:8080/"
        },
        "id": "J0K88NqRpDmJ",
        "outputId": "49fbd1d2-3aed-4079-c157-76e296730cf0"
      },
      "execution_count": 13,
      "outputs": [
        {
          "output_type": "stream",
          "name": "stdout",
          "text": [
            "Python version: 3.10.12 (main, Sep 11 2024, 15:47:36) [GCC 11.4.0]\n",
            "Pandas version: 2.1.4\n",
            "Pytorch version: 2.4.0+cu121\n",
            "Sklearn version: 1.3.2\n"
          ]
        }
      ]
    },
    {
      "cell_type": "markdown",
      "source": [
        "# Data Pre processing"
      ],
      "metadata": {
        "id": "G7wL1TTdePjS"
      }
    },
    {
      "cell_type": "code",
      "source": [
        "processor = TextProcessor()\n",
        "\n",
        "stopwords_path = '/content/NepaliStopWords'\n",
        "stopwords = load_stopwords(stopwords_path)\n",
        "\n",
        "def preprocess_text(text):\n",
        "    # Removing html tags\n",
        "    text = processor.remove_html_tags(text)\n",
        "    # Removing special characters\n",
        "    text = processor.remove_special_characters(text)\n",
        "    # Replacing '\\n' with emty space\n",
        "    text = re.sub('\\n', ' ', text)\n",
        "    # Removing digits\n",
        "    text = re.sub(r'[\\d०१२३४५६७८९]', '', text)\n",
        "\n",
        "    # Remove stopwords\n",
        "    words = text.split()\n",
        "    filtered_words = [word for word in words if word not in stopwords]\n",
        "    return ' '.join(filtered_words)\n",
        "\n",
        "initial_dataset = pd.read_csv(\"/content/NepaliText.csv\")\n",
        "\n",
        "initial_dataset.rename(columns={'paras': 'data'}, inplace=True)\n",
        "\n",
        "# Applying preprocessing function\n",
        "initial_dataset['data'] = initial_dataset['data'].apply(preprocess_text)\n",
        "\n",
        "# Removing duplicates and NAN values\n",
        "initial_dataset.drop_duplicates(inplace=True)\n",
        "initial_dataset.dropna(inplace=True)\n",
        "\n",
        "# Encoding class labels\n",
        "label_encoder = LabelEncoder()\n",
        "initial_dataset['label'] = label_encoder.fit_transform(initial_dataset['label'])\n",
        "num_classes = len(label_encoder.classes_)"
      ],
      "metadata": {
        "id": "iWSnOArpmHqC"
      },
      "execution_count": null,
      "outputs": []
    },
    {
      "cell_type": "markdown",
      "source": [
        "# Data Preparation and Sanity checks"
      ],
      "metadata": {
        "id": "3lsLjhKYdIOD"
      }
    },
    {
      "cell_type": "code",
      "source": [
        "train_dataset, validation_dataset = train_test_split(initial_dataset, test_size=0.1, random_state=42)\n",
        "\n",
        "train_dataset.to_csv(\"./preprocessed_train.csv\", index=False)\n",
        "validation_dataset.to_csv(\"./preprocessed_val.csv\", index=False)"
      ],
      "metadata": {
        "id": "80ByFyb6dEy3"
      },
      "execution_count": null,
      "outputs": []
    },
    {
      "cell_type": "code",
      "source": [
        "print(f\"Length of training dataset: {len(train_dataset)}\")\n",
        "print(f\"Length of validation dataset: {len(validation_dataset)}\")"
      ],
      "metadata": {
        "colab": {
          "base_uri": "https://localhost:8080/"
        },
        "id": "IIAPA6hTXh8W",
        "outputId": "244d631a-fd4a-4788-da0f-f11b5c632c4e"
      },
      "execution_count": null,
      "outputs": [
        {
          "output_type": "stream",
          "name": "stdout",
          "text": [
            "Length of training dataset: 357\n",
            "Length of validation dataset: 40\n"
          ]
        }
      ]
    },
    {
      "cell_type": "code",
      "source": [
        "train_set = pd.read_csv(\"/content/preprocessed_train.csv\")\n",
        "train_set.head(5)"
      ],
      "metadata": {
        "colab": {
          "base_uri": "https://localhost:8080/",
          "height": 206
        },
        "id": "VbOGrW4WrHG7",
        "outputId": "a76bbc46-8a0e-43cb-ba61-82761935f60e"
      },
      "execution_count": null,
      "outputs": [
        {
          "output_type": "execute_result",
          "data": {
            "text/plain": [
              "                                                data  label\n",
              "0  त्रिभुवन विश्वविद्यालय विज्ञान प्रविधि अध्ययन ...      0\n",
              "1  मानव शरीरको आङ्ग प्रत्यारोपण नियमित निषेध नियम...      2\n",
              "2  त्रिभुवन विश्वविद्यालय विज्ञान प्रविधि अध्ययन ...      0\n",
              "3  जिल्ला अदालत नियमावली मिति जिल्ला अदालत संशोधन...      2\n",
              "4  प्रकाशन मिति स्टेशनरी मसलन्द सामग्री खरिदआपूर्...      3"
            ],
            "text/html": [
              "\n",
              "  <div id=\"df-47d7a296-d061-45de-aef7-2011aa5f9069\" class=\"colab-df-container\">\n",
              "    <div>\n",
              "<style scoped>\n",
              "    .dataframe tbody tr th:only-of-type {\n",
              "        vertical-align: middle;\n",
              "    }\n",
              "\n",
              "    .dataframe tbody tr th {\n",
              "        vertical-align: top;\n",
              "    }\n",
              "\n",
              "    .dataframe thead th {\n",
              "        text-align: right;\n",
              "    }\n",
              "</style>\n",
              "<table border=\"1\" class=\"dataframe\">\n",
              "  <thead>\n",
              "    <tr style=\"text-align: right;\">\n",
              "      <th></th>\n",
              "      <th>data</th>\n",
              "      <th>label</th>\n",
              "    </tr>\n",
              "  </thead>\n",
              "  <tbody>\n",
              "    <tr>\n",
              "      <th>0</th>\n",
              "      <td>त्रिभुवन विश्वविद्यालय विज्ञान प्रविधि अध्ययन ...</td>\n",
              "      <td>0</td>\n",
              "    </tr>\n",
              "    <tr>\n",
              "      <th>1</th>\n",
              "      <td>मानव शरीरको आङ्ग प्रत्यारोपण नियमित निषेध नियम...</td>\n",
              "      <td>2</td>\n",
              "    </tr>\n",
              "    <tr>\n",
              "      <th>2</th>\n",
              "      <td>त्रिभुवन विश्वविद्यालय विज्ञान प्रविधि अध्ययन ...</td>\n",
              "      <td>0</td>\n",
              "    </tr>\n",
              "    <tr>\n",
              "      <th>3</th>\n",
              "      <td>जिल्ला अदालत नियमावली मिति जिल्ला अदालत संशोधन...</td>\n",
              "      <td>2</td>\n",
              "    </tr>\n",
              "    <tr>\n",
              "      <th>4</th>\n",
              "      <td>प्रकाशन मिति स्टेशनरी मसलन्द सामग्री खरिदआपूर्...</td>\n",
              "      <td>3</td>\n",
              "    </tr>\n",
              "  </tbody>\n",
              "</table>\n",
              "</div>\n",
              "    <div class=\"colab-df-buttons\">\n",
              "\n",
              "  <div class=\"colab-df-container\">\n",
              "    <button class=\"colab-df-convert\" onclick=\"convertToInteractive('df-47d7a296-d061-45de-aef7-2011aa5f9069')\"\n",
              "            title=\"Convert this dataframe to an interactive table.\"\n",
              "            style=\"display:none;\">\n",
              "\n",
              "  <svg xmlns=\"http://www.w3.org/2000/svg\" height=\"24px\" viewBox=\"0 -960 960 960\">\n",
              "    <path d=\"M120-120v-720h720v720H120Zm60-500h600v-160H180v160Zm220 220h160v-160H400v160Zm0 220h160v-160H400v160ZM180-400h160v-160H180v160Zm440 0h160v-160H620v160ZM180-180h160v-160H180v160Zm440 0h160v-160H620v160Z\"/>\n",
              "  </svg>\n",
              "    </button>\n",
              "\n",
              "  <style>\n",
              "    .colab-df-container {\n",
              "      display:flex;\n",
              "      gap: 12px;\n",
              "    }\n",
              "\n",
              "    .colab-df-convert {\n",
              "      background-color: #E8F0FE;\n",
              "      border: none;\n",
              "      border-radius: 50%;\n",
              "      cursor: pointer;\n",
              "      display: none;\n",
              "      fill: #1967D2;\n",
              "      height: 32px;\n",
              "      padding: 0 0 0 0;\n",
              "      width: 32px;\n",
              "    }\n",
              "\n",
              "    .colab-df-convert:hover {\n",
              "      background-color: #E2EBFA;\n",
              "      box-shadow: 0px 1px 2px rgba(60, 64, 67, 0.3), 0px 1px 3px 1px rgba(60, 64, 67, 0.15);\n",
              "      fill: #174EA6;\n",
              "    }\n",
              "\n",
              "    .colab-df-buttons div {\n",
              "      margin-bottom: 4px;\n",
              "    }\n",
              "\n",
              "    [theme=dark] .colab-df-convert {\n",
              "      background-color: #3B4455;\n",
              "      fill: #D2E3FC;\n",
              "    }\n",
              "\n",
              "    [theme=dark] .colab-df-convert:hover {\n",
              "      background-color: #434B5C;\n",
              "      box-shadow: 0px 1px 3px 1px rgba(0, 0, 0, 0.15);\n",
              "      filter: drop-shadow(0px 1px 2px rgba(0, 0, 0, 0.3));\n",
              "      fill: #FFFFFF;\n",
              "    }\n",
              "  </style>\n",
              "\n",
              "    <script>\n",
              "      const buttonEl =\n",
              "        document.querySelector('#df-47d7a296-d061-45de-aef7-2011aa5f9069 button.colab-df-convert');\n",
              "      buttonEl.style.display =\n",
              "        google.colab.kernel.accessAllowed ? 'block' : 'none';\n",
              "\n",
              "      async function convertToInteractive(key) {\n",
              "        const element = document.querySelector('#df-47d7a296-d061-45de-aef7-2011aa5f9069');\n",
              "        const dataTable =\n",
              "          await google.colab.kernel.invokeFunction('convertToInteractive',\n",
              "                                                    [key], {});\n",
              "        if (!dataTable) return;\n",
              "\n",
              "        const docLinkHtml = 'Like what you see? Visit the ' +\n",
              "          '<a target=\"_blank\" href=https://colab.research.google.com/notebooks/data_table.ipynb>data table notebook</a>'\n",
              "          + ' to learn more about interactive tables.';\n",
              "        element.innerHTML = '';\n",
              "        dataTable['output_type'] = 'display_data';\n",
              "        await google.colab.output.renderOutput(dataTable, element);\n",
              "        const docLink = document.createElement('div');\n",
              "        docLink.innerHTML = docLinkHtml;\n",
              "        element.appendChild(docLink);\n",
              "      }\n",
              "    </script>\n",
              "  </div>\n",
              "\n",
              "\n",
              "<div id=\"df-ef429419-222c-41fa-bbdc-148733d32f01\">\n",
              "  <button class=\"colab-df-quickchart\" onclick=\"quickchart('df-ef429419-222c-41fa-bbdc-148733d32f01')\"\n",
              "            title=\"Suggest charts\"\n",
              "            style=\"display:none;\">\n",
              "\n",
              "<svg xmlns=\"http://www.w3.org/2000/svg\" height=\"24px\"viewBox=\"0 0 24 24\"\n",
              "     width=\"24px\">\n",
              "    <g>\n",
              "        <path d=\"M19 3H5c-1.1 0-2 .9-2 2v14c0 1.1.9 2 2 2h14c1.1 0 2-.9 2-2V5c0-1.1-.9-2-2-2zM9 17H7v-7h2v7zm4 0h-2V7h2v10zm4 0h-2v-4h2v4z\"/>\n",
              "    </g>\n",
              "</svg>\n",
              "  </button>\n",
              "\n",
              "<style>\n",
              "  .colab-df-quickchart {\n",
              "      --bg-color: #E8F0FE;\n",
              "      --fill-color: #1967D2;\n",
              "      --hover-bg-color: #E2EBFA;\n",
              "      --hover-fill-color: #174EA6;\n",
              "      --disabled-fill-color: #AAA;\n",
              "      --disabled-bg-color: #DDD;\n",
              "  }\n",
              "\n",
              "  [theme=dark] .colab-df-quickchart {\n",
              "      --bg-color: #3B4455;\n",
              "      --fill-color: #D2E3FC;\n",
              "      --hover-bg-color: #434B5C;\n",
              "      --hover-fill-color: #FFFFFF;\n",
              "      --disabled-bg-color: #3B4455;\n",
              "      --disabled-fill-color: #666;\n",
              "  }\n",
              "\n",
              "  .colab-df-quickchart {\n",
              "    background-color: var(--bg-color);\n",
              "    border: none;\n",
              "    border-radius: 50%;\n",
              "    cursor: pointer;\n",
              "    display: none;\n",
              "    fill: var(--fill-color);\n",
              "    height: 32px;\n",
              "    padding: 0;\n",
              "    width: 32px;\n",
              "  }\n",
              "\n",
              "  .colab-df-quickchart:hover {\n",
              "    background-color: var(--hover-bg-color);\n",
              "    box-shadow: 0 1px 2px rgba(60, 64, 67, 0.3), 0 1px 3px 1px rgba(60, 64, 67, 0.15);\n",
              "    fill: var(--button-hover-fill-color);\n",
              "  }\n",
              "\n",
              "  .colab-df-quickchart-complete:disabled,\n",
              "  .colab-df-quickchart-complete:disabled:hover {\n",
              "    background-color: var(--disabled-bg-color);\n",
              "    fill: var(--disabled-fill-color);\n",
              "    box-shadow: none;\n",
              "  }\n",
              "\n",
              "  .colab-df-spinner {\n",
              "    border: 2px solid var(--fill-color);\n",
              "    border-color: transparent;\n",
              "    border-bottom-color: var(--fill-color);\n",
              "    animation:\n",
              "      spin 1s steps(1) infinite;\n",
              "  }\n",
              "\n",
              "  @keyframes spin {\n",
              "    0% {\n",
              "      border-color: transparent;\n",
              "      border-bottom-color: var(--fill-color);\n",
              "      border-left-color: var(--fill-color);\n",
              "    }\n",
              "    20% {\n",
              "      border-color: transparent;\n",
              "      border-left-color: var(--fill-color);\n",
              "      border-top-color: var(--fill-color);\n",
              "    }\n",
              "    30% {\n",
              "      border-color: transparent;\n",
              "      border-left-color: var(--fill-color);\n",
              "      border-top-color: var(--fill-color);\n",
              "      border-right-color: var(--fill-color);\n",
              "    }\n",
              "    40% {\n",
              "      border-color: transparent;\n",
              "      border-right-color: var(--fill-color);\n",
              "      border-top-color: var(--fill-color);\n",
              "    }\n",
              "    60% {\n",
              "      border-color: transparent;\n",
              "      border-right-color: var(--fill-color);\n",
              "    }\n",
              "    80% {\n",
              "      border-color: transparent;\n",
              "      border-right-color: var(--fill-color);\n",
              "      border-bottom-color: var(--fill-color);\n",
              "    }\n",
              "    90% {\n",
              "      border-color: transparent;\n",
              "      border-bottom-color: var(--fill-color);\n",
              "    }\n",
              "  }\n",
              "</style>\n",
              "\n",
              "  <script>\n",
              "    async function quickchart(key) {\n",
              "      const quickchartButtonEl =\n",
              "        document.querySelector('#' + key + ' button');\n",
              "      quickchartButtonEl.disabled = true;  // To prevent multiple clicks.\n",
              "      quickchartButtonEl.classList.add('colab-df-spinner');\n",
              "      try {\n",
              "        const charts = await google.colab.kernel.invokeFunction(\n",
              "            'suggestCharts', [key], {});\n",
              "      } catch (error) {\n",
              "        console.error('Error during call to suggestCharts:', error);\n",
              "      }\n",
              "      quickchartButtonEl.classList.remove('colab-df-spinner');\n",
              "      quickchartButtonEl.classList.add('colab-df-quickchart-complete');\n",
              "    }\n",
              "    (() => {\n",
              "      let quickchartButtonEl =\n",
              "        document.querySelector('#df-ef429419-222c-41fa-bbdc-148733d32f01 button');\n",
              "      quickchartButtonEl.style.display =\n",
              "        google.colab.kernel.accessAllowed ? 'block' : 'none';\n",
              "    })();\n",
              "  </script>\n",
              "</div>\n",
              "\n",
              "    </div>\n",
              "  </div>\n"
            ],
            "application/vnd.google.colaboratory.intrinsic+json": {
              "type": "dataframe",
              "variable_name": "train_set",
              "summary": "{\n  \"name\": \"train_set\",\n  \"rows\": 357,\n  \"fields\": [\n    {\n      \"column\": \"data\",\n      \"properties\": {\n        \"dtype\": \"string\",\n        \"num_unique_values\": 357,\n        \"samples\": [\n          \"\\u0916\\u0923\\u094d\\u0921 \\u0938\\u0902\\u0916\\u094d\\u092f\\u093e \\u0928\\u0947\\u092a\\u093e\\u0932 \\u0930\\u093e\\u091c\\u092a\\u0924\\u094d\\u0930 \\u092d\\u093e\\u0917 \\u092e\\u093f\\u0924\\u093f \\u0928\\u0947\\u092a\\u093e\\u0932 \\u0938\\u0930\\u0915\\u093e\\u0930\\u0932\\u0947 \\u0938\\u093e\\u092e\\u093e\\u091c\\u093f\\u0915 \\u0938\\u0941\\u0930\\u0915\\u094d\\u0937\\u093e \\u0910\\u0928 \\u0926\\u092b\\u093e \\u0909\\u092a\\u0926\\u092b\\u093e \\u0905\\u0927\\u093f\\u0915\\u093e\\u0930 \\u092a\\u094d\\u0930\\u092f\\u094b\\u0917 \\u0928\\u0947\\u092a\\u093e\\u0932\\u0915\\u093e \\u0924\\u094d\\u0930\\u093f\\u092a\\u0928\\u094d\\u0928 \\u0938\\u094d\\u0925\\u093e\\u0928\\u0940\\u092f \\u0924\\u0939 \\u0926\\u0947\\u0939\\u093e\\u092f\\u0915\\u093e \\u0938\\u094d\\u0925\\u093e\\u0928\\u0940\\u092f \\u0924\\u0939\\u092e\\u093e \\u0926\\u0947\\u0939\\u093e\\u092f\\u0915\\u094b \\u092e\\u093f\\u0924\\u093f \\u0905\\u0928\\u093f\\u0935\\u093e\\u0930\\u094d\\u092f \\u0935\\u0948\\u094d\\u0915\\u093f\\u0919\\u094d\\u0917 \\u092a\\u094d\\u0930\\u0923\\u093e\\u0932\\u0940 \\u092e\\u093e\\u0930\\u094d\\u092b\\u0924 \\u0938\\u093e\\u092e\\u093e\\u091c\\u093f\\u0915 \\u0938\\u0941\\u0930\\u0915\\u094d\\u0937\\u093e \\u092d\\u0924\\u094d\\u0924\\u093e \\u0935\\u093f\\u0924\\u0930\\u0923 \\u0935\\u094d\\u092f\\u0935\\u0938\\u094d\\u0925\\u093e \\u0932\\u093e\\u0917\\u0942 \\u0928\\u093f\\u0930\\u094d\\u0923\\u092f \\u0917\\u0930\\u0947\\u0915\\u094b\\u0932\\u0947 \\u0938\\u0942\\u091a\\u0928\\u093e \\u092a\\u094d\\u0930\\u0915\\u093e\\u0936\\u0928 \\u0917\\u0930\\u093f\\u090f\\u0915\\u094b \\u0915 \\u0926\\u0947\\u0939\\u093e\\u092f\\u0915\\u093e \\u0938\\u094d\\u0925\\u093e\\u0928\\u0940\\u092f \\u0924\\u0939\\u092e\\u093e \\u092e\\u093f\\u0924\\u093f\",\n          \"\\u0928\\u092a\\u093e\\u0924\\u0928 \\u0938\\u0930\\u0915\\u093e\\u0930 \\u092b\\u092f\\u093e\\u0915\\u094d\\u092e \\u0936 \\u0948 \\u0926\\u092e \\u092a\\u0924\\u094d\\u0930 \\u0938\\u091e\\u094d\\u091a\\u094d\\u092f\\u093e \\u092a\\u092c\\u093e\\u0920\\u092a\\u0926\\u094b \\u092a\\u092d\\u0917\\u093e\\u092a \\u091a\\u0932\\u093e\\u0928\\u0940 \\u0928\\u092e\\u094d\\u092c\\u0930 \\u094d\\u094d\\u092a \\u0932\\u0932\\u093f\\u0924\\u092a\\u0941\\u0930 \\u092b\\u094b\\u0928 \\u092e\\u093f\\u0924\\u093f \\u0938\\u0942\\u091a\\u0928\\u093e \\u091c\\u093e\\u0928\\u0938\\u0915\\u094d\\u0928\\u0947 \\u092d\\u090f\\u0915\\u094b\\u0932\\u0947 \\u0935\\u093f\\u0936\\u0947\\u0937 \\u0909\\u091a\\u094d\\u091a \\u0938\\u0924\\u0930\\u094d\\u0915\\u0924\\u093e \\u0924\\u092f\\u093e\\u0930\\u0940 \\u0905\\u092a\\u0928\\u093e\\u0909\\u0928\\u0941 \\u0938\\u0930\\u094d\\u0935\\u0938\\u093e\\u0927\\u093e\\u0930\\u0923 \\u0938\\u0935\\u0948\\u092e\\u093e \\u0905\\u0928\\u0941\\u0930\\u094b\\u0927 \\u0917\\u0930\\u093f\\u0928\\u094d\\u091b\",\n          \"\\u0938\\u0930\\u094d\\u0935\\u093e\\u091a\\u094d\\u091a \\u0905\\u0926\\u093e\\u0932\\u0924 \\u0928\\u093f\\u092f\\u092e\\u093e\\u0935\\u0932\\u0940 \\u0928\\u0947\\u092a\\u093e\\u0932 \\u0930\\u093e\\u091c\\u092a\\u0924\\u094d\\u0930\\u092e\\u093e \\u092a\\u094d\\u0930\\u0915\\u093e\\u0936\\u093f\\u0924 \\u092e\\u093f\\u0924\\u093f \\u0938\\u0902\\u0936\\u094b\\u0927\\u0928 \\u0938\\u0930\\u094d\\u0935\\u094b\\u091a\\u094d\\u091a \\u0905\\u0926\\u093e\\u0932\\u0924 \\u0938\\u0902\\u0936\\u094b\\u0927\\u0928 \\u0928\\u093f\\u092f\\u092e\\u093e\\u0935\\u0932\\u0940 \\u0938\\u0930\\u094d\\u0935\\u094b\\u091a\\u094d\\u091a \\u0905\\u0926\\u093e\\u0932\\u0924 \\u0938\\u0902\\u0936\\u094b\\u0927\\u0928 \\u0928\\u093f\\u092f\\u092e\\u093e\\u0935\\u0932\\u0940 \\u0938\\u0930\\u094d\\u0935\\u093e\\u091a\\u094d\\u091a \\u0905\\u0926\\u093e\\u0932\\u0924 \\u0910\\u0928 \\u0926\\u092b\\u093e \\u0905\\u0927\\u093f\\u0915\\u093e\\u0930 \\u092a\\u094d\\u0930\\u092f\\u094b\\u0917 \\u0938\\u0930\\u094d\\u0935\\u094b\\u091a\\u094d\\u091a \\u0905\\u0926\\u093e\\u0932\\u0924\\u0932\\u0947 \\u0926\\u0947\\u0939\\u093e\\u092f\\u0915\\u093e \\u0928\\u093f\\u092f\\u092e\\u0939\\u0930\\u0942 \\u092c\\u0928\\u093e\\u090f\\u0915\\u094b \\u092a\\u0930\\u093f\\u091a\\u094d\\u091b\\u0947\\u0926 \\u092a\\u094d\\u0930\\u093e\\u0930\\u092e\\u094d\\u092d\\u093f\\u0915 \\u0938\\u0902\\u0915\\u094d\\u0937\\u093f\\u092a\\u094d\\u0924 \\u0928\\u093e\\u092e \\u092a\\u094d\\u0930\\u093e\\u0930\\u092e\\u094d\\u092d\\u0903 \\u0928\\u093f\\u092f\\u092e\\u0939\\u0930\\u0942\\u0915\\u094b \\u0928\\u093e\\u092e \\u0938\\u0930\\u094d\\u0935\\u094b\\u091a\\u094d\\u091a \\u0905\\u0926\\u093e\\u0932\\u0924 \\u0928\\u093f\\u092f\\u092e\\u093e\\u0935\\u0932\\u0940 \\u0928\\u093f\\u092f\\u092e\\u093e\\u0935\\u0932\\u0940 \\u092a\\u094d\\u0930\\u093e\\u0930\\u092e\\u094d\\u092d \\u092a\\u0930\\u093f\\u092d\\u093e\\u0937\\u093e\\u0903 \\u0935\\u093f\\u0937\\u092f \\u092a\\u094d\\u0930\\u0938\\u0919\\u094d\\u0917\\u0932\\u0947 \\u0905\\u0930\\u094d\\u0925 \\u0928\\u0932\\u093e\\u0917\\u0947\\u092e\\u093e \\u0928\\u093f\\u092f\\u092e\\u093e\\u0935\\u0932\\u0940\\u092e\\u093e \\u0915 \\u0916 \\u0917 \\u0921 \\u0907\\u091c\\u0932\\u093e\\u0938 \\u092d\\u0928\\u094d\\u0928\\u093e\\u0932\\u0947 \\u0928\\u093f\\u092f\\u092e \\u092c\\u092e\\u094b\\u091c\\u093f\\u092e\\u0915\\u094b \\u0938\\u0902\\u0935\\u0948\\u0927\\u093e\\u0928\\u093f\\u0915 \\u0907\\u091c\\u0932\\u093e\\u0938 \\u092c\\u0943\\u0939\\u0924\\u094d \\u092a\\u0942\\u0930\\u094d\\u0923 \\u0938\\u092e\\u094d\\u091d\\u0928\\u0941 \\u0910\\u0928 \\u092d\\u0928\\u094d\\u0928\\u093e\\u0932\\u0947 \\u0938\\u0930\\u094d\\u0935\\u094b\\u091a\\u094d\\u091a \\u0905\\u0926\\u093e\\u0932\\u0924 \\u0910\\u0928 \\u0938\\u092e\\u094d\\u091d\\u0928\\u0941 \\u0915\\u093e\\u0928\\u0942\\u0928 \\u0935\\u094d\\u092f\\u0935\\u0938\\u093e\\u092f\\u0940 \\u092d\\u0928\\u094d\\u0928\\u093e\\u0932\\u0947 \\u0928\\u0947\\u092a\\u093e\\u0932 \\u0915\\u093e\\u0928\\u0942\\u0928 \\u0935\\u094d\\u092f\\u0935\\u0938\\u093e\\u092f\\u0940 \\u092a\\u0930\\u093f\\u092a\\u0926\\u094d \\u0910\\u0928 \\u092c\\u092e\\u094b\\u091c\\u093f\\u092e\\u0915\\u094b \\u0935\\u0930\\u093f\\u0937\\u094d\\u0920 \\u0905\\u0927\\u093f\\u0935\\u0915\\u094d\\u0924\\u093e \\u0905\\u0927\\u093f\\u0935\\u0915\\u094d\\u0924\\u093e \\u0938\\u092e\\u094d\\u091d\\u0928\\u0941 \\u0928\\u093f\\u0930\\u094d\\u0926\\u0947\\u0936\\u0928\\u093e\\u0932\\u092f \\u092d\\u0928\\u094d\\u0928\\u093e\\u0932\\u0947 \\u0928\\u093f\\u092f\\u092e \\u092c\\u092e\\u094b\\u091c\\u093f\\u092e\\u0915\\u094b \\u092b\\u0948\\u0938\\u0932\\u093e \\u0915\\u093e\\u0930\\u094d\\u092f\\u093e\\u0928\\u094d\\u0935\\u092f\\u0928 \\u0928\\u093f\\u0930\\u094d\\u0926\\u0947\\u0936\\u0928\\u093e\\u0932\\u092f \\u0938\\u092e\\u094d\\u091d\\u0928\\u0941\"\n        ],\n        \"semantic_type\": \"\",\n        \"description\": \"\"\n      }\n    },\n    {\n      \"column\": \"label\",\n      \"properties\": {\n        \"dtype\": \"number\",\n        \"std\": 1,\n        \"min\": 0,\n        \"max\": 3,\n        \"num_unique_values\": 4,\n        \"samples\": [\n          2,\n          1,\n          0\n        ],\n        \"semantic_type\": \"\",\n        \"description\": \"\"\n      }\n    }\n  ]\n}"
            }
          },
          "metadata": {},
          "execution_count": 9
        }
      ]
    },
    {
      "cell_type": "code",
      "source": [
        "train_set['data'][0]"
      ],
      "metadata": {
        "colab": {
          "base_uri": "https://localhost:8080/",
          "height": 87
        },
        "id": "pFW1oA4sUFnw",
        "outputId": "43a1b266-c7ce-433e-ccf6-6242c1c8a5db"
      },
      "execution_count": null,
      "outputs": [
        {
          "output_type": "execute_result",
          "data": {
            "text/plain": [
              "'त्रिभुवन विश्वविद्यालय विज्ञान प्रविधि अध्ययन संस्थान एकौ डीनको कार्यालय परीक्षा शाखा बल्खु सेमेष्टर परीक्षा प्रणाली वर्षे स्नातक तह विज्ञान विषयमा सालको नर्यां विदयार्थी भर्नाका प्रवेश परीक्षा सम्बन्धी संशोधित सुनना तरभुवन विश्वविद्यालय अन्तर्गतका आगिक न्याम्पस सम्वन्धन प्राप्त कलेजहरुमा सेमेष्टर परीक्षा परभाला शा पठन पाठन विज्ञान वर्षे स्नातक तह कम्प्यूटर विज्ञान सूचना प्रविधि विषयमा भर्ना इच्छुक विद्यार्थीहरुको निमित्त सालको निम्नानुसारको प्रवेश परीक्षा नया भर्ना सम्बन्धी संशौधित कार्यकम प्रकाशित गरिएको आवैदनको न्यूनतम यौग्यता क उच्च माध्यमिक माध्यमिक विद्यालयबाट विज्ञान विषय भौतिक शास्त्र गणित विषय पूगार िए परलेक विषपररमा भासत भ स व्रा ख गरेडिई प्रणाली हंकमा उच्च माध्यमिक माध्यमिक विद्यालयबाट यिज्ञान विषय ौलक गाल गगत निषय ससमा पूगप निद सीताण ब स हुनुपर्ने ग त्रिविवा यसवाट मान्यता प्राप्त शिक्षण संस्थाबाट प्रविणता प्रमाण पत्र तह सरहको ान विषयमा मौतिक शास्त्र गणित विषय कम्तिमा पूर्णाइ लिई कम्तिमा ॥ विज्ञान विषयमा भौतिक शास्त्र गणित विषय कम्तिमा पूर्णाइ लिई कम्तिमा ा फा ठा पाप डाी ट प्राप्त हुनुपर्ने घ ङ ऐट्वाइ विषयमा भौतिक शास्त्र गणित विषय कम्तिमा पूर्णाङ लिई कम्तिमा श्रेणीमा उत्तीर्ण हुनुपर्ने चविदेशी शैक्षिक संस्था विदेशी विश्वविद्यालयबाट प्राप्त शैक्षिक यौग्यताको हकमा पाठमक विकास केन्द्र सानोठिमी भक्तपुरबाट समकक्षता प्राप्त कागजात पेश गर्नुपर्ने आवैदन प्रक्रिया ॥ क विज्ञान प्रविधि अध्ययन संस्थानको वैवसाइट ॥ राखिएको प्रवेश परीक्षाको आवेदन फारम आवेदक स्वयम्ले वैवसाइट माफत गर्नुपर्ने ख फारम गते विहान बजे उपलब्ध ग आवदन फारम सुविधा स्थानबाट तोकिएका दिनहरुमा समयमा'"
            ],
            "application/vnd.google.colaboratory.intrinsic+json": {
              "type": "string"
            }
          },
          "metadata": {},
          "execution_count": 10
        }
      ]
    },
    {
      "cell_type": "code",
      "source": [
        "encoded_label = train_set['label'][0]\n",
        "class_name = label_encoder.inverse_transform([encoded_label])[0]\n",
        "\n",
        "print(f\"Encoded Label: {encoded_label}\")\n",
        "print(f\"Class: {class_name}\")"
      ],
      "metadata": {
        "colab": {
          "base_uri": "https://localhost:8080/"
        },
        "id": "IRFyOlsyda3G",
        "outputId": "b8152410-f3db-43fc-fc52-84f1267307bb"
      },
      "execution_count": null,
      "outputs": [
        {
          "output_type": "stream",
          "name": "stdout",
          "text": [
            "Encoded Label: 0\n",
            "Class: Education\n"
          ]
        }
      ]
    },
    {
      "cell_type": "code",
      "source": [
        "val_set = pd.read_csv(\"/content/preprocessed_val.csv\")\n",
        "val_set.head(5)"
      ],
      "metadata": {
        "colab": {
          "base_uri": "https://localhost:8080/",
          "height": 206
        },
        "id": "1Ps74_dWrHJv",
        "outputId": "239a19b5-4d91-4746-8bf4-64d44cb8de3e"
      },
      "execution_count": null,
      "outputs": [
        {
          "output_type": "execute_result",
          "data": {
            "text/plain": [
              "                                                data  label\n",
              "0  नेपाल सरकार जिल्ला प्रशासन कार्यालय ललितपुर सव...      3\n",
              "1  नेपाल सरकार गृह मन्त्रालय जिल्ला प्रशासन कार्य...      1\n",
              "2  नेपाल सरकार गृह मन्त्रालय जिल्ला प्रशासन कार्य...      1\n",
              "3  त्रिभुवन विश्वविद्यालय विज्ञान प्रविधि अध्ययन ...      0\n",
              "4  मिति लघुअनुसन्धान अनुदानको नतिजा प्रकाशन गरिएक...      0"
            ],
            "text/html": [
              "\n",
              "  <div id=\"df-379f633d-ef84-4181-9c68-b8b5c1c307da\" class=\"colab-df-container\">\n",
              "    <div>\n",
              "<style scoped>\n",
              "    .dataframe tbody tr th:only-of-type {\n",
              "        vertical-align: middle;\n",
              "    }\n",
              "\n",
              "    .dataframe tbody tr th {\n",
              "        vertical-align: top;\n",
              "    }\n",
              "\n",
              "    .dataframe thead th {\n",
              "        text-align: right;\n",
              "    }\n",
              "</style>\n",
              "<table border=\"1\" class=\"dataframe\">\n",
              "  <thead>\n",
              "    <tr style=\"text-align: right;\">\n",
              "      <th></th>\n",
              "      <th>data</th>\n",
              "      <th>label</th>\n",
              "    </tr>\n",
              "  </thead>\n",
              "  <tbody>\n",
              "    <tr>\n",
              "      <th>0</th>\n",
              "      <td>नेपाल सरकार जिल्ला प्रशासन कार्यालय ललितपुर सव...</td>\n",
              "      <td>3</td>\n",
              "    </tr>\n",
              "    <tr>\n",
              "      <th>1</th>\n",
              "      <td>नेपाल सरकार गृह मन्त्रालय जिल्ला प्रशासन कार्य...</td>\n",
              "      <td>1</td>\n",
              "    </tr>\n",
              "    <tr>\n",
              "      <th>2</th>\n",
              "      <td>नेपाल सरकार गृह मन्त्रालय जिल्ला प्रशासन कार्य...</td>\n",
              "      <td>1</td>\n",
              "    </tr>\n",
              "    <tr>\n",
              "      <th>3</th>\n",
              "      <td>त्रिभुवन विश्वविद्यालय विज्ञान प्रविधि अध्ययन ...</td>\n",
              "      <td>0</td>\n",
              "    </tr>\n",
              "    <tr>\n",
              "      <th>4</th>\n",
              "      <td>मिति लघुअनुसन्धान अनुदानको नतिजा प्रकाशन गरिएक...</td>\n",
              "      <td>0</td>\n",
              "    </tr>\n",
              "  </tbody>\n",
              "</table>\n",
              "</div>\n",
              "    <div class=\"colab-df-buttons\">\n",
              "\n",
              "  <div class=\"colab-df-container\">\n",
              "    <button class=\"colab-df-convert\" onclick=\"convertToInteractive('df-379f633d-ef84-4181-9c68-b8b5c1c307da')\"\n",
              "            title=\"Convert this dataframe to an interactive table.\"\n",
              "            style=\"display:none;\">\n",
              "\n",
              "  <svg xmlns=\"http://www.w3.org/2000/svg\" height=\"24px\" viewBox=\"0 -960 960 960\">\n",
              "    <path d=\"M120-120v-720h720v720H120Zm60-500h600v-160H180v160Zm220 220h160v-160H400v160Zm0 220h160v-160H400v160ZM180-400h160v-160H180v160Zm440 0h160v-160H620v160ZM180-180h160v-160H180v160Zm440 0h160v-160H620v160Z\"/>\n",
              "  </svg>\n",
              "    </button>\n",
              "\n",
              "  <style>\n",
              "    .colab-df-container {\n",
              "      display:flex;\n",
              "      gap: 12px;\n",
              "    }\n",
              "\n",
              "    .colab-df-convert {\n",
              "      background-color: #E8F0FE;\n",
              "      border: none;\n",
              "      border-radius: 50%;\n",
              "      cursor: pointer;\n",
              "      display: none;\n",
              "      fill: #1967D2;\n",
              "      height: 32px;\n",
              "      padding: 0 0 0 0;\n",
              "      width: 32px;\n",
              "    }\n",
              "\n",
              "    .colab-df-convert:hover {\n",
              "      background-color: #E2EBFA;\n",
              "      box-shadow: 0px 1px 2px rgba(60, 64, 67, 0.3), 0px 1px 3px 1px rgba(60, 64, 67, 0.15);\n",
              "      fill: #174EA6;\n",
              "    }\n",
              "\n",
              "    .colab-df-buttons div {\n",
              "      margin-bottom: 4px;\n",
              "    }\n",
              "\n",
              "    [theme=dark] .colab-df-convert {\n",
              "      background-color: #3B4455;\n",
              "      fill: #D2E3FC;\n",
              "    }\n",
              "\n",
              "    [theme=dark] .colab-df-convert:hover {\n",
              "      background-color: #434B5C;\n",
              "      box-shadow: 0px 1px 3px 1px rgba(0, 0, 0, 0.15);\n",
              "      filter: drop-shadow(0px 1px 2px rgba(0, 0, 0, 0.3));\n",
              "      fill: #FFFFFF;\n",
              "    }\n",
              "  </style>\n",
              "\n",
              "    <script>\n",
              "      const buttonEl =\n",
              "        document.querySelector('#df-379f633d-ef84-4181-9c68-b8b5c1c307da button.colab-df-convert');\n",
              "      buttonEl.style.display =\n",
              "        google.colab.kernel.accessAllowed ? 'block' : 'none';\n",
              "\n",
              "      async function convertToInteractive(key) {\n",
              "        const element = document.querySelector('#df-379f633d-ef84-4181-9c68-b8b5c1c307da');\n",
              "        const dataTable =\n",
              "          await google.colab.kernel.invokeFunction('convertToInteractive',\n",
              "                                                    [key], {});\n",
              "        if (!dataTable) return;\n",
              "\n",
              "        const docLinkHtml = 'Like what you see? Visit the ' +\n",
              "          '<a target=\"_blank\" href=https://colab.research.google.com/notebooks/data_table.ipynb>data table notebook</a>'\n",
              "          + ' to learn more about interactive tables.';\n",
              "        element.innerHTML = '';\n",
              "        dataTable['output_type'] = 'display_data';\n",
              "        await google.colab.output.renderOutput(dataTable, element);\n",
              "        const docLink = document.createElement('div');\n",
              "        docLink.innerHTML = docLinkHtml;\n",
              "        element.appendChild(docLink);\n",
              "      }\n",
              "    </script>\n",
              "  </div>\n",
              "\n",
              "\n",
              "<div id=\"df-9dbf3a6d-e0aa-4289-9e56-e554ca46e9c1\">\n",
              "  <button class=\"colab-df-quickchart\" onclick=\"quickchart('df-9dbf3a6d-e0aa-4289-9e56-e554ca46e9c1')\"\n",
              "            title=\"Suggest charts\"\n",
              "            style=\"display:none;\">\n",
              "\n",
              "<svg xmlns=\"http://www.w3.org/2000/svg\" height=\"24px\"viewBox=\"0 0 24 24\"\n",
              "     width=\"24px\">\n",
              "    <g>\n",
              "        <path d=\"M19 3H5c-1.1 0-2 .9-2 2v14c0 1.1.9 2 2 2h14c1.1 0 2-.9 2-2V5c0-1.1-.9-2-2-2zM9 17H7v-7h2v7zm4 0h-2V7h2v10zm4 0h-2v-4h2v4z\"/>\n",
              "    </g>\n",
              "</svg>\n",
              "  </button>\n",
              "\n",
              "<style>\n",
              "  .colab-df-quickchart {\n",
              "      --bg-color: #E8F0FE;\n",
              "      --fill-color: #1967D2;\n",
              "      --hover-bg-color: #E2EBFA;\n",
              "      --hover-fill-color: #174EA6;\n",
              "      --disabled-fill-color: #AAA;\n",
              "      --disabled-bg-color: #DDD;\n",
              "  }\n",
              "\n",
              "  [theme=dark] .colab-df-quickchart {\n",
              "      --bg-color: #3B4455;\n",
              "      --fill-color: #D2E3FC;\n",
              "      --hover-bg-color: #434B5C;\n",
              "      --hover-fill-color: #FFFFFF;\n",
              "      --disabled-bg-color: #3B4455;\n",
              "      --disabled-fill-color: #666;\n",
              "  }\n",
              "\n",
              "  .colab-df-quickchart {\n",
              "    background-color: var(--bg-color);\n",
              "    border: none;\n",
              "    border-radius: 50%;\n",
              "    cursor: pointer;\n",
              "    display: none;\n",
              "    fill: var(--fill-color);\n",
              "    height: 32px;\n",
              "    padding: 0;\n",
              "    width: 32px;\n",
              "  }\n",
              "\n",
              "  .colab-df-quickchart:hover {\n",
              "    background-color: var(--hover-bg-color);\n",
              "    box-shadow: 0 1px 2px rgba(60, 64, 67, 0.3), 0 1px 3px 1px rgba(60, 64, 67, 0.15);\n",
              "    fill: var(--button-hover-fill-color);\n",
              "  }\n",
              "\n",
              "  .colab-df-quickchart-complete:disabled,\n",
              "  .colab-df-quickchart-complete:disabled:hover {\n",
              "    background-color: var(--disabled-bg-color);\n",
              "    fill: var(--disabled-fill-color);\n",
              "    box-shadow: none;\n",
              "  }\n",
              "\n",
              "  .colab-df-spinner {\n",
              "    border: 2px solid var(--fill-color);\n",
              "    border-color: transparent;\n",
              "    border-bottom-color: var(--fill-color);\n",
              "    animation:\n",
              "      spin 1s steps(1) infinite;\n",
              "  }\n",
              "\n",
              "  @keyframes spin {\n",
              "    0% {\n",
              "      border-color: transparent;\n",
              "      border-bottom-color: var(--fill-color);\n",
              "      border-left-color: var(--fill-color);\n",
              "    }\n",
              "    20% {\n",
              "      border-color: transparent;\n",
              "      border-left-color: var(--fill-color);\n",
              "      border-top-color: var(--fill-color);\n",
              "    }\n",
              "    30% {\n",
              "      border-color: transparent;\n",
              "      border-left-color: var(--fill-color);\n",
              "      border-top-color: var(--fill-color);\n",
              "      border-right-color: var(--fill-color);\n",
              "    }\n",
              "    40% {\n",
              "      border-color: transparent;\n",
              "      border-right-color: var(--fill-color);\n",
              "      border-top-color: var(--fill-color);\n",
              "    }\n",
              "    60% {\n",
              "      border-color: transparent;\n",
              "      border-right-color: var(--fill-color);\n",
              "    }\n",
              "    80% {\n",
              "      border-color: transparent;\n",
              "      border-right-color: var(--fill-color);\n",
              "      border-bottom-color: var(--fill-color);\n",
              "    }\n",
              "    90% {\n",
              "      border-color: transparent;\n",
              "      border-bottom-color: var(--fill-color);\n",
              "    }\n",
              "  }\n",
              "</style>\n",
              "\n",
              "  <script>\n",
              "    async function quickchart(key) {\n",
              "      const quickchartButtonEl =\n",
              "        document.querySelector('#' + key + ' button');\n",
              "      quickchartButtonEl.disabled = true;  // To prevent multiple clicks.\n",
              "      quickchartButtonEl.classList.add('colab-df-spinner');\n",
              "      try {\n",
              "        const charts = await google.colab.kernel.invokeFunction(\n",
              "            'suggestCharts', [key], {});\n",
              "      } catch (error) {\n",
              "        console.error('Error during call to suggestCharts:', error);\n",
              "      }\n",
              "      quickchartButtonEl.classList.remove('colab-df-spinner');\n",
              "      quickchartButtonEl.classList.add('colab-df-quickchart-complete');\n",
              "    }\n",
              "    (() => {\n",
              "      let quickchartButtonEl =\n",
              "        document.querySelector('#df-9dbf3a6d-e0aa-4289-9e56-e554ca46e9c1 button');\n",
              "      quickchartButtonEl.style.display =\n",
              "        google.colab.kernel.accessAllowed ? 'block' : 'none';\n",
              "    })();\n",
              "  </script>\n",
              "</div>\n",
              "\n",
              "    </div>\n",
              "  </div>\n"
            ],
            "application/vnd.google.colaboratory.intrinsic+json": {
              "type": "dataframe",
              "variable_name": "val_set",
              "summary": "{\n  \"name\": \"val_set\",\n  \"rows\": 40,\n  \"fields\": [\n    {\n      \"column\": \"data\",\n      \"properties\": {\n        \"dtype\": \"string\",\n        \"num_unique_values\": 40,\n        \"samples\": [\n          \"\\u092b\\u094b\\u0928 \\u0928\\u0902 \\u092c\\u092c\\u0930\\u092e\\u0939\\u0932 \\u0915\\u093e\\u0920\\u092e\\u093e\\u0921\\u094c\\u0902 \\u0928\\u0947\\u092a\\u093e\\u0932 \\u0928\\u0947\\u092a\\u093e\\u0932\\u0940 \\u092e\\u0939\\u093f\\u0932\\u093e\\u0939\\u0930\\u0941\\u0915\\u094b \\u092e\\u0939\\u093e\\u0928 \\u092a\\u0930\\u094d\\u0935 \\u0939\\u0930\\u093f\\u0924\\u093e\\u0932\\u093f\\u0915\\u093e \\u0924\\u093f\\u091c\\u0915\\u094b \\u0909\\u092a\\u0932\\u0915\\u094d\\u0937\\u094d\\u092f\\u092e\\u093e \\u0938\\u092e\\u094d\\u092a\\u0942\\u0930\\u094d\\u0923 \\u092e\\u0939\\u093f\\u0932\\u093e \\u0926\\u093f\\u0926\\u0940 \\u092c\\u0939\\u093f\\u0928\\u0940\\u0939\\u0930\\u0941\\u092e\\u093e \\u0939\\u093e\\u0930\\u094d\\u0926\\u093f\\u0915 \\u092e\\u0902\\u0917\\u0932\\u092e\\u092f \\u0936\\u0941\\u092d\\u0915\\u093e\\u092e\\u0928\\u093e \\u0935\\u094d\\u092f\\u0915\\u094d\\u0924 \\u0917\\u0930\\u094d\\u0926\\u091b\\u094c \\u0935\\u093f\\u0917\\u0924\\u0915\\u094b \\u0924\\u0941\\u0932\\u0928\\u093e\\u092e\\u093e \\u0939\\u093e\\u0932\\u0915\\u093e \\u0935\\u0930\\u094d\\u0937\\u0939\\u0930\\u0941\\u092e\\u093e \\u0924\\u093f\\u091c \\u092e\\u0928\\u093e\\u0909\\u0928\\u0947 \\u0915\\u094d\\u0930\\u092e\\u092e\\u093e \\u0905\\u0928\\u093e\\u0935\\u0936\\u094d\\u092f\\u0915 \\u0924\\u0921\\u0915 \\u092d\\u0921\\u0915 \\u0938\\u0939\\u093f\\u0924\\u0915\\u093e \\u0916\\u0930\\u094d\\u091a\\u093f\\u0932\\u093e \\u0915\\u093e\\u0930\\u094d\\u092f\\u0915\\u0930\\u092e\\u0939\\u0930\\u0941 \\u092c\\u0922\\u094d\\u0926\\u0948 \\u0926\\u0947\\u0916\\u093f\\u090f\\u0915\\u094b \\u0938\\u093e\\u092e\\u093e\\u091c\\u093f\\u0915 \\u0935\\u094d\\u092f\\u0935\\u0939\\u093e\\u0930 \\u0938\\u0941\\u0927\\u093e\\u0930 \\u0910\\u0928 \\u0938\\u093e\\u092e\\u093e\\u091c\\u093f\\u0915 \\u0935\\u094d\\u092f\\u0935\\u0939\\u093e\\u0930 \\u0938\\u0941\\u0927\\u093e\\u0930 \\u0928\\u093f\\u092f\\u092e\\u093e\\u0935\\u0932\\u0940 \\u0927\\u093e\\u0930\\u094d\\u092e\\u093f\\u0915 \\u0938\\u093e\\u092e\\u093e\\u091c\\u093f\\u0915 \\u0938\\u093e\\u0901\\u0938\\u094d\\u0915\\u0943\\u0924\\u093f\\u0915 \\u092a\\u0930\\u094d\\u0935\\u0939\\u0930\\u0941 \\u092e\\u0928\\u093e\\u0909\\u0928\\u0947 \\u0935\\u093f\\u0937\\u092f\\u0932\\u093e\\u0908 \\u0935\\u094d\\u092f\\u0935\\u0938\\u094d\\u0925\\u093f\\u0924 \\u0928\\u093f\\u092f\\u092e\\u0928 \\u0935\\u093f\\u0926\\u093f\\u0924\\u0948 \\u0924\\u0938\\u0930\\u094d\\u0925 \\u092a\\u0930\\u092e\\u094d\\u092a\\u0930\\u093e \\u090f\\u0935\\u092e\\u094d \\u0938\\u093e\\u092e\\u093e\\u091c\\u093f\\u0915 \\u0930\\u093f\\u0924\\u093f\\u0930\\u093f\\u0935\\u093e\\u091c\\u0932\\u093e\\u0908 \\u092e\\u094c\\u0932\\u093f\\u0915 \\u0938\\u0902\\u0930\\u0915\\u094d\\u0937\\u0923 \\u0938\\u0902\\u0935\\u0930\\u094d\\u0926\\u094d\\u0927\\u0928 \\u0916\\u093e\\u0932\\u0915\\u093e \\u0924\\u093f\\u091c\\u0938\\u0901\\u0917 \\u0938\\u092e\\u094d\\u0935\\u0928\\u094d\\u0927\\u093f\\u0924 \\u0916\\u0930\\u094d\\u091a\\u093f\\u0932\\u093e \\u090f\\u0935\\u092e\\u094d \\u092d\\u0921\\u094d\\u0915\\u093f\\u0932\\u094b \\u0915\\u093e\\u0930\\u094d\\u092f\\u0915\\u0930\\u092e \\u0938\\u091e\\u094d\\u091a\\u093e\\u0932\\u0928 \\u0928\\u0917\\u0930\\u094d\\u0928\\u0941\\u0928\\u0917\\u0930\\u093e\\u0909\\u0928\\u0941 \\u0939\\u093e\\u0930\\u094d\\u0926\\u093f\\u0915 \\u0905\\u0928\\u0941\\u0930\\u094b\\u0927 \\u092a\\u0930\\u094d\\u0935 \\u092e\\u0928\\u093e\\u0909\\u0928\\u0947 \\u0938\\u0928\\u094d\\u0926\\u0930\\u094d\\u092d\\u092e\\u093e \\u0905\\u0928\\u093e\\u0935\\u0936\\u094d\\u092f\\u0915 \\u0924\\u0921\\u0915 \\u092d\\u0921\\u0915 \\u092b\\u091c\\u0941\\u0932 \\u0916\\u0930\\u094d\\u091a \\u0928\\u093f\\u092f\\u0928\\u094d\\u0924\\u094d\\u0930\\u0923 \\u0905\\u0938\\u0932 \\u0938\\u0902\\u0938\\u094d\\u0915\\u093e\\u0930\\u0915\\u094b \\u0935\\u093f\\u0915\\u093e\\u0938 \\u091c\\u093e\\u0928\\u0941 \\u0915\\u0930\\u094d\\u0924\\u0935\\u094d\\u092f \\u092d\\u090f\\u0915\\u094b\\u0932\\u0947 \\u0915\\u093e\\u0930\\u094d\\u092f\\u092e\\u093e \\u0938\\u092e\\u094d\\u092a\\u0942\\u0930\\u094d\\u0923 \\u091c\\u093f\\u0932\\u094d\\u0932\\u093e\\u0935\\u093e\\u0938\\u0940\\u0939\\u0930\\u0941\\u092c\\u093e\\u091f \\u0938\\u0939\\u092f\\u094b\\u0917\\u0915\\u094b \\u0905\\u092a\\u0947\\u0915\\u094d\\u0937\\u093e \\u0917\\u0930\\u093f\\u090f\\u0915\\u094b \\u0905\\u0928\\u093e\\u0935\\u0936\\u094d\\u092f\\u0915 \\u0924\\u0921\\u0915\\u092d\\u0921\\u0915 \\u0916\\u0930\\u094d\\u091a\\u093f\\u0932\\u094b \\u0924\\u093f\\u091c\\u0915\\u093e \\u0915\\u093e\\u0930\\u094d\\u092f\\u0915\\u094d\\u0930\\u092e\\u0939\\u0930\\u0941\\u0915\\u094b \\u0906\\u092f\\u094b\\u091c\\u0928\\u093e \\u0917\\u0930\\u0947\\u0917\\u0930\\u093e\\u090f\\u092e\\u093e \\u0924\\u094d\\u092f\\u0938\\u094d\\u0924\\u093e \\u0917\\u0924\\u093f\\u0935\\u093f\\u0927\\u093f\\u0939\\u0930\\u0941\\u0915\\u094b \\u0928\\u093f\\u0917\\u0930\\u093e\\u0928\\u0940 \\u0915\\u093e\\u0928\\u0942\\u0928 \\u092c\\u092e\\u094b\\u091c\\u093f\\u092e \\u0915\\u093e\\u0930\\u0935\\u093e\\u0939\\u0940 \\u0935\\u094d\\u092f\\u0939\\u094b\\u0930\\u093e \\u092f\\u0938\\u0948 \\u0938\\u0942\\u091a\\u0928\\u093e\\u0926\\u094d\\u0935\\u093e\\u0930\\u093e \\u0938\\u0935\\u0948\\u092e\\u093e \\u091c\\u093e\\u0928\\u0915\\u093e\\u0930\\u0940 \\u0917\\u0930\\u093e\\u0907\\u090f\\u0915\\u094b \\u092e\\u093f\\u0924\\u093f\",\n          \"\\u0935\\u093f\\u091c\\u094d\\u091e\\u093e\\u0928 \\u0926\\u092f\\u093e \\u0936\\u0935\\u093f\\u0927\\u093f \\u092c\\u094d\\u0925\\u0941\\u0927\\u094d\\u092f\\u0915\\u094d\\u0915\\u0928 \\u0938\\u0938\\u094d\\u0925\\u093e\\u0928 \\u0936\\u093e\\u0916\\u093e \\u0938\\u0947\\u092e\\u0947\\u0937\\u094d\\u091f\\u0930 \\u092a\\u0930\\u0940\\u0915\\u094d\\u0937\\u093e \\u092a\\u094d\\u0930\\u0923\\u093e\\u0932\\u0940 \\u0935\\u0930\\u094d\\u0937 \\u0938\\u094d\\u0928\\u093e\\u0924\\u0915 \\u0924\\u0939 \\u092a\\u093f \\u0935\\u093f\\u0937\\u092f \\u0935\\u0930\\u094d\\u0937 \\u0936\\u0924\\u094d\\u0930 \\u092a\\u0930\\u0940\\u0915\\u094d\\u0937\\u093e \\u0906\\u0935\\u0947\\u0926\\u0928 \\u092b\\u093e\\u0930\\u093e\\u092e \\u092e\\u0930\\u094d\\u0928\\u0947 \\u0938\\u092e\\u094d\\u092c\\u0928\\u094d\\u0927\\u0940 \\u0924\\u094d\\u0930\\u093f\\u092d\\u0941\\u0935\\u0928 \\u0935\\u093f\\u0936\\u094d\\u0935\\u0935\\u093f\\u0926\\u094d\\u092f\\u093e\\u0932\\u092f \\u0935\\u093f\\u091c\\u094d\\u091e\\u093e\\u0928 \\u092a\\u094d\\u0930\\u0935\\u093f\\u0927\\u093f \\u0905\\u0927\\u094d\\u092f\\u092f\\u0928 \\u0938\\u0902\\u0938\\u094d\\u0925\\u093e\\u0928 \\u0921\\u0940\\u0928\\u0915\\u094b \\u0915\\u093e\\u0930\\u094d\\u092f\\u093e\\u0932\\u092f \\u092a\\u0930\\u0940\\u0915\\u094d\\u0937 \\u0905 \\u0938\\u094d\\u0928\\u093e\\u0924\\u0915 \\u0938\\u0947\\u092e\\u0947\\u0937\\u094d\\u091f\\u0930 \\u092a\\u0930\\u0940\\u0915\\u094d\\u0937\\u093e \\u092a\\u094d\\u0930\\u0923\\u093e\\u0932\\u0940 \\u0925\\u093e \\u0938\\u093e\\u0932\\u092e\\u093e \\u0938\\u0902\\u091a\\u093e\\u0932\\u0928 \\u0935\\u0930\\u094d\\u0937\\u0947 \\u0938\\u094d\\u0928\\u093e\\u0924\\u0915 \\u0924\\u0939 \\u093f \\u0935\\u093f\\u0937\\u092f \\u0935\\u0930\\u094d\\u0937 \\u0936\\u0924\\u094d\\u0930 \\u0938\\u092e\\u0942\\u0939\\u0915\\u094b \\u0924\\u0939 \\u0936\\u0924\\u094d\\u0930\\u0915\\u094b \\u0905\\u0917\\u093e\\u0921\\u093f\\u0915\\u093e \\u0938\\u092e\\u0942\\u0939\\u0915\\u094b \\u0906\\u0936\\u093f\\u0915 \\u092a\\u0930\\u0940\\u0915\\u094d\\u0937\\u093e\\u0915\\u094b \\u092a\\u0930\\u0940\\u0915\\u094d\\u0937\\u093e \\u0906\\u0935\\u0948\\u0926\\u0928 \\u092b\\u093e\\u0930 \\u0928\\u093f\\u092e\\u093f\\u0924 \\u0917\\u0924\\u0947 \\u0935\\u0941\\u091d\\u093e\\u0909\\u0928 \\u0938\\u0942\\u091a\\u0928\\u093e \\u092a\\u094d\\u0930\\u0915\\u093e\\u0936\\u093f\\u0924 \\u0917\\u0930\\u093f\\u090f\\u0915\\u094b \\u0938\\u092e\\u094d\\u092c\\u0928\\u094d\\u0927\\u093f\\u0924 \\u0915\\u094d\\u092f\\u093e\\u092e\\u094d\\u092a\\u0938\\u0939\\u0930\\u0941\\u0932\\u0947 \\u092b\\u093e\\u0930\\u093e\\u092e \\u0930\\u0940 \\u092d\\u093f\\u0924\\u093f \\u0938\\u093e\\u0932 \\u0936\\u094d\\u0930\\u093e\\u0935\\u0923 \\u0917\\u0924\\u0947 \\u0915\\u093e\\u0930\\u094d\\u092f\\u093e\\u0932\\u092f\\u092e\\u093e \\u0905\\u0928\\u093f\\u0935\\u093e\\u0930\\u094d\\u092f \\u092c\\u0941\\u091d\\u093e\\u0909\\u0928\\u0941 \\u092a\\u0930\\u094d\\u0928\\u0947\\u091b \\u092a\\u0930\\u0940\\u0915\\u094d\\u0937\\u093e\\u0930\\u094d\\u0925\\u0940\\u0939\\u0930\\u0941\\u0915\\u094b \\u092b\\u093e\\u0930\\u093e\\u092e \\u092a\\u0920\\u093e\\u0909\\u0902\\u0926\\u093e \\u0938\\u092e\\u094d\\u092c\\u094d\\u0927\\u093f\\u0924 \\u0915\\u094d\\u092f\\u093e\\u092e\\u094d\\u092a\\u0938\\u0939\\u0930\\u0941\\u0932\\u0947 \\u0927\\u094d\\u092f\\u093e\\u0928 \\u0926\\u093f\\u0928\\u0941 \\u0915\\u094d\\u0930\\u093e\\u0939\\u0930\\u0941 \\u0915 \\u0915\\u094b\\u091f\\u093e \\u0938\\u092e\\u094d\\u092c\\u0928\\u094d\\u0927\\u092e\\u093e \\u0938\\u094d\\u0935\\u0940\\u0915\\u0943\\u0924 \\u0915\\u094b\\u091f\\u093e\\u0915\\u094b \\u092a\\u094d\\u0930\\u092e\\u093e\\u0923 \\u092b\\u093e\\u0930\\u093e\\u092e \\u092a\\u0920\\u093e\\u0909\\u0928\\u0941 \\u0915\\u094b\\u091f\\u093e \\u0935\\u0922\\u093f \\u0935\\u093f\\u0926\\u094d\\u092f\\u093e\\u0930\\u094d\\u0925\\u0940\\u0915\\u094b \\u092b\\u093e\\u0930\\u093e\\u092e \\u0928\\u092a\\u0920\\u093e\\u0909\\u0928\\u0947 \\u0916 \\u092a\\u0930\\u0940\\u0915\\u094d\\u0937\\u093e\\u0930\\u094d\\u0925\\u0940\\u0915\\u094b \\u0939\\u093e\\u091c\\u093f\\u0930\\u0940 \\u0906\\u0928\\u094d\\u0924\\u0930\\u093f\\u0915 \\u092e\\u0942\\u0932\\u094d\\u092f\\u093e\\u0902\\u0915\\u0928 \\u0935\\u093f\\u0937\\u092f\\u0917\\u0924 \\u0938\\u0902\\u0916\\u094d\\u092f\\u093e \\u092a\\u0930\\u0940\\u0915\\u094d\\u0937\\u093e\\u0930\\u094d\\u0925\\u0940\\u0939\\u0930\\u0941\\u0915\\u094b \\u0939\\u093e\\u091c\\u093f\\u0930\\u0940 \\u0924\\u094d\\u0930\\u093f\\u0935\\u093f \\u0928\\u093f\\u092f\\u092e\\u093e\\u0928\\u0941\\u0938\\u093e\\u0930 \\u092a\\u0930\\u0940\\u0915\\u094d\\u0937\\u093e \\u092b\\u093e\\u0930\\u093e\\u092e\\u092e\\u093e \\u0909\\u0932\\u094d\\u0932\\u0947\\u0916 \\u092a\\u0930\\u094d\\u0928\\u0947\\u091b \\u092e\\u0942\\u0932\\u094d\\u092f\\u093e\\u0915\\u0928\\u0915\\u094b \\u092a\\u094d\\u0930\\u093e\\u092a\\u094d\\u0924\\u093e\\u0915 \\u092a\\u0930\\u0940\\u0915\\u094d\\u0937\\u093e \\u0906\\u0935\\u0947\\u0926\\u0928 \\u092b\\u093e\\u0930\\u093e\\u092e\\u092e\\u093e \\u0909\\u0932\\u094d\\u0932\\u0947\\u0916 \\u0917\\u0930\\u094d\\u0928\\u0941\\u0915\\u093e \\u0938\\u093e\\u0927\\u0948 \\u091b\\u0941\\u091f\\u091f\\u093e \\u091b\\u0941\\u091f\\u0948 \\u0928\\u093e\\u092e\\u093e\\u0935\\u0924\\u0940 \\u092a\\u0920\\u093e\\u0909\\u0928\\u0941 \\u092a\\u0930\\u094d\\u0928\\u0947\\u091b \\u092e\\u0942\\u0932\\u094d\\u092f\\u093e\\u0902\\u0915\\u0928 \\u092a\\u0920\\u093e\\u0909\\u0928\\u0941 \\u092a\\u0930\\u094d\\u0928\\u0947\\u091b \\u0906\\u0928\\u094d\\u092f\\u0930\\u093f\\u0915 \\u092e\\u0942\\u0932\\u094d\\u092f\\u093e\\u0915\\u0928 \\u0905\\u0928\\u0941\\u0924\\u0924\\u0940\\u0930\\u094d\\u0923 \\u0935\\u093f\\u092a\\u092f\\u0915\\u094b \\u092a\\u0930\\u0940\\u0915\\u094d\\u0937\\u093e \\u092b\\u093e\\u0930\\u093e\\u092e \\u0928\\u092d\\u0930\\u093e\\u0909\\u0928\\u0947 \\u092f\\u0926\\u0940 \\u092a\\u0930\\u0940\\u0915\\u094d\\u0937\\u093e \\u092b\\u093e\\u0930\\u093e\\u092e \\u092a\\u0930\\u0940\\u0915\\u094d\\u0937\\u093e \\u0926\\u093f\\u090f\\u092e\\u093e \\u0935\\u093f\\u0937\\u092f\\u0915\\u094b \\u092a\\u0930\\u0940\\u0915\\u094d\\u0937\\u093e \\u0938\\u094d\\u0935\\u0924 \\u0930\\u0926\\u094d\\u0926 \\u092a\\u0930\\u0940\\u0915\\u094d\\u0937\\u093e\\u092e\\u093e \\u0938\\u092e\\u094d\\u092e\\u093f\\u0932\\u093f\\u0924 \\u092a\\u0930\\u0940\\u0915\\u094d\\u0937\\u093e\\u0930\\u094d\\u0925\\u0940\\u0939\\u0930\\u0941\\u0915\\u094b \\u0935\\u093f\\u0937\\u092f\\u0917\\u0924 \\u0938\\u0902\\u0916\\u094d\\u092f\\u093e \\u092a\\u0930\\u0940\\u0915\\u094d\\u0937\\u093e \\u0906\\u0935\\u0947\\u0926\\u0928 \\u092b\\u093e\\u0930\\u093e\\u092e \\u092a\\u0920\\u093e\\u0909\\u0928\\u0941 \\u092a\\u0930\\u094d\\u0928\\u0947\\u091b \\u092a\\u0930\\u0940\\u0915\\u094d\\u0937\\u093e \\u0936\\u0941\\u0932\\u094d\\u0915 \\u092a\\u0930\\u0940\\u0915\\u094d\\u0937\\u093e \\u0936\\u0941\\u0932\\u094d\\u0915 \\u0928\\u093f\\u092f\\u092e\\u093f\\u0924 \\u0906\\u0901\\u0936\\u093f\\u0915 \\u0935\\u093f\\u0932\\u092e\\u094d\\u0935 \\u0936\\u0941\\u0932\\u094d\\u0915 \\u092a\\u0930\\u0940\\u0915\\u094d\\u0937\\u093e \\u092b\\u093e\\u0930\\u093e\\u092e \\u092d\\u0930\\u094d\\u0928\\u0947 \\u092e\\u094d\\u092f\\u093e\\u0926 \\u092d\\u0941\\u0915\\u094d\\u0924\\u093e\\u0928 \\u092e\\u093f\\u0924\\u093f\\u0932\\u0947 \\u0939\\u092a\\u094d\\u0924\\u093e \\u0930\\u0941 \\u092a\\u0930\\u0940\\u0915\\u094d\\u0937\\u093e \\u0936\\u0941\\u0932\\u094d\\u0915 \\u092c\\u0941\\u091d\\u093e\\u0909\\u0928\\u0947 \\u0938\\u092e\\u094d\\u092c\\u0928\\u094d\\u0927\\u092e\\u093e \\u0915\\u0940\\u0924\\u093f\\u092a\\u0941\\u0930 \\u0928\\u0947\\u092a\\u093e\\u0932 \\u092c\\u0948\\u0902\\u0915 \\u0932\\u093f\\u0915\\u094b \\u091a\\u0932\\u094d\\u0924\\u0940 \\u0939\\u093f\\u0938\\u093e\\u0935 \\u0928\\u0902 \\u0930\\u0915\\u092e \\u091c\\u092e\\u094d\\u092e \\u092a\\u0920\\u093e\\u0909\\u0928\\u0941\",\n          \"\\u0928\\u0947\\u092a\\u093e\\u0932 \\u0938\\u0930\\u0915\\u093e\\u0930 \\u092b\\u094b\\u0928 \\u0928\\u0902 \\u092c\\u092c\\u0930\\u092e\\u0939\\u0932 \\u0915\\u093e\\u0920\\u092e\\u093e\\u0921\\u094c\\u0902 \\u0928\\u0947\\u092a\\u093e\\u0932\\u0928 \\u092a\\u0938 \\u092e\\u093f\\u0924\\u093f \\u091a\\u0928\\u0902 \\u0928\\u0947\\u0917\\u0941\\u0923\\u093e \\u0928\\u0947\\u0938 \\u0935\\u091b\\u094d\\u0932\\u093e\\u0925\\u094d\\u0935 \\u0935\\u093f\\u0939\\u0940\\u0935\\u093e\\u0930 \\u0938\\u093e\\u0930\\u094d\\u0935\\u091c\\u0928\\u093f\\u0915 \\u0938\\u0942\\u091a\\u0928\\u093e \\u0938\\u092e\\u092f\\u0926\\u0947\\u0916\\u093f \\u0930\\u093e\\u0937\\u094d\\u091f\\u094d\\u0930\\u093f\\u092f \\u092a\\u0930\\u093f\\u091a\\u092f\\u092a\\u0924\\u094d\\u0930\\u0915\\u094b \\u0935\\u093f\\u0935\\u0930\\u0923 \\u0926\\u0930\\u094d\\u0924\\u093e\\u092e\\u093e \\u0926\\u0947\\u0916\\u093f\\u090f\\u0915\\u094b \\u0938\\u0947\\u0935\\u093e\\u0917\\u094d\\u0930\\u093e\\u0939\\u0940\\u0915\\u094b \\u091a\\u093e\\u092a\\u0932\\u093e\\u0908 \\u092e\\u0927\\u094d\\u092f\\u0928\\u091c\\u0930 \\u0905\\u0938\\u0915\\u094d\\u0924 \\u0935\\u094d\\u092f\\u0935\\u0938\\u094d\\u0925\\u093e \\u0915\\u094b\\u0920\\u093e \\u0928\\u0902 \\u0938\\u0947\\u0935\\u093e \\u092a\\u094d\\u0930\\u0935\\u093e\\u0939 \\u0935\\u094d\\u092f\\u0939\\u094b\\u0930\\u093e \\u091c\\u093e\\u0928\\u0915\\u093e\\u0930\\u0940\\u0915\\u094b \\u0938\\u0942\\u091a\\u0928\\u093e \\u092a\\u094d\\u0930\\u0915\\u093e\\u0936\\u0928 \\u0917\\u0930\\u093f\\u090f\\u0915\\u094b \\u0938\\u0947\\u0935\\u093e\\u0917\\u094d\\u0930\\u093e\\u0939\\u0940\\u0939\\u0930\\u0941\\u0915\\u094b \\u0905\\u0928\\u0932\\u093e\\u0908\\u0928 \\u092b\\u093e\\u0930\\u092e\\u092e\\u093e \\u092e\\u093f\\u0924\\u093f \\u092a\\u093e\\u0932\\u094b \\u092a\\u093e\\u0909\\u0928\\u0947 \\u0935\\u094d\\u092f\\u0924\\u094d\\u0930\\u0938\\u094d\\u0925\\u093e \\u0905\\u0928\\u0932\\u093e\\u0908\\u0928 \\u092b\\u093e\\u0930\\u092e\\u092e\\u093e \\u0909\\u0932\\u094d\\u0932\\u0947\\u0916 \\u092e\\u093f\\u0924\\u093f \\u0915\\u093e\\u0930\\u094d\\u092f\\u093e\\u0932\\u092f\\u092e\\u093e \\u0909\\u092a\\u0938\\u094d\\u0925\\u093f\\u0924 \\u092d\\u0908 \\u0938\\u0947\\u0935\\u093e \\u0932\\u093f\\u0928 \\u0905\\u0928\\u0941\\u0930\\u094b\\u0927 \\u0935\\u092d\\u0915\\u0937\\u093e\\u0935\\u092a \\u091c\\u093f\\u0932\\u094d\\u0932\\u093e \\u092a\\u094d\\u0930\\u0936\\u093e\\u0938\\u0928 \\u0915\\u093e\\u0930\\u094d\\u092f\\u093e\\u0932\\u092f \\u0915\\u093e\\u0920\\u092e\\u093e\\u0921\\u094c\\u0902\"\n        ],\n        \"semantic_type\": \"\",\n        \"description\": \"\"\n      }\n    },\n    {\n      \"column\": \"label\",\n      \"properties\": {\n        \"dtype\": \"number\",\n        \"std\": 1,\n        \"min\": 0,\n        \"max\": 3,\n        \"num_unique_values\": 4,\n        \"samples\": [\n          1,\n          2,\n          3\n        ],\n        \"semantic_type\": \"\",\n        \"description\": \"\"\n      }\n    }\n  ]\n}"
            }
          },
          "metadata": {},
          "execution_count": 12
        }
      ]
    },
    {
      "cell_type": "code",
      "source": [
        "print(\"Missing values in training dataset:\")\n",
        "print(train_dataset.isnull().sum())\n",
        "\n",
        "print(\"Missing values in validation dataset:\")\n",
        "print(validation_dataset.isnull().sum())"
      ],
      "metadata": {
        "colab": {
          "base_uri": "https://localhost:8080/"
        },
        "id": "z44yRGuNrccU",
        "outputId": "df71f9ff-3f7c-4861-d93d-f7e32b6b817f"
      },
      "execution_count": null,
      "outputs": [
        {
          "output_type": "stream",
          "name": "stdout",
          "text": [
            "Missing values in training dataset:\n",
            "data     0\n",
            "label    0\n",
            "dtype: int64\n",
            "Missing values in validation dataset:\n",
            "data     0\n",
            "label    0\n",
            "dtype: int64\n"
          ]
        }
      ]
    },
    {
      "cell_type": "code",
      "source": [
        "print(\"Number of duplicate rows in training dataset:\")\n",
        "print(train_dataset.duplicated().sum())\n",
        "\n",
        "print(\"Number of duplicate rows in validation dataset:\")\n",
        "print(validation_dataset.duplicated().sum())"
      ],
      "metadata": {
        "id": "-1kl2O_3wouz",
        "colab": {
          "base_uri": "https://localhost:8080/"
        },
        "outputId": "4677bc7b-b565-44dd-cb59-6e05f55e038b"
      },
      "execution_count": null,
      "outputs": [
        {
          "output_type": "stream",
          "name": "stdout",
          "text": [
            "Number of duplicate rows in training dataset:\n",
            "0\n",
            "Number of duplicate rows in validation dataset:\n",
            "0\n"
          ]
        }
      ]
    },
    {
      "cell_type": "code",
      "source": [
        "print(\"Class distribution in training dataset:\")\n",
        "print(train_dataset['label'].value_counts())\n",
        "\n",
        "print(\"Class distribution in validation dataset:\")\n",
        "print(validation_dataset['label'].value_counts())"
      ],
      "metadata": {
        "colab": {
          "base_uri": "https://localhost:8080/"
        },
        "id": "Wnag9k3qrcet",
        "outputId": "92486d7d-f0c9-4636-eeee-eb8be3379f0c"
      },
      "execution_count": null,
      "outputs": [
        {
          "output_type": "stream",
          "name": "stdout",
          "text": [
            "Class distribution in training dataset:\n",
            "label\n",
            "1    92\n",
            "2    89\n",
            "3    89\n",
            "0    87\n",
            "Name: count, dtype: int64\n",
            "Class distribution in validation dataset:\n",
            "label\n",
            "0    13\n",
            "2    10\n",
            "3     9\n",
            "1     8\n",
            "Name: count, dtype: int64\n"
          ]
        }
      ]
    },
    {
      "cell_type": "code",
      "source": [
        "fig, axes = plt.subplots(1, 2, figsize=(15, 5))\n",
        "\n",
        "train_dataset['label'].value_counts().plot(kind='bar', ax=axes[0])\n",
        "axes[0].set_title('Label Distribution in Training Dataset')\n",
        "axes[0].set_xlabel('Label')\n",
        "axes[0].set_ylabel('Count')\n",
        "\n",
        "validation_dataset['label'].value_counts().plot(kind='bar', ax=axes[1])\n",
        "axes[1].set_title('Label Distribution in Validation Dataset')\n",
        "axes[1].set_xlabel('Label')\n",
        "axes[1].set_ylabel('Count')\n",
        "\n",
        "plt.tight_layout()\n",
        "\n",
        "plt.show()"
      ],
      "metadata": {
        "colab": {
          "base_uri": "https://localhost:8080/",
          "height": 507
        },
        "id": "JYt3ykYHUW5y",
        "outputId": "fd61fdcd-9484-4cae-afe8-7fd22d8b95fd"
      },
      "execution_count": null,
      "outputs": [
        {
          "output_type": "display_data",
          "data": {
            "text/plain": [
              "<Figure size 1500x500 with 2 Axes>"
            ],
            "image/png": "[encoded data removed]"
          },
          "metadata": {}
        }
      ]
    },
    {
      "cell_type": "code",
      "source": [
        "train_dataset['text_length'] = train_dataset['data'].apply(len)\n",
        "print(\"Text length statistics in training dataset:\")\n",
        "print(train_dataset['text_length'].describe())"
      ],
      "metadata": {
        "colab": {
          "base_uri": "https://localhost:8080/"
        },
        "id": "P4Sri3q4rpqT",
        "outputId": "7aa14e67-281b-48f5-b719-e840577c3404"
      },
      "execution_count": null,
      "outputs": [
        {
          "output_type": "stream",
          "name": "stdout",
          "text": [
            "Text length statistics in training dataset:\n",
            "count     357.000000\n",
            "mean      673.221289\n",
            "std       388.399690\n",
            "min       105.000000\n",
            "25%       423.000000\n",
            "50%       566.000000\n",
            "75%       752.000000\n",
            "max      2442.000000\n",
            "Name: text_length, dtype: float64\n"
          ]
        }
      ]
    },
    {
      "cell_type": "markdown",
      "source": [
        "There are 357 text samples in the training dataset.\n",
        "The average length of the text samples is 673.\n",
        "388 dispersion from mean.\n",
        "The shortest text length in the train set is 105.\n",
        "The longest text length in the train set is 2442."
      ],
      "metadata": {
        "id": "_C8WkNnlw63g"
      }
    },
    {
      "cell_type": "code",
      "source": [
        "validation_dataset['text_length'] = validation_dataset['data'].apply(len)\n",
        "print(\"Text length statistics in validation dataset:\")\n",
        "print(validation_dataset['text_length'].describe())"
      ],
      "metadata": {
        "colab": {
          "base_uri": "https://localhost:8080/"
        },
        "id": "GSTX1UlKUgQa",
        "outputId": "4303278f-ee30-45f5-c5e1-56b828f5af7e"
      },
      "execution_count": null,
      "outputs": [
        {
          "output_type": "stream",
          "name": "stdout",
          "text": [
            "Text length statistics in validation dataset:\n",
            "count      40.000000\n",
            "mean      729.850000\n",
            "std       457.427845\n",
            "min       256.000000\n",
            "25%       420.250000\n",
            "50%       643.000000\n",
            "75%       862.000000\n",
            "max      2763.000000\n",
            "Name: text_length, dtype: float64\n"
          ]
        }
      ]
    },
    {
      "cell_type": "markdown",
      "source": [
        "# Tokenizer and vocabulary"
      ],
      "metadata": {
        "id": "V_u-s51NeaEu"
      }
    },
    {
      "cell_type": "code",
      "source": [
        "# Custom tokenizer using nepalikit\n",
        "tokenizer = Tokenizer()\n",
        "\n",
        "class CustomTokenizer:\n",
        "    def __init__(self, tokenizer, vocab=None):\n",
        "        self.tokenizer = tokenizer\n",
        "        self.vocab = vocab if vocab else {}\n",
        "\n",
        "    def build_vocab(self, texts):\n",
        "        # 0 and 1 index will be used for reserved tokens\n",
        "        index = 2\n",
        "        self.vocab['<PAD>'] = 0\n",
        "        self.vocab['<UNK>'] = 1\n",
        "        for text in texts:\n",
        "            tokens = self.tokenizer.tokenize(text, level = 'word')\n",
        "            for token in tokens:\n",
        "                if token not in self.vocab:\n",
        "                    self.vocab[token] = index\n",
        "                    index += 1\n",
        "\n",
        "    def encode(self, text, max_length):\n",
        "        tokens = self.tokenizer.tokenize(text)\n",
        "        token_ids = [self.vocab.get(token, self.vocab['<UNK>']) for token in tokens]\n",
        "        # Padding to ensure consistency\n",
        "        token_ids = token_ids[:max_length] + [self.vocab['<PAD>']] * (max_length - len(token_ids))\n",
        "        return token_ids\n",
        "\n",
        "texts = initial_dataset['data'].tolist()\n",
        "\n",
        "# Building vocabulary from the texts\n",
        "custom_tokenizer = CustomTokenizer(tokenizer)\n",
        "custom_tokenizer.build_vocab(texts)"
      ],
      "metadata": {
        "id": "tA5MOFu3onNp"
      },
      "execution_count": null,
      "outputs": []
    },
    {
      "cell_type": "code",
      "source": [
        "print(f\"Vocabulary size: {len(custom_tokenizer.vocab)}\")"
      ],
      "metadata": {
        "colab": {
          "base_uri": "https://localhost:8080/"
        },
        "id": "CToFmNrCVCKb",
        "outputId": "3dc0d84d-f45c-4386-d859-52f1c80dfc28"
      },
      "execution_count": null,
      "outputs": [
        {
          "output_type": "stream",
          "name": "stdout",
          "text": [
            "Vocabulary size: 7191\n"
          ]
        }
      ]
    },
    {
      "cell_type": "code",
      "source": [
        "# Printing some sample tokens and corresponding indices from the vocabulary\n",
        "print(\"Sample tokens from vocabulary:\")\n",
        "for token, idx in list(custom_tokenizer.vocab.items())[:10]:\n",
        "    print(f\"Token: {token}, Index: {idx}\")"
      ],
      "metadata": {
        "colab": {
          "base_uri": "https://localhost:8080/"
        },
        "id": "UnXkmK0dtbCf",
        "outputId": "55f73f7f-bbd5-4bb7-d2a6-df45523072a9"
      },
      "execution_count": null,
      "outputs": [
        {
          "output_type": "stream",
          "name": "stdout",
          "text": [
            "Sample tokens from vocabulary:\n",
            "Token: <PAD>, Index: 0\n",
            "Token: <UNK>, Index: 1\n",
            "Token: स्नातक, Index: 2\n",
            "Token: तह, Index: 3\n",
            "Token: विज्ञान, Index: 4\n",
            "Token: प्रविधि, Index: 5\n",
            "Token: विषय, Index: 6\n",
            "Token: चौथो्षाई, Index: 7\n",
            "Token: अरदी, Index: 8\n",
            "Token: शत्र, Index: 9\n"
          ]
        }
      ]
    },
    {
      "cell_type": "markdown",
      "source": [
        "Verifying Tokenizer"
      ],
      "metadata": {
        "id": "8FfhXesHVjAO"
      }
    },
    {
      "cell_type": "code",
      "source": [
        "sample_text = texts[0]\n",
        "\n",
        "# Encoding the sample text\n",
        "encoded_text = custom_tokenizer.encode(sample_text, max_length=50)\n",
        "print(f\"Sample text: {sample_text}\")\n",
        "print(f\"Encoded text: {encoded_text}\")\n",
        "\n",
        "# Decoding back\n",
        "def decode(tokens, vocab):\n",
        "    inv_vocab = {idx: token for token, idx in vocab.items()}\n",
        "    return ' '.join([inv_vocab.get(idx, '<UNK>') for idx in tokens])\n",
        "\n",
        "print(f\"Decoded text: {decode(encoded_text, custom_tokenizer.vocab)}\")"
      ],
      "metadata": {
        "colab": {
          "base_uri": "https://localhost:8080/"
        },
        "id": "fl-XTQqZtbFO",
        "outputId": "3a969901-b69f-4386-cda8-9773a879d61c"
      },
      "execution_count": null,
      "outputs": [
        {
          "output_type": "stream",
          "name": "stdout",
          "text": [
            "Sample text: स्नातक तह विज्ञान प्रविधि विषय चौथो्षाई अरदी शत्र त्रिभुवन विश्वविद्यालय विज्ञान प्रविधि अध्ययन संस्थान डीनको कार्यालय परीक्षा शाखा बल्खुवाट सेमेष्टर परीक्षा प्रणाली संचालन गरिने वर्षे स्नातक तह कम्प्यूटर विज्ञान सूचना प्रविधि विषय वर्ष आठौं शत्र समूहको नियमित शत्रको अगाडिका समूहको आशिक परीक्षार्थीहरुको मिति गते संचालन परीक्षाको परीक्षा केन्द्र तोकिएकोले सम्बन्धित सवैको जानकारीको सूचना प्रकाशित गरिएको क काठमाडौं बर्नहार्ट कलेज बाफल केन्द्र पाटन संयुक्त क्याम्पस प्राइम कलेज डीरवाक इन्स्टीच्यूट अफ टेक्नोलोजी एकेडेमिया इन्टरनेशनल कलेज हिमालय कलेज अफ इन्जिनियरिङ्ग नेपालय कलेज एशियन कलेज अफ हाईयर स्टडीजका सम्पूर्ण परीक्षार्थीहरु ख नेपालय कलेज कलंकी केन्द्र अमृत क्याम्पस एम्विशन कलेज नेशनल कलेज अफ कम्प्यूटर स्टडीज संगरमाथा कलेज अफ साइन्स एण्ड टेक्नोलोजी नागार्जुना कलेज अफ हइन्फरमेशन टेक्नोलोजी एशियन स्कूल अफ ग संमृद्धि कलेज लोकन्थली भक्तपुर केन्द्र भक्तपुर बहुमुखी क्याम्पस क्याथफोर्ड इन्टरनेशनल कलेज अफ इन्जिनियरिङ्ग एण्ड म्यानेजमेन्ट सेन्ट लरेन्स कलेज कलेज अफ एप्लाईड बिजनेस बेदास कलेज टेक्सास इन्टरनेशनल कलेज स्वष्तिक कलेज काठमाडौं कलेज अफ टेक्नोलोजी निष्ट कलेजका सम्पूर्ण परीक्षार्थीहरु घ एम्बिशन कलेज वानेश्वर केन्द्र पद्कन्या बहुमुखी क्याम्पस सेन्ट जेभियर्स कलेज न्यू समिट कलेज काठमाडौं वर्नहार्ट कलेज अर्किङ इन्टरनेशनल कलेज मदन भण्डारी मेमोरियल कलेज ट्विनिटी इन्टरनेशनल कलैज संमृद्धि कलेजका सम्पूर्ण परीक्षार्थीहरु ङ डिगी क्याम्पस विराटनगर केन्द्र महेन्द्र मोरङ्ग आदर्श बहुमुखी क्याम्पस विराट मल्टिपल कलेज एम्स कलेज हिमालय दर्शन कलेज विराट क्षितिज कलेज निहारीका कलेजका सम्पूर्ण परीक्षार्थीहरु च केन्द्रीय प्रविधि क्याम्पस धरान केन्द्र वीरेन्द्र मेमोरियल कलेज गोदावरी कलेजका सम्पूर्ण परीक्षार्थीहरु मेची वहुमुखी क्याम्पस मेची केन्द्र मेची बहुमुखी क्याम्पसका सम्पूर्ण परीक्षार्थीहरु ज दमक वहमुखी क्याम्पस दमक केन्द्र श्रीयन्त्र कलेजका सम्पूर्ण परीक्षार्थीहरु झ रामस्वरुप रामसागर बहमुखी क्याम्पस जनकपुर केन्द्र रामस्वरुप रामसागर वहुमुखी क्याम्पसका सम्पूर्ण परीक्षार्थीहरु ब मकवानपुर वहुमुखी क्याम्पस हेटौंडा केन्द्र हेटौंडा सिटी कलेजका सम्पूर्ण परीक्षार्थीहरु ट ठाक्रराम वहुमुखी क्याम्पस वीरगञ्ज केन्द्र नेशनल इन्फोटेक कलेजका सम्पूर्ण परीक्षार्थीहरु ठ वीरेन्द्र वहुमुखी क्याम्पस भरतपुर केन्द्र वीरेन्द्र वहुमुखी क्याम्पस चितवन कलेज अफ टेक्नोलोजी लुम्वीनी आईसिटि क्याम्पसका सम्पूर्ण परीक्षार्थीहरु ड पृथ्वीनारायण क्याम्पस पोखरा केन्द्र पृथ्वीनारायण क्याम्पस माउण्ट अन्नपूर्ण क्याम्पस सोच कलेजका सम्पूर्ण परीक्षार्थीहरु ढ वुटवल वहुमुखी क्याम्पस वुटवल केन्द्र वुटवल वहुमुखी क्याम्पस लुम्विनी सिटी कलेज नेपथ्य कलेजका सम्पूर्ण परीक्षार्थीहरु ण भैरहवा वहुमुखी क्याम्पस भैरहवा केन्द्र भैरहवा बहुमुखी क्याम्पसका सम्पूर्ण परीक्षार्थीहरु महेन्द्र वहुमुखी क्याम्पस नेपालगञ्ज केन्द्र महेन्द्र बहुमुखी क्याम्पस नेपालगञ्ज क्याम्पस वाँकै वागेश्वरी कलैजका सम्पूर्ण परीक्षार्थीहरु थ महेन्द्र वहुमुखी क्याम्पस दाङ्ग केन्द्र अम्विकेश्वरी क्याम्पसका सम्पूर्ण परीक्षार्थीहरु\n",
            "Encoded text: [2, 3, 4, 5, 6, 7, 8, 9, 10, 11, 4, 5, 12, 13, 14, 15, 16, 17, 18, 19, 16, 20, 21, 22, 23, 2, 3, 24, 4, 25, 5, 6, 26, 27, 9, 28, 29, 30, 31, 28, 32, 33, 34, 35, 21, 36, 16, 37, 38, 39]\n",
            "Decoded text: स्नातक तह विज्ञान प्रविधि विषय चौथो्षाई अरदी शत्र त्रिभुवन विश्वविद्यालय विज्ञान प्रविधि अध्ययन संस्थान डीनको कार्यालय परीक्षा शाखा बल्खुवाट सेमेष्टर परीक्षा प्रणाली संचालन गरिने वर्षे स्नातक तह कम्प्यूटर विज्ञान सूचना प्रविधि विषय वर्ष आठौं शत्र समूहको नियमित शत्रको अगाडिका समूहको आशिक परीक्षार्थीहरुको मिति गते संचालन परीक्षाको परीक्षा केन्द्र तोकिएकोले सम्बन्धित\n"
          ]
        }
      ]
    },
    {
      "cell_type": "code",
      "source": [
        "# Printing sample text and corresponding encoding with label\n",
        "\n",
        "for _ in range(3):\n",
        "    idx = random.randint(0, len(texts) - 1)\n",
        "    encoded_label = initial_dataset['label'].iloc[idx]\n",
        "    class_name = label_encoder.inverse_transform([encoded_label])[0]\n",
        "    print(f\"Sample text: {texts[idx]}\")\n",
        "    print(f\"Encoded text: {custom_tokenizer.encode(texts[idx], max_length=50)}\")\n",
        "    print(f\"Class: {class_name}\")\n",
        "    print(\"-\" * 50)"
      ],
      "metadata": {
        "id": "e0kLzEx9tbP0",
        "colab": {
          "base_uri": "https://localhost:8080/"
        },
        "outputId": "42e48127-4178-44b9-f04c-22db7864a25e"
      },
      "execution_count": null,
      "outputs": [
        {
          "output_type": "stream",
          "name": "stdout",
          "text": [
            "Sample text: प्रशासन त्रिभुवन विश्वविद्यालय छलेखा भक्तपुर बहुमुखी क्याम्पस विविए ा दि एस्ती ति एस आई टि दुधपाटी भक्तपुर नेपाल पत्र संख्या चनं मिति सूचना विषय आवश्यक कागजपत्र अनिबार्य पेश वारे उपरोक्त सम्बन्धमा व्यवस्थापन संकाय डीन कार्यालयको निर्देशन बमोजिम सरकारी विद्यालयबाट उतिर्ण विद्यार्थीहरुले पाउनैत्रि वि कार्यकारी परिपदबाट पारित पूर्ण पालना बनौट गर्नका आवश्यक सम्पुण सरकारी विद्यालय सरकारी उच्च मावि अनिबार्य पेश गर्नुपर्नेछ क्याम्पस प्रशासन जवाफदेही सरकारी विद्यालयबाट उतिर्ण विद्यार्थीहरुले नियमानुसारको छात्रवृति कोटामा अध्ययन गर्नका लागी छुटै फाराम भरेर मर्ना आबेदन फाराम बुझाउनु पुनश्व छात्रवृत्ति प्राप्त सफल विद्यार्थीहरुले त्रि बि व्यवस्थापन संकाय डीन कार्यालयको परीक्षा नियन्त्रण महाशाखाबाट लिइने बोर्ड परीक्षा अनिवार्य नियमित उतिर्ण अनुतिर्ण अनिबार्य तिर्नु बोधार्थ लेखा शाखा भक्तपुर बहुस्खी क्यास्पस स्वतन्त्र किद्यार्थी यनियन मक्तपर बहुसूखी क्यास्पस सक पनुव\n",
            "Encoded text: [1474, 10, 11, 2010, 82, 83, 51, 1473, 233, 1408, 2011, 1796, 1477, 931, 2012, 2013, 82, 238, 181, 182, 2014, 34, 25, 6, 933, 2015, 1955, 1077, 1320, 677, 554, 1817, 1158, 340, 310, 974, 785, 2016, 804, 2017, 937, 2018, 898, 1281, 2019, 1284, 851, 1110, 2020, 1580]\n",
            "Class: Education\n",
            "--------------------------------------------------\n",
            "Sample text: सार्वजनिक बिदा सम्बन्धी सूचना नेपाल राजपत्रमा मिति गतेका प्रकाशित सूचना इस्लाम धर्मालम्बीहरुको पर्व बकर ईद ईद उल अजहा विसं साल असार गते बिहीबारका सार्वजनिक बिदा दिने निर्णय हुँदा सम्बन्धित संबैको जानकारीको सूचना प्रकाशित गरिएको केदारनाथ शर्मा मिति सहसचिवप्रवक्ता\n",
            "Encoded text: [2468, 2125, 284, 25, 238, 3450, 34, 4590, 42, 25, 3116, 4591, 3286, 4592, 4583, 4583, 4584, 4585, 2507, 214, 215, 35, 2223, 2468, 2125, 1147, 564, 1333, 39, 4593, 41, 25, 42, 43, 4594, 4595, 34, 2516, 0, 0, 0, 0, 0, 0, 0, 0, 0, 0, 0, 0]\n",
            "Class: Press Release\n",
            "--------------------------------------------------\n",
            "Sample text: पत्र सख्या य मिति विषय नागरिकता सिफोरिकष सम्बन्धमा भक्तपुर नेपाल नागरिकता ऐन संशोधन बनेको ऐन नेपाल नागरिकता ऐनको संशोधन सम्मानीत सर्वोच्च अदालतबाट आदेश भएपछि ऐन कार्यान्वयन तहाँ स्थानीय तहबाट सम्बन्धित वडा सिफारिश लगाउनु अनुरोध नागरिकता सम्बन्धी किसिमको गलत सिफारिश भएमा प्रचलित नागरिकता ऐन बमोजिम कारबाही व्यहोरा तहाँ बडाअध्यक्षहरुलाई जानकारी गराई दिनुहुन अनुरोध रु टिकटसहित अनुसूची बमोजिम सिफारिश बाबु आमा दुबैको नेपाली नागरिकताको प्रमाण पत्र जारी सक्कल जन्मदर्ताहस्तलिखित जन्मदर्तालाई स्थानीय पश्चिकाधिकारीको कार्यालयको अभिलेख प्रविष्टि प्रतिलिपि शैक्षिक योग्यताको प्रमाण पत्र परिवारका सदस्यहरुको नाम थर नागरिकता अम्बर जन्मदर्ता नम्बर नाता उल्लेख बाबु आमा निवेदकको फोटो टाँस पारिवारिक विवरण नाता प्रमाणित एकाघरको सदस्यको नाममा विद्युतको बील खानेपानी उपभो बील घरसहितको एकीकृत सम्पत्ति कर तिरेको रसिद उल्लेखित प्रमाणपत्रहरु पेश खण्डमा स्थायी बसोबास आधार मिति विवरण खुलाई स्थायी बसोबास प्रमाणित बुबा आमाबीच विवाह बसाई सराई हकमा बसाई सराई दर्ताको प्रमाणपत्र अनलाईनमा बसाई सराई विवाहित महिलाको हकमा नागरिकता विवाह टोलीले सोको निस्सा निवेदकसँग सरकारी कागजातप्रमाणपत्र नोट नागरिकता आवेदन दिने व्यक्तिले उल्लेखित कागजातको सक्कल लिई कार्यालयमा उपस्थित पर्नेछ प्राप्त निवेदन उपर आवश्यकता छानवीन प्रहरी सर्जमिन गोप्य प्रतिवेदन बुझि नागरिकता विवरण व्यहोरा अनुरोध\n",
            "Encoded text: [181, 921, 2218, 34, 6, 1140, 3140, 554, 82, 238, 1140, 2660, 1366, 3141, 2660, 238, 1140, 3142, 1366, 3143, 3144, 3145, 2889, 3146, 2660, 3147, 3148, 2460, 3149, 39, 2642, 3150, 3151, 1163, 1140, 284, 3152, 3153, 3150, 1317, 3031, 1140, 2660, 785, 3154, 188, 3148, 3155, 789, 577]\n",
            "Class: Press Release\n",
            "--------------------------------------------------\n"
          ]
        }
      ]
    },
    {
      "cell_type": "markdown",
      "source": [
        "# Custom Dataset Class"
      ],
      "metadata": {
        "id": "zuQM78a1eke4"
      }
    },
    {
      "cell_type": "code",
      "source": [
        "max_length = 256\n",
        "\n",
        "class CustomTextDataset(Dataset):\n",
        "    def __init__(self, dataframe, tokenizer, max_length):\n",
        "        self.texts = dataframe['data'].tolist()\n",
        "        self.labels = dataframe['label'].tolist()\n",
        "        self.tokenizer = tokenizer\n",
        "        self.max_length = max_length\n",
        "\n",
        "    def __len__(self):\n",
        "        return len(self.texts)\n",
        "\n",
        "    def __getitem__(self, idx):\n",
        "        # Actual  text\n",
        "        text = self.texts[idx]\n",
        "        # Class labels for text\n",
        "        label = self.labels[idx]\n",
        "        # Vectorized text\n",
        "        input_ids = torch.tensor(self.tokenizer.encode(text, self.max_length), dtype=torch.long)\n",
        "        # tokens not equal to the padding token get a mask value of 1, and padding tokens get a mask value of 0.\n",
        "        # This is beacuse we want to prevent padding tokens from contributing to training\n",
        "        attention_mask = (input_ids != custom_tokenizer.vocab['<PAD>']).long()\n",
        "        return {\n",
        "            'input_ids': input_ids,\n",
        "            'attention_mask': attention_mask,\n",
        "            'labels': torch.tensor(label, dtype=torch.long)\n",
        "        }"
      ],
      "metadata": {
        "id": "RwaNNWfFh9El"
      },
      "execution_count": null,
      "outputs": []
    },
    {
      "cell_type": "markdown",
      "source": [
        "# Data loader for training and validation"
      ],
      "metadata": {
        "id": "J6An89_fep55"
      }
    },
    {
      "cell_type": "code",
      "source": [
        "train_dataset = CustomTextDataset(pd.read_csv(\"./preprocessed_train.csv\"), custom_tokenizer, max_length)\n",
        "validation_dataset = CustomTextDataset(pd.read_csv(\"./preprocessed_val.csv\"), custom_tokenizer, max_length)\n",
        "\n",
        "train_dataloader = DataLoader(train_dataset, batch_size=32, shuffle=True)\n",
        "validation_dataloader = DataLoader(validation_dataset, batch_size=32)"
      ],
      "metadata": {
        "id": "uoyVOt5FXT-i"
      },
      "execution_count": null,
      "outputs": []
    },
    {
      "cell_type": "markdown",
      "source": [
        "# Model Definition using LSTM"
      ],
      "metadata": {
        "id": "IB6HDRioev8j"
      }
    },
    {
      "cell_type": "code",
      "source": [
        "vocab_size = len(custom_tokenizer.vocab)\n",
        "\n",
        "class CustomLSTMClassifier(nn.Module):\n",
        "    def __init__(self, vocab_size, embedding_dim, hidden_dim, output_dim, dropout=0.5):\n",
        "        super(CustomLSTMClassifier, self).__init__()\n",
        "        self.embedding = nn.Embedding(vocab_size, embedding_dim)\n",
        "        self.lstm = nn.LSTM(embedding_dim, hidden_dim, num_layers=2, batch_first=True, dropout=dropout, bidirectional=True)\n",
        "        self.fc = nn.Linear(hidden_dim * 2, output_dim)\n",
        "        self.dropout = nn.Dropout(dropout)\n",
        "\n",
        "    def forward(self, input_ids, attention_mask):\n",
        "        embedded = self.embedding(input_ids)\n",
        "        lstm_out, _ = self.lstm(embedded)\n",
        "        pooled_output = torch.mean(lstm_out, dim=1)\n",
        "        dropped_out = self.dropout(pooled_output)\n",
        "        return self.fc(dropped_out)"
      ],
      "metadata": {
        "id": "vjH8RZQjubIV"
      },
      "execution_count": null,
      "outputs": []
    },
    {
      "cell_type": "markdown",
      "source": [
        "# Training and Validation loop"
      ],
      "metadata": {
        "id": "W-uGT2C_e5MR"
      }
    },
    {
      "cell_type": "code",
      "source": [
        "model = CustomLSTMClassifier(vocab_size=vocab_size, embedding_dim=50, hidden_dim=32, output_dim=num_classes)\n",
        "\n",
        "device = torch.device('cuda' if torch.cuda.is_available() else 'cpu')\n",
        "model.to(device)\n",
        "\n",
        "criterion = nn.CrossEntropyLoss()\n",
        "optimizer = optim.Adam(model.parameters(), lr=0.001)\n",
        "\n",
        "def train_epoch(model, dataloader, criterion, optimizer, device):\n",
        "    model.train()\n",
        "    epoch_loss = 0\n",
        "    epoch_acc = 0\n",
        "    for batch in dataloader:\n",
        "        input_ids = batch['input_ids'].to(device)\n",
        "        attention_mask = batch['attention_mask'].to(device)\n",
        "        labels = batch['labels'].to(device)\n",
        "\n",
        "        optimizer.zero_grad()\n",
        "        outputs = model(input_ids, attention_mask)\n",
        "        loss = criterion(outputs, labels)\n",
        "        loss.backward()\n",
        "        optimizer.step()\n",
        "\n",
        "        epoch_loss += loss.item()\n",
        "        _, predicted = torch.max(outputs, 1)\n",
        "        epoch_acc += accuracy_score(labels.cpu().numpy(), predicted.cpu().numpy())\n",
        "\n",
        "    return epoch_loss / len(dataloader), epoch_acc / len(dataloader)\n",
        "\n",
        "def evaluate(model, dataloader, criterion, device):\n",
        "    model.eval()\n",
        "    epoch_loss = 0\n",
        "    epoch_acc = 0\n",
        "    with torch.no_grad():\n",
        "        for batch in dataloader:\n",
        "            input_ids = batch['input_ids'].to(device)\n",
        "            attention_mask = batch['attention_mask'].to(device)\n",
        "            labels = batch['labels'].to(device)\n",
        "\n",
        "            outputs = model(input_ids, attention_mask)\n",
        "            loss = criterion(outputs, labels)\n",
        "\n",
        "            epoch_loss += loss.item()\n",
        "            _, predicted = torch.max(outputs, 1)\n",
        "            epoch_acc += accuracy_score(labels.cpu().numpy(), predicted.cpu().numpy())\n",
        "\n",
        "    return epoch_loss / len(dataloader), epoch_acc / len(dataloader)\n",
        "\n",
        "num_epochs = 20\n",
        "for epoch in range(num_epochs):\n",
        "    train_loss, train_acc = train_epoch(model, train_dataloader, criterion, optimizer, device)\n",
        "    val_loss, val_acc = evaluate(model, validation_dataloader, criterion, device)\n",
        "\n",
        "    print(f'Epoch {epoch+1}/{num_epochs}')\n",
        "    print(f'Train Loss: {train_loss:.4f}, Train Accuracy: {train_acc:.4f}')\n",
        "    print(f'Validation Loss: {val_loss:.4f}, Validation Accuracy: {val_acc:.4f}')"
      ],
      "metadata": {
        "colab": {
          "base_uri": "https://localhost:8080/"
        },
        "id": "cBM9ykVcie26",
        "outputId": "4d809d20-0fef-400d-c0c9-5cbc31f99d58"
      },
      "execution_count": null,
      "outputs": [
        {
          "output_type": "stream",
          "name": "stdout",
          "text": [
            "Epoch 1/20\n",
            "Train Loss: 1.3890, Train Accuracy: 0.2109\n",
            "Validation Loss: 1.3859, Validation Accuracy: 0.1719\n",
            "Epoch 2/20\n",
            "Train Loss: 1.3692, Train Accuracy: 0.3729\n",
            "Validation Loss: 1.3808, Validation Accuracy: 0.2656\n",
            "Epoch 3/20\n",
            "Train Loss: 1.3649, Train Accuracy: 0.3260\n",
            "Validation Loss: 1.3681, Validation Accuracy: 0.2969\n",
            "Epoch 4/20\n",
            "Train Loss: 1.3459, Train Accuracy: 0.3484\n",
            "Validation Loss: 1.3505, Validation Accuracy: 0.2969\n",
            "Epoch 5/20\n",
            "Train Loss: 1.2980, Train Accuracy: 0.4391\n",
            "Validation Loss: 1.2913, Validation Accuracy: 0.3750\n",
            "Epoch 6/20\n",
            "Train Loss: 1.2160, Train Accuracy: 0.4964\n",
            "Validation Loss: 1.1611, Validation Accuracy: 0.5000\n",
            "Epoch 7/20\n",
            "Train Loss: 1.1405, Train Accuracy: 0.5526\n",
            "Validation Loss: 1.0512, Validation Accuracy: 0.6406\n",
            "Epoch 8/20\n",
            "Train Loss: 1.0176, Train Accuracy: 0.6760\n",
            "Validation Loss: 0.9257, Validation Accuracy: 0.7656\n",
            "Epoch 9/20\n",
            "Train Loss: 0.9007, Train Accuracy: 0.7182\n",
            "Validation Loss: 0.8408, Validation Accuracy: 0.7656\n",
            "Epoch 10/20\n",
            "Train Loss: 0.6102, Train Accuracy: 0.8021\n",
            "Validation Loss: 0.5058, Validation Accuracy: 0.8750\n",
            "Epoch 11/20\n",
            "Train Loss: 0.4214, Train Accuracy: 0.8542\n",
            "Validation Loss: 0.4716, Validation Accuracy: 0.8438\n",
            "Epoch 12/20\n",
            "Train Loss: 0.3318, Train Accuracy: 0.8828\n",
            "Validation Loss: 0.4629, Validation Accuracy: 0.8750\n",
            "Epoch 13/20\n",
            "Train Loss: 0.2592, Train Accuracy: 0.9323\n",
            "Validation Loss: 0.4125, Validation Accuracy: 0.8594\n",
            "Epoch 14/20\n",
            "Train Loss: 0.2408, Train Accuracy: 0.9271\n",
            "Validation Loss: 0.4479, Validation Accuracy: 0.8594\n",
            "Epoch 15/20\n",
            "Train Loss: 0.2087, Train Accuracy: 0.9635\n",
            "Validation Loss: 0.6301, Validation Accuracy: 0.7969\n",
            "Epoch 16/20\n",
            "Train Loss: 0.2890, Train Accuracy: 0.9104\n",
            "Validation Loss: 0.3184, Validation Accuracy: 0.9375\n",
            "Epoch 17/20\n",
            "Train Loss: 0.1954, Train Accuracy: 0.9531\n",
            "Validation Loss: 0.4189, Validation Accuracy: 0.8594\n",
            "Epoch 18/20\n",
            "Train Loss: 0.1309, Train Accuracy: 0.9766\n",
            "Validation Loss: 0.3008, Validation Accuracy: 0.9062\n",
            "Epoch 19/20\n",
            "Train Loss: 0.1866, Train Accuracy: 0.9427\n",
            "Validation Loss: 0.4847, Validation Accuracy: 0.7969\n",
            "Epoch 20/20\n",
            "Train Loss: 0.1845, Train Accuracy: 0.9479\n",
            "Validation Loss: 0.3762, Validation Accuracy: 0.8594\n"
          ]
        }
      ]
    },
    {
      "cell_type": "markdown",
      "source": [
        "# Sample predictions from Validation set"
      ],
      "metadata": {
        "id": "KT3aYwtre8Vw"
      }
    },
    {
      "cell_type": "code",
      "source": [
        "def predict_with_texts(model, dataloader, dataset, device):\n",
        "    model.eval()\n",
        "    predictions = []\n",
        "    true_labels = []\n",
        "    texts = []\n",
        "\n",
        "    with torch.no_grad():\n",
        "        for i, batch in enumerate(dataloader):\n",
        "            input_ids = batch['input_ids'].to(device)\n",
        "            attention_mask = batch['attention_mask'].to(device)\n",
        "            labels = batch['labels'].to(device)\n",
        "\n",
        "            outputs = model(input_ids, attention_mask)\n",
        "            _, predicted = torch.max(outputs, 1)\n",
        "\n",
        "            predictions.extend(predicted.cpu().numpy())\n",
        "            true_labels.extend(labels.cpu().numpy())\n",
        "\n",
        "            batch_texts = dataset.texts[i * dataloader.batch_size : min((i + 1) * dataloader.batch_size, len(dataset))]\n",
        "            texts.extend(batch_texts)\n",
        "\n",
        "    return true_labels, predictions, texts\n",
        "\n",
        "true_labels, predictions, texts = predict_with_texts(model, validation_dataloader, validation_dataset, device)\n",
        "\n",
        "for i in range(5):\n",
        "    print(f\"Text: {texts[i]}\")\n",
        "    print(f\"True Class: {label_encoder.inverse_transform([true_labels[i]])[0]}\")\n",
        "    print(f\"Predicted Class: {label_encoder.inverse_transform([predictions[i]])[0]}\")\n",
        "    print()"
      ],
      "metadata": {
        "colab": {
          "base_uri": "https://localhost:8080/"
        },
        "id": "fyWSQAW5ie5U",
        "outputId": "3345b784-2bcd-4b9f-dff3-f5c125b61ad6"
      },
      "execution_count": null,
      "outputs": [
        {
          "output_type": "stream",
          "name": "stdout",
          "text": [
            "Text: नेपाल सरकार जिल्ला प्रशासन कार्यालय ललितपुर सवारी साधन खरिदसम्बन्धी सूचना प्रथम प्रकाशित मिति गते कार्यालयको चालु आव थान सवारी साधन खरिद गर्नुपर्न भएकोले सार्वजनिक खरिद ऐन संशोधन दफा उपदफा क सार्वजनिक खरिद नियमावली संशोधन नियम ख बमोजिम त्यस्ता सवारी साधन उत्पादक कम्पनी सोको आधिकारिक बिक्रताहरुको प्रतिस्पर्धा गराउनर क्याटलग सपिङ्ग विधिबाट खरिद गर्नपर्ने भएकोले सार्वजनिक खरिद नियमावली संशोधन नियम ख उपनियम प्रयोजनको देहाय बमोजिमको सवारी साधन बिक्री चाहने उत्पादक आधिकारिक बिक्रताले उत्पादनको आधिकारिक गुणस्तर मूल्य सुविधासहितको विवरण क्याटलग ब्रोसर फर्म भ्याट हाटा आर्थिक वर्ष आय कर चक्ता प्रमाणपत्र लगायतका कागजातहरुको प्रमाणित प्रतिलिपिहरु संलग्न राखी सूचना प्रकाशन मितिले दिनभित्र कार्यालयमा सिलबन्दी प्रस्ताव गर्नुहुन सम्बन्धित उत्पादक आधिकारिक बिक्रेताको जानकारीको सूचना प्रकाशन गरिएको सिनं ठेङ्कार्न समवारी साधनको सवारीको संक्षिप्त विवरण नाम ण ए ॥ पपपा तृप पपपा पच पव ंह्याध शप क्षाभा शक्षाप धा व फ लणिफधात री ता ा औैपता ां फ क्षात प तावप वावा ै फवावा वाटा संख्या कैफियत संक्षिप्त विवरणमा उल्लेख नभएका कुराहरु स्वीकृत थान ववषापपा बमोजिम\n",
            "True Class: Press Release\n",
            "Predicted Class: Press Release\n",
            "\n",
            "Text: नेपाल सरकार गृह मन्त्रालय जिल्ला प्रशासन कार्यालय रौतहट नेपाली नागरिकताको प्रमाणपत्र नाप्रनं नाम थर राजेश भुजेल लिङ्ग पुरुष जन्म स्थान जिल्ला रौतहट गावि स गौर नगरपालिका वडा नं स्थायी बासस्थान जिल्ला पाल्पा नपा जनकपुरधाम उपमहानगरपालिका वडा नं जन्म मिति साल महिना गते बाबुको नाम थर रमेश भुजेल नाप्रनं ठेगाना पाल्पा नपा ना वंशज आमाको नाम थर प्रशान्त भुजेल नाप्रनं ठेगाना रौतहट नपा ना वंशज प॒तिपत्नीको नामथर नाप्रनं ठेगाना ना\n",
            "True Class: ID\n",
            "Predicted Class: ID\n",
            "\n",
            "Text: नेपाल सरकार गृह मन्त्रालय जिल्ला प्रशासन कार्यालय मोरङ नेपाली नागरिकताको प्रमाणपत्र नाप्रनं नाम थर प्रकाश पोखरेल लिङ्ग पुरुष जन्म स्थान जिल्ला मोरङ गावि स विराटनगर महानगरपालिका वडा नं स्थायी बासस्थान जिल्ला म्याग्दी नपा बेनी नगरपालिका वडा नं जन्म मिति साल महिना गते बाबुको नाम थर अर्जुन पोखरेल नाप्रनं ठेगाना म्याग्दी नपा ना वंशज आमाको नाम थर रोशन पोखरेल नाप्रनं ठेगाना मोरङ नपा ना वंशज प॒तिपत्नीको नामथर नाप्रनं ठेगाना ना\n",
            "True Class: ID\n",
            "Predicted Class: ID\n",
            "\n",
            "Text: त्रिभुवन विश्वविद्यालय विज्ञान प्रविधि अध्ययन संस्थान डीनको कार्यालय परीक्षा शाखा वल्खुद्वारा सेमेष्टर परीक्षा प्रणाली साल असार महिनामा संचालन स्नातकोत्तर तह विषय प्रथम वर्ष प्रथम शत्र समूहको नियमित सौही शत्रको अगाडिका आंशिक परीक्षाको परीक्षाफल विज्ञान प्रविधि अध्ययन संस्थान परीक्षा संचालक समितिको निर्णयानुसार प्रकाशित गरिएको परीक्षामा निम्नाकित कमांक परीक्षार्थीहरु उत्तीर्ण शाााटय लब्धांक पत्र सम्बन्धित क्याम्पस कलेजबाट प्राप्त परीक्षाफल सकेसम्म त्रुटी रहित होस् उद्देश्य राखी प्रकाशित गरिएको छपाई कारणबाट त्रुटी देखिएमा कार्यालयको अभिलेखबाट सच्याइने व्यहोरा अवगत गराइन्छ पुनर्योग चाहने परीक्षार्थीहरुले परीक्षाफल प्रकाशित मितिले पुनर्यागको आवेदन दिई क सक्नु बल्खुकाठमाडौं मिति ्ि\n",
            "True Class: Education\n",
            "Predicted Class: Education\n",
            "\n",
            "Text: मिति लघुअनुसन्धान अनुदानको नतिजा प्रकाशन गरिएको विज्ञान प्रविधि अध्ययन संस्थानबाट लघुअनुसन्धानका गते प्रस्ताव माग गरिएकोमा प्राप्त पूर्वयोग्यता पुगेका प्रस्तावहरुको मूल्याङकन मौखिक प्रस्तुतीकरण लगायतका सवै प्रक्रिया पूरा सोका आधारमा छनौट तपसिल बमोजिमका आवेदकहरुलाई लघुअनुसन्धान अनुदान प्रदान निर्णय भएकाले सम्बन्धित जानकारीका सूचना प्रकाशित गरिएको नाम छनौट आवेदकहरुले परिमार्जित शोधप्रस्ताव हार्ड सफ्ट कपी डीनको कार्यालयको अनुसन्धान शाखामा स्वयं उपस्थित भई गतेसम्ममा सम्झौता गरिसक्नुपर्नेछ पुनश्च नतिमा सक्सम्प बुटिरहित होसभन्न उदश्य राी परकाशित गरिएको छपाइ कारणवस त्रुटि देखिएमा कार्यालयको अभिलेखबाट सच्याइनेछ\n",
            "True Class: Education\n",
            "Predicted Class: Education\n",
            "\n"
          ]
        }
      ]
    },
    {
      "cell_type": "code",
      "source": [],
      "metadata": {
        "id": "kXrS-Kvoie7i"
      },
      "execution_count": null,
      "outputs": []
    },
    {
      "cell_type": "code",
      "source": [],
      "metadata": {
        "id": "DeelwTblie-T"
      },
      "execution_count": null,
      "outputs": []
    }
  ]
}