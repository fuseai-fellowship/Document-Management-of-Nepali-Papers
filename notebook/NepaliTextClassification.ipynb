{
  "cells": [
    {
      "cell_type": "code",
      "execution_count": 1,
      "metadata": {
        "colab": {
          "base_uri": "https://localhost:8080/"
        },
        "id": "kmpurefiG826",
        "outputId": "ee4b6e47-e97a-48f3-98b2-4e35aed64a71"
      },
      "outputs": [
        {
          "name": "stdout",
          "output_type": "stream",
          "text": [
            "Collecting torchtext==0.3.1\n",
            "  Downloading torchtext-0.3.1-py3-none-any.whl.metadata (4.8 kB)\n",
            "Requirement already satisfied: tqdm in /usr/local/lib/python3.10/dist-packages (from torchtext==0.3.1) (4.66.5)\n",
            "Requirement already satisfied: requests in /usr/local/lib/python3.10/dist-packages (from torchtext==0.3.1) (2.32.3)\n",
            "Requirement already satisfied: torch in /usr/local/lib/python3.10/dist-packages (from torchtext==0.3.1) (2.4.0+cu121)\n",
            "Requirement already satisfied: numpy in /usr/local/lib/python3.10/dist-packages (from torchtext==0.3.1) (1.26.4)\n",
            "Requirement already satisfied: charset-normalizer<4,>=2 in /usr/local/lib/python3.10/dist-packages (from requests->torchtext==0.3.1) (3.3.2)\n",
            "Requirement already satisfied: idna<4,>=2.5 in /usr/local/lib/python3.10/dist-packages (from requests->torchtext==0.3.1) (3.8)\n",
            "Requirement already satisfied: urllib3<3,>=1.21.1 in /usr/local/lib/python3.10/dist-packages (from requests->torchtext==0.3.1) (2.0.7)\n",
            "Requirement already satisfied: certifi>=2017.4.17 in /usr/local/lib/python3.10/dist-packages (from requests->torchtext==0.3.1) (2024.8.30)\n",
            "Requirement already satisfied: filelock in /usr/local/lib/python3.10/dist-packages (from torch->torchtext==0.3.1) (3.16.0)\n",
            "Requirement already satisfied: typing-extensions>=4.8.0 in /usr/local/lib/python3.10/dist-packages (from torch->torchtext==0.3.1) (4.12.2)\n",
            "Requirement already satisfied: sympy in /usr/local/lib/python3.10/dist-packages (from torch->torchtext==0.3.1) (1.13.2)\n",
            "Requirement already satisfied: networkx in /usr/local/lib/python3.10/dist-packages (from torch->torchtext==0.3.1) (3.3)\n",
            "Requirement already satisfied: jinja2 in /usr/local/lib/python3.10/dist-packages (from torch->torchtext==0.3.1) (3.1.4)\n",
            "Requirement already satisfied: fsspec in /usr/local/lib/python3.10/dist-packages (from torch->torchtext==0.3.1) (2024.6.1)\n",
            "Requirement already satisfied: MarkupSafe>=2.0 in /usr/local/lib/python3.10/dist-packages (from jinja2->torch->torchtext==0.3.1) (2.1.5)\n",
            "Requirement already satisfied: mpmath<1.4,>=1.1.0 in /usr/local/lib/python3.10/dist-packages (from sympy->torch->torchtext==0.3.1) (1.3.0)\n",
            "Downloading torchtext-0.3.1-py3-none-any.whl (62 kB)\n",
            "\u001b[2K   \u001b[90m━━━━━━━━━━━━━━━━━━━━━━━━━━━━━━━━━━━━━━━━\u001b[0m \u001b[32m62.4/62.4 kB\u001b[0m \u001b[31m1.9 MB/s\u001b[0m eta \u001b[36m0:00:00\u001b[0m\n",
            "\u001b[?25hInstalling collected packages: torchtext\n",
            "Successfully installed torchtext-0.3.1\n"
          ]
        }
      ],
      "source": [
        "!pip install torchtext==0.3.1"
      ]
    },
    {
      "cell_type": "code",
      "execution_count": null,
      "metadata": {
        "id": "rgbfOr9YPCLX"
      },
      "outputs": [],
      "source": [
        "import os\n",
        "import re\n",
        "import sys\n",
        "import random\n",
        "import numpy as np\n",
        "import pandas as pd\n",
        "import matplotlib.pyplot as plt\n",
        "import seaborn as sns\n",
        "\n",
        "import torch\n",
        "import torch.nn as nn\n",
        "import torch.optim as optim\n",
        "from torch.autograd import Variable\n",
        "import torch.nn.functional as F\n",
        "from torch.nn.utils.rnn import pack_padded_sequence, pad_packed_sequence\n",
        "\n",
        "import torchtext\n",
        "from torchtext import data\n",
        "from torchtext import vocab\n",
        "\n",
        "from sklearn.model_selection import train_test_split\n",
        "from sklearn.metrics import accuracy_score\n",
        "\n",
        "device = torch.device(\"cuda:0\" if torch.cuda.is_available() else \"cpu\")"
      ]
    },
    {
      "cell_type": "code",
      "execution_count": null,
      "metadata": {
        "id": "Yd5APeg-GesT"
      },
      "outputs": [],
      "source": [
        "# # News data\n",
        "# !gdown https://drive.google.com/uc?id=1_t4oAx25LGn4UuaNW08dvy2V_c2QUNqb"
      ]
    },
    {
      "cell_type": "code",
      "execution_count": null,
      "metadata": {
        "id": "qlSVhooGE5Mm"
      },
      "outputs": [],
      "source": [
        "# https://drive.google.com/file/d/1wkvyKBdgQztOQosEYckO2nRQeFBi176S/view?usp=sharing"
      ]
    },
    {
      "cell_type": "code",
      "execution_count": null,
      "metadata": {
        "id": "_cycYy-eDsJQ"
      },
      "outputs": [],
      "source": [
        "# Own data\n",
        "!gdown https://drive.google.com/uc?id=1wkvyKBdgQztOQosEYckO2nRQeFBi176S"
      ]
    },
    {
      "cell_type": "code",
      "execution_count": null,
      "metadata": {
        "id": "wD9lEB7DGApg"
      },
      "outputs": [],
      "source": [
        "print('Python version:',sys.version)\n",
        "print('Pandas version:',pd.__version__)\n",
        "print('Pytorch version:', torch.__version__)\n",
        "print('Torch Text version:', torchtext.__version__)"
      ]
    },
    {
      "cell_type": "code",
      "execution_count": null,
      "metadata": {
        "id": "aHjwRKNhYkCr"
      },
      "outputs": [],
      "source": [
        "# classes = ['Entertaintment', 'Business', 'Sports']"
      ]
    },
    {
      "cell_type": "code",
      "execution_count": null,
      "metadata": {
        "id": "zSQAC9Y5GAph"
      },
      "outputs": [],
      "source": [
        "df = pd.read_csv('/content/NepaliText.csv')\n",
        "df.shape\n",
        "df.head()"
      ]
    },
    {
      "cell_type": "code",
      "execution_count": null,
      "metadata": {
        "id": "-qCcbBaj-grd"
      },
      "outputs": [],
      "source": [
        "df['paras'][79]"
      ]
    },
    {
      "cell_type": "code",
      "execution_count": 10,
      "metadata": {
        "colab": {
          "base_uri": "https://localhost:8080/"
        },
        "id": "ehdAygBoNKji",
        "outputId": "ee15b8fd-c6ff-4feb-942b-f2f38fc53f72"
      },
      "outputs": [
        {
          "data": {
            "text/plain": [
              "400"
            ]
          },
          "execution_count": 10,
          "metadata": {},
          "output_type": "execute_result"
        }
      ],
      "source": [
        "len(df['paras'])"
      ]
    },
    {
      "cell_type": "code",
      "execution_count": 11,
      "metadata": {
        "colab": {
          "base_uri": "https://localhost:8080/"
        },
        "id": "UMDORnagfIkr",
        "outputId": "b971c4b2-a8d2-40e7-b4bb-c776d2bc3d0a"
      },
      "outputs": [
        {
          "name": "stdout",
          "output_type": "stream",
          "text": [
            "['Education' 'Press Release' 'ID' 'Policy']\n"
          ]
        }
      ],
      "source": [
        "classes = df.label.unique()\n",
        "print(classes)"
      ]
    },
    {
      "cell_type": "code",
      "execution_count": 12,
      "metadata": {
        "colab": {
          "base_uri": "https://localhost:8080/",
          "height": 549
        },
        "id": "DDF1LTJlGApk",
        "outputId": "772cd517-5b17-4dcc-b15f-eb4585d1556c"
      },
      "outputs": [
        {
          "name": "stderr",
          "output_type": "stream",
          "text": [
            "<ipython-input-12-4d85e906ab2b>:3: UserWarning: FixedFormatter should only be used together with FixedLocator\n",
            "  ax.set_xticklabels(classes)\n"
          ]
        },
        {
          "data": {
            "text/plain": [
              "[Text(0, 0, 'Education'),\n",
              " Text(1, 0, 'Press Release'),\n",
              " Text(2, 0, 'ID'),\n",
              " Text(3, 0, 'Policy')]"
            ]
          },
          "execution_count": 12,
          "metadata": {},
          "output_type": "execute_result"
        },
        {
          "data": {
            "image/png": "[encoded data removed]",
            "text/plain": [
              "<Figure size 800x500 with 1 Axes>"
            ]
          },
          "metadata": {},
          "output_type": "display_data"
        }
      ],
      "source": [
        "fig = plt.figure(figsize=(8,5))\n",
        "ax = sns.barplot(x=df.label.unique(), y=df.label.value_counts());\n",
        "ax.set_xticklabels(classes)"
      ]
    },
    {
      "cell_type": "code",
      "execution_count": 13,
      "metadata": {
        "colab": {
          "base_uri": "https://localhost:8080/",
          "height": 206
        },
        "id": "1PKQeYO-6vN4",
        "outputId": "fd56f4f7-6644-4ba7-a6e8-6f1a72f2bd77"
      },
      "outputs": [
        {
          "data": {
            "application/vnd.google.colaboratory.intrinsic+json": {
              "summary": "{\n  \"name\": \"df\",\n  \"rows\": 400,\n  \"fields\": [\n    {\n      \"column\": \"paras\",\n      \"properties\": {\n        \"dtype\": \"string\",\n        \"num_unique_values\": 397,\n        \"samples\": [\n          \"\\u0928\\u0947\\u092a\\u093e\\u0932 \\u0938\\u0930\\u0915\\u093e\\u0930\\n\\u091c\\u093f\\u0932\\u094d\\u0932\\u093e \\u092a\\u094d\\u0930\\u0936\\u093e\\u0938\\u0928 \\u0915\\u093e\\u0930\\u094d\\u092f\\u093e\\u0932\\u092f, \\u0932\\u0932\\u093f\\u0924\\u092a\\u0941\\u0930\\n\\n\\u0938\\u0935\\u093e\\u0930\\u0940 \\u0938\\u093e\\u0927\\u0928 \\u0916\\u0930\\u093f\\u0926\\u0938\\u092e\\u094d\\u092c\\u0928\\u094d\\u0927\\u0940 \\u0938\\u0942\\u091a\\u0928\\u093e\\n\\n\\u092a\\u094d\\u0930\\u0925\\u092e \\u092a\\u091f\\u0915 \\u092a\\u094d\\u0930\\u0915\\u093e\\u0936\\u093f\\u0924 \\u092e\\u093f\\u0924\\u093f : \\u0968\\u0966\\u096d\\u096c\\u0964\\u0966\\u0967\\u0964\\u0969\\u0967 \\u0917\\u0924\\u0947\\n\\u092f\\u0938 \\u0915\\u093e\\u0930\\u094d\\u092f\\u093e\\u0932\\u092f\\u0915\\u094b \\u0932\\u093e\\u0917\\u093f \\u091a\\u093e\\u0932\\u0941 \\u0906.\\u0935. \\u0968\\u0966\\u096d\\u096b\\u0964\\u096d\\u096c \\u092e\\u093e \\u0967 \\u0925\\u093e\\u0928 \\u0938\\u0935\\u093e\\u0930\\u0940 \\u0938\\u093e\\u0927\\u0928 \\u0916\\u0930\\u093f\\u0926 \\u0917\\u0930\\u094d\\u0928\\u0941\\u092a\\u0930\\u094d\\u0928 \\u092d\\u090f\\u0915\\u094b\\u0932\\u0947 \\u0938\\u093e\\u0930\\u094d\\u0935\\u091c\\u0928\\u093f\\u0915 \\u0916\\u0930\\u093f\\u0926 \\u0910\\u0928, \\u0968\\u0966\\u096c\\u0969, (\\u092a\\u0939\\u093f\\u0932\\u094b \\u0938\\u0902\\u0936\\u094b\\u0927\\u0928 \\u0968\\u0966\\u096d\\u0969) \\u0915\\u094b \\u0926\\u092b\\u093e \\u096e \\u0915\\u094b \\u0909\\u092a\\u0926\\u092b\\u093e \\u0967 (\\u0915) (\\u096e)\\n\\u0924\\u0925\\u093e \\u0938\\u093e\\u0930\\u094d\\u0935\\u091c\\u0928\\u093f\\u0915 \\u0916\\u0930\\u093f\\u0926 \\u0928\\u093f\\u092f\\u092e\\u093e\\u0935\\u0932\\u0940, \\u0968\\u0966\\u096c\\u096a (\\u091a\\u094c\\u0925\\u094b \\u0938\\u0902\\u0936\\u094b\\u0927\\u0928 \\u0968\\u0966\\u096d\\u0969) \\u0915\\u094b \\u0928\\u093f\\u092f\\u092e \\u0969\\u0967 (\\u0916) \\u092c\\u092e\\u094b\\u091c\\u093f\\u092e \\u0924\\u094d\\u092f\\u0938\\u094d\\u0924\\u093e \\u0938\\u0935\\u093e\\u0930\\u0940 \\u0938\\u093e\\u0927\\u0928 \\u0909\\u0924\\u094d\\u092a\\u093e\\u0926\\u0915 \\u0915\\u092e\\u094d\\u092a\\u0928\\u0940 \\u0935\\u093e \\u0938\\u094b\\u0915\\u094b \\u0906\\u0927\\u093f\\u0915\\u093e\\u0930\\u093f\\u0915 \\u092c\\u093f\\u0915\\u094d\\u0930\\u0924\\u093e\\u0939\\u0930\\u0941\\u0915\\u094b \\u092c\\u0940\\u091a\\u092e\\u093e \\u092e\\u093e\\u0924\\u094d\\u0930\\n\\u092a\\u094d\\u0930\\u0924\\u093f\\u0938\\u094d\\u092a\\u0930\\u094d\\u0927\\u093e \\u0917\\u0930\\u093e\\u0909\\u0928\\u0930 (\\u0915\\u094d\\u092f\\u093e\\u091f\\u0932\\u0917 \\u0938\\u092a\\u093f\\u0919\\u094d\\u0917) \\u0935\\u093f\\u0927\\u093f\\u092c\\u093e\\u091f \\u0916\\u0930\\u093f\\u0926 \\u0917\\u0930\\u094d\\u0928\\u092a\\u0930\\u094d\\u0928\\u0947 \\u092d\\u090f\\u0915\\u094b\\u0932\\u0947 \\u0938\\u093e\\u0930\\u094d\\u0935\\u091c\\u0928\\u093f\\u0915 \\u0916\\u0930\\u093f\\u0926 \\u0928\\u093f\\u092f\\u092e\\u093e\\u0935\\u0932\\u0940, \\u0968\\u0966\\u096c\\u096a (\\u091a\\u094c\\u0925\\u094b \\u0938\\u0902\\u0936\\u094b\\u0927\\u0928 \\u0968\\u0966\\u096d\\u0969) \\u0915\\u094b \\u0928\\u093f\\u092f\\u092e \\u0969\\u0967 (\\u0916) \\u0915\\u094b \\u0909\\u092a\\u0928\\u093f\\u092f\\u092e \\u0968 \\u0915\\u094b \\u092a\\u094d\\u0930\\u092f\\u094b\\u091c\\u0928\\u0915\\u094b \\u0932\\u093e\\u0917\\u093f\\n\\u0926\\u0947\\u0939\\u093e\\u092f \\u092c\\u092e\\u094b\\u091c\\u093f\\u092e\\u0915\\u094b \\u0938\\u0935\\u093e\\u0930\\u0940 \\u0938\\u093e\\u0927\\u0928 \\u092c\\u093f\\u0915\\u094d\\u0930\\u0940 \\u0917\\u0930\\u094d\\u0928 \\u091a\\u093e\\u0939\\u0928\\u0947 \\u0909\\u0924\\u094d\\u092a\\u093e\\u0926\\u0915 \\u0935\\u093e \\u0924\\u094d\\u092f\\u0938\\u0915\\u094b \\u0906\\u0927\\u093f\\u0915\\u093e\\u0930\\u093f\\u0915 \\u092c\\u093f\\u0915\\u094d\\u0930\\u0924\\u093e\\u0932\\u0947 \\u0906\\u092b\\u094d\\u0928\\u094b \\u0909\\u0924\\u094d\\u092a\\u093e\\u0926\\u0928\\u0915\\u094b \\u0906\\u0927\\u093f\\u0915\\u093e\\u0930\\u093f\\u0915 5\\u096f\\u0966\\u0966\\u0966. \\u0917\\u0941\\u0923\\u0938\\u094d\\u0924\\u0930, \\u092e\\u0942\\u0932\\u094d\\u092f \\u0930 \\u0938\\u0941\\u0935\\u093f\\u0927\\u093e\\u0938\\u0939\\u093f\\u0924\\u0915\\u094b \\u0935\\u093f\\u0935\\u0930\\u0923\\n(\\u0915\\u094d\\u092f\\u093e\\u091f\\u0932\\u0917 \\u0935\\u093e \\u092c\\u094d\\u0930\\u094b\\u0938\\u0930) \\u0924\\u0925\\u093e \\u092b\\u0930\\u094d\\u092e, \\u092d\\u094d\\u092f\\u093e\\u091f \\u0926\\u0930\\u094d\\u0924\\u093e, \\u0939\\u093e\\u091f\\u093e \\u096600210 \\u0930 \\u0906\\u0930\\u094d\\u0925\\u093f\\u0915 \\u0935\\u0930\\u094d\\u0937 \\u0968\\u0966\\u096d\\u096a\\u0964\\u0966\\u096d\\u096b \\u0915\\u094b \\u0906\\u092f \\u0915\\u0930 \\u091a\\u0915\\u094d\\u0924\\u093e \\u092a\\u094d\\u0930\\u092e\\u093e\\u0923\\u092a\\u0924\\u094d\\u0930 \\u0932\\u0917\\u093e\\u092f\\u0924\\u0915\\u093e \\u0915\\u093e\\u0917\\u091c\\u093e\\u0924\\u0939\\u0930\\u0941\\u0915\\u094b \\u092a\\u094d\\u0930\\u092e\\u093e\\u0923\\u093f\\u0924 \\u092a\\u094d\\u0930\\u0924\\u093f\\u0932\\u093f\\u092a\\u093f\\u0939\\u0930\\u0941 \\u0938\\u0902\\u0932\\u0917\\u094d\\u0928 \\u0930\\u093e\\u0916\\u0940\\n\\u092f\\u094b \\u0938\\u0942\\u091a\\u0928\\u093e \\u092a\\u094d\\u0930\\u0915\\u093e\\u0936\\u0928 \\u092d\\u090f\\u0915\\u094b \\u092e\\u093f\\u0924\\u093f\\u0932\\u0947 \\u096d \\u0926\\u093f\\u0928\\u092d\\u093f\\u0924\\u094d\\u0930 \\u092f\\u0938 \\u0915\\u093e\\u0930\\u094d\\u092f\\u093e\\u0932\\u092f\\u092e\\u093e \\u0938\\u093f\\u0932\\u092c\\u0928\\u094d\\u0926\\u0940 \\u092a\\u094d\\u0930\\u0938\\u094d\\u0924\\u093e\\u0935 \\u0926\\u0930\\u094d\\u0924\\u093e \\u0917\\u0930\\u094d\\u0928\\u0941\\u0939\\u0941\\u0928 \\u0938\\u092e\\u094d\\u092c\\u0928\\u094d\\u0927\\u093f\\u0924 \\u0909\\u0924\\u094d\\u092a\\u093e\\u0926\\u0915 \\u0935\\u093e \\u0906\\u0927\\u093f\\u0915\\u093e\\u0930\\u093f\\u0915 \\u092c\\u093f\\u0915\\u094d\\u0930\\u0947\\u0924\\u093e\\u0915\\u094b \\u091c\\u093e\\u0928\\u0915\\u093e\\u0930\\u0940\\u0915\\u094b \\u0932\\u093e\\u0917\\u093f \\u092f\\u094b \\u0938\\u0942\\u091a\\u0928\\u093e \\u092a\\u094d\\u0930\\u0915\\u093e\\u0936\\u0928 \\u0917\\u0930\\u093f\\u090f\\u0915\\u094b \\u091b \\u0964\\n\\n\\u0938\\u093f.\\u0928\\u0902. \\u0920\\u0947\\u0919\\u094d\\u0915\\u093e\\u0930\\u094d\\u0928 \\u0938\\u092e\\u0935\\u093e\\u0930\\u0940 \\u0938\\u093e\\u0927\\u0928\\u0915\\u094b \\u0938\\u0935\\u093e\\u0930\\u0940\\u0915\\u094b \\u0938\\u0902\\u0915\\u094d\\u0937\\u093f\\u092a\\u094d\\u0924 \\u0935\\u093f\\u0935\\u0930\\u0923\\n\\u0928\\u093e\\u092e\\n\\n. 190\\u096f: 4 1). 9)\\u0923 \\u090f0( \\u096a\\u096e\\u0966\\u096f\\n\\n2. (1035 \\u096a\\u096e\\u09651\\u0966|\\u096f \\u096e\\u0964\\u096a (\\u096d\\u096a\\u096a%): 1\\u096b01\\u096e5 (8 2500 \\u096f\\n\\u00bb 3. \\u0966% \\u0966\\u092a\\u092a)\\u092a\\u093e . \\u096a\\u0966\\u096a\\u096e\\u096f\\u0967 \\u0968//)\\u096b: 1401\\u096e55 (11 85 \\u096f\\u096a\\n\\u0966) . \\u0924\\u0943\\u092a\\u096f \\u0966\\u092a\\u092a)\\u092a\\u093e ( 2\\u0966\\u096a\\u096e1\\u096f\\u096e\\u0967 [\\u0968)\\u096b: 1\\u096b\\u0966(1\\u096e\\u0969 [11) 2/5 \\u092a\\u091a\\n\\u0966 4 \\u096b1). :\\n_ \\u096f\\u0966\\u09661 9. \\u0966\\u092a\\u0935 \\u0902\\u0939\\u094d\\u092f\\u093e\\u0927)\\u0966\\u096f \\u0936\\u092a) 160 1)\\n\\n\\u0924 (0 0. \\u0915\\u094d\\u0937\\u093e\\u092d\\u093e5510. \\u0936\\u0915\\u094d\\u0937\\u093e\\u092a ., \\u0927\\u093e. [\\u096f\\u096e\\u0935\\u096a5 0\\u092b0 0 ] 1\\u096e\\u096a\\u096e\\u0969\\u096e\\u096f ] \\u0932\\u0923\\u093f\\u092b\\u0927\\u093e\\u0924 \\u0969\\u096b01\\u096f]\\n\\n\\u0966 \\u0930\\u0940 . \\u096a(\\u096e\\u096618: ?\\u0966\\u096a \\u096a\\u096f\\u096e118\\n\\u0968 6. [:55\\u096e118] \\u0966\\u0966\\u096e\\u0969\\u0969\\u09661\\u096f5: ( \\u0924\\u093e08 9\\u096b\\u096a), 111101 [)] 108 9) 9\\u096b\\u096a\\u096e, (:\\u096e)04]\\n\\u0966-\\n\\n)\\u09660\\u0966 [.\\u0966\\u09668 9\\u0967\\u096a(\\u093e), \\u0914\\u0948\\u092a\\u0924\\u093e\\u0966 \\u096b\\u093e\\u0902 \\u096f1)/13. (. (19)3, % \\u096e 1), 94\\u096f \\u096f\\u0966 \\u092b1 (\\u096f \\u0915\\u094d\\u0937\\u093e\\u0924\\n(\\u092a\\u0966\\u096e, \\u0924\\u093e\\u0935\\u092a\\u0966 \\u0966 % 0\\u096e\\n9. \\u0935\\u093e\\u0935\\u093e: \\u0948 111) 0/06-\\u0967\\u096f\\u0935\\u093e \\u092b\\u0935\\u093e\\u0935\\u093e( \\u0935\\u093e\\u091f\\u093e \\u0967\\u096f\\u096e\\u096f\\u096e\\u0966\\u096c\\n\\n\\u0938\\u0902\\u0916\\u094d\\u092f\\u093e \\u0915\\u0948\\u092b\\u093f\\u092f\\u0924\\n\\n\\u0938\\u0902\\u0915\\u094d\\u0937\\u093f\\u092a\\u094d\\u0924 \\u0935\\u093f\\u0935\\u0930\\u0923\\u092e\\u093e \\u0909\\u0932\\u094d\\u0932\\u0947\\u0916\\n\\u0928\\u092d\\u090f\\u0915\\u093e \\u0915\\u0941\\u0930\\u093e\\u0939\\u0930\\u0941 \\u0938\\u094d\\u0935\\u0940\\u0915\\u0943\\u0924\\n\\u0967 \\u096f\\u09661\\u096f\\u096e 97\\u096f\\u09661\\u096f10\\n\\u0925\\u093e\\u0928 (\\u096b\\u096b.\\u0935\\u0966\\u0935\\u0937\\u093e\\u092a)\\u092a\\u093e.10)\\n.\\u0966\\u0966\\u096a.)) \\u092c\\u092e\\u094b\\u091c\\u093f\\u092e \\u0939\\u0941\\u0928\\u0947\\u091b\\n\",\n          \"\\u0928\\u0947\\u092a\\u093e\\u0932 \\u0938\\u0930\\u0915\\u093e\\u0930\\n\\n\\u0917\\u0943\\u0939 \\u092e\\u0928\\u094d\\u0924\\u094d\\u0930\\u093e\\u0932\\u092f\\n\\u091c\\u093f\\u0932\\u094d\\u0932\\u093e \\u092a\\u094d\\u0930\\u0936\\u093e\\u0938\\u0928 \\u0915\\u093e\\u0930\\u094d\\u092f\\u093e\\u0932\\u092f, ........ \\u0930\\u094c\\u0924\\u0939\\u091f\\n\\u0928\\u0947\\u092a\\u093e\\u0932\\u0940 \\u0928\\u093e\\u0917\\u0930\\u093f\\u0915\\u0924\\u093e\\u0915\\u094b \\u092a\\u094d\\u0930\\u092e\\u093e\\u0923\\u092a\\u0924\\u094d\\u0930\\n\\u0928\\u093e-\\u092a\\u094d\\u0930.\\u0928\\u0902. :  \\u0968\\u096a-\\u0968\\u0968-\\u096b\\u096b-\\u0966\\u0969\\u0968\\u0967\\u0966\\u096f\\n\\n\\u0928\\u093e\\u092e \\u0925\\u0930:  \\u0930\\u093e\\u091c\\u0947\\u0936 \\u092d\\u0941\\u091c\\u0947\\u0932 \\u0932\\u093f\\u0919\\u094d\\u0917 : \\u092a\\u0941\\u0930\\u0941\\u0937\\n\\n\\u091c\\u0928\\u094d\\u092e \\u0938\\u094d\\u0925\\u093e\\u0928: \\u091c\\u093f\\u0932\\u094d\\u0932\\u093e :  \\u0930\\u094c\\u0924\\u0939\\u091f\\n\\u0917\\u093e.\\u0935\\u093f. \\u0938 . : \\u0917\\u094c\\u0930 \\u0928\\u0917\\u0930\\u092a\\u093e\\u0932\\u093f\\u0915\\u093e \\u0935\\u0921\\u093e \\u0928\\u0902:  \\u0968\\u0968\\n\\u0938\\u094d\\u0925\\u093e\\u092f\\u0940 \\u092c\\u093e\\u0938\\u0938\\u094d\\u0925\\u093e\\u0928. \\u091c\\u093f\\u0932\\u094d\\u0932\\u093e : \\u092a\\u093e\\u0932\\u094d\\u092a\\u093e\\n\\u092e\\u093e \\u0928,\\u092a\\u093e. : \\u091c\\u0928\\u0915\\u092a\\u0941\\u0930\\u0927\\u093e\\u092e \\u0909\\u092a\\u092e\\u0939\\u093e\\u0928\\u0917\\u0930\\u092a\\u093e\\u0932\\u093f\\u0915\\u093e \\u0935\\u0921\\u093e \\u0928\\u0902: \\u0968\\u0968\\n\\u091c\\u0928\\u094d\\u092e \\u092e\\u093f\\u0924\\u093f, \\u0938\\u093e\\u0932: \\u0968\\u0966\\u0966\\u096b \\u092e\\u0939\\u093f\\u0928\\u093e:  \\u0969 \\u0917\\u0924\\u0947: \\u0968\\u0968\\n\\u092c\\u093e\\u092c\\u0941\\u0915\\u094b \\u0928\\u093e\\u092e \\u0925\\u0930 :  \\u0930\\u092e\\u0947\\u0936 \\u092d\\u0941\\u091c\\u0947\\u0932 \\u0928\\u093e-\\u092a\\u094d\\u0930.\\u0928\\u0902.:\\n\\u0920\\u0947\\u0917\\u093e\\u0928\\u093e: \\u092a\\u093e\\u0932\\u094d\\u092a\\u093e \\u092e\\u093e \\u0928,\\u092a\\u093e -  \\u0968\\u0968 \\u0928\\u093e \\u0915\\u093f: \\u0935\\u0902\\u0936\\u091c\\n\\u0906\\u092e\\u093e\\u0915\\u094b \\u0928\\u093e\\u092e \\u0925\\u0930:  \\u092a\\u094d\\u0930\\u0936\\u093e\\u0928\\u094d\\u0924 \\u092d\\u0941\\u091c\\u0947\\u0932 \\u0928\\u093e-\\u092a\\u094d\\u0930.\\u0928\\u0902.:\\n\\u0920\\u0947\\u0917\\u093e\\u0928\\u093e: \\u0930\\u094c\\u0924\\u0939\\u091f  \\u092e\\u093e \\u0928,\\u092a\\u093e -  \\u0968\\u0968 \\u0928\\u093e \\u0915\\u093f: \\u0935\\u0902\\u0936\\u091c\\n\\u092a\\u0952\\u0924\\u093f/\\u092a\\u0924\\u094d\\u0928\\u0940\\u0915\\u094b \\u0928\\u093e\\u092e\\u0925\\u0930:  \\u0928\\u093e-\\u092a\\u094d\\u0930.\\u0928\\u0902.:\\n\\n\\u0920\\u0947\\u0917\\u093e\\u0928\\u093e:  \\u0928\\u093e \\u0915\\u093f\\n\",\n          \"\\u0928\\u0947\\u092a\\u093e\\u0932 \\u0938\\u0930\\u0915\\u093e\\u0930\\n\\n\\u0917\\u0943\\u0939 \\u092e\\u0928\\u094d\\u0924\\u094d\\u0930\\u093e\\u0932\\u092f\\n\\u091c\\u093f\\u0932\\u094d\\u0932\\u093e \\u092a\\u094d\\u0930\\u0936\\u093e\\u0938\\u0928 \\u0915\\u093e\\u0930\\u094d\\u092f\\u093e\\u0932\\u092f, ........ \\u092e\\u094b\\u0930\\u0919\\n\\u0928\\u0947\\u092a\\u093e\\u0932\\u0940 \\u0928\\u093e\\u0917\\u0930\\u093f\\u0915\\u0924\\u093e\\u0915\\u094b \\u092a\\u094d\\u0930\\u092e\\u093e\\u0923\\u092a\\u0924\\u094d\\u0930\\n\\u0928\\u093e-\\u092a\\u094d\\u0930.\\u0928\\u0902. :  \\u0967\\u0968-\\u0967\\u0966-\\u0969\\u0969-\\u0966\\u096f\\u0969\\u096a\\u096b\\u096c\\n\\n\\u0928\\u093e\\u092e \\u0925\\u0930:  \\u092a\\u094d\\u0930\\u0915\\u093e\\u0936 \\u092a\\u094b\\u0916\\u0930\\u0947\\u0932 \\u0932\\u093f\\u0919\\u094d\\u0917 : \\u092a\\u0941\\u0930\\u0941\\u0937\\n\\n\\u091c\\u0928\\u094d\\u092e \\u0938\\u094d\\u0925\\u093e\\u0928: \\u091c\\u093f\\u0932\\u094d\\u0932\\u093e :  \\u092e\\u094b\\u0930\\u0919\\n\\u0917\\u093e.\\u0935\\u093f. \\u0938 . : \\u0935\\u093f\\u0930\\u093e\\u091f\\u0928\\u0917\\u0930 \\u092e\\u0939\\u093e\\u0928\\u0917\\u0930\\u092a\\u093e\\u0932\\u093f\\u0915\\u093e \\u0935\\u0921\\u093e \\u0928\\u0902:  \\u096b\\n\\u0938\\u094d\\u0925\\u093e\\u092f\\u0940 \\u092c\\u093e\\u0938\\u0938\\u094d\\u0925\\u093e\\u0928. \\u091c\\u093f\\u0932\\u094d\\u0932\\u093e : \\u092e\\u094d\\u092f\\u093e\\u0917\\u094d\\u0926\\u0940\\n\\u092e\\u093e \\u0928,\\u092a\\u093e. : \\u092c\\u0947\\u0928\\u0940 \\u0928\\u0917\\u0930\\u092a\\u093e\\u0932\\u093f\\u0915\\u093e \\u0935\\u0921\\u093e \\u0928\\u0902: \\u0967\\u0966\\n\\u091c\\u0928\\u094d\\u092e \\u092e\\u093f\\u0924\\u093f, \\u0938\\u093e\\u0932: \\u0968\\u0966\\u096a\\u0966 \\u092e\\u0939\\u093f\\u0928\\u093e:  \\u0969 \\u0917\\u0924\\u0947: \\u0967\\u0966\\n\\u092c\\u093e\\u092c\\u0941\\u0915\\u094b \\u0928\\u093e\\u092e \\u0925\\u0930 :  \\u0905\\u0930\\u094d\\u091c\\u0941\\u0928 \\u092a\\u094b\\u0916\\u0930\\u0947\\u0932 \\u0928\\u093e-\\u092a\\u094d\\u0930.\\u0928\\u0902.:\\n\\u0920\\u0947\\u0917\\u093e\\u0928\\u093e: \\u092e\\u094d\\u092f\\u093e\\u0917\\u094d\\u0926\\u0940 \\u092e\\u093e \\u0928,\\u092a\\u093e -  \\u0967\\u0966 \\u0928\\u093e \\u0915\\u093f: \\u0935\\u0902\\u0936\\u091c\\n\\u0906\\u092e\\u093e\\u0915\\u094b \\u0928\\u093e\\u092e \\u0925\\u0930:  \\u0930\\u094b\\u0936\\u0928 \\u092a\\u094b\\u0916\\u0930\\u0947\\u0932 \\u0928\\u093e-\\u092a\\u094d\\u0930.\\u0928\\u0902.:\\n\\u0920\\u0947\\u0917\\u093e\\u0928\\u093e: \\u092e\\u094b\\u0930\\u0919  \\u092e\\u093e \\u0928,\\u092a\\u093e -  \\u0967\\u0966 \\u0928\\u093e \\u0915\\u093f: \\u0935\\u0902\\u0936\\u091c\\n\\u092a\\u0952\\u0924\\u093f/\\u092a\\u0924\\u094d\\u0928\\u0940\\u0915\\u094b \\u0928\\u093e\\u092e\\u0925\\u0930:  \\u0928\\u093e-\\u092a\\u094d\\u0930.\\u0928\\u0902.:\\n\\n\\u0920\\u0947\\u0917\\u093e\\u0928\\u093e:  \\u0928\\u093e \\u0915\\u093f\\n\"\n        ],\n        \"semantic_type\": \"\",\n        \"description\": \"\"\n      }\n    },\n    {\n      \"column\": \"label\",\n      \"properties\": {\n        \"dtype\": \"category\",\n        \"num_unique_values\": 4,\n        \"samples\": [\n          \"Press Release\",\n          \"Policy\",\n          \"Education\"\n        ],\n        \"semantic_type\": \"\",\n        \"description\": \"\"\n      }\n    }\n  ]\n}",
              "type": "dataframe",
              "variable_name": "df"
            },
            "text/html": [
              "\n",
              "  <div id=\"df-2040e18c-6eff-4f0d-afbb-c0c1c5e9b32a\" class=\"colab-df-container\">\n",
              "    <div>\n",
              "<style scoped>\n",
              "    .dataframe tbody tr th:only-of-type {\n",
              "        vertical-align: middle;\n",
              "    }\n",
              "\n",
              "    .dataframe tbody tr th {\n",
              "        vertical-align: top;\n",
              "    }\n",
              "\n",
              "    .dataframe thead th {\n",
              "        text-align: right;\n",
              "    }\n",
              "</style>\n",
              "<table border=\"1\" class=\"dataframe\">\n",
              "  <thead>\n",
              "    <tr style=\"text-align: right;\">\n",
              "      <th></th>\n",
              "      <th>paras</th>\n",
              "      <th>label</th>\n",
              "    </tr>\n",
              "  </thead>\n",
              "  <tbody>\n",
              "    <tr>\n",
              "      <th>0</th>\n",
              "      <td>स्नातक तह विज्ञान तथा प्रविधि (.5०.(५।1) विषय ...</td>\n",
              "      <td>Education</td>\n",
              "    </tr>\n",
              "    <tr>\n",
              "      <th>1</th>\n",
              "      <td>फोन नं. ४२४४०४७\\n\\n1918.0. नपाम्पस प्रमुखको नम...</td>\n",
              "      <td>Education</td>\n",
              "    </tr>\n",
              "    <tr>\n",
              "      <th>2</th>\n",
              "      <td>) विषय दोश्रो वर्ष चौथो शत्र-२०७८ समूहको पुनर्...</td>\n",
              "      <td>Education</td>\n",
              "    </tr>\n",
              "    <tr>\n",
              "      <th>3</th>\n",
              "      <td>त्रिभुवन विश्वविश्वालय शाताप, रिवपाभातण, पटाा\\...</td>\n",
              "      <td>Education</td>\n",
              "    </tr>\n",
              "    <tr>\n",
              "      <th>4</th>\n",
              "      <td>त्रिभुवन विश्वविद्यालय\\nविज्ञान तथा प्रविधि अध...</td>\n",
              "      <td>Education</td>\n",
              "    </tr>\n",
              "  </tbody>\n",
              "</table>\n",
              "</div>\n",
              "    <div class=\"colab-df-buttons\">\n",
              "\n",
              "  <div class=\"colab-df-container\">\n",
              "    <button class=\"colab-df-convert\" onclick=\"convertToInteractive('df-2040e18c-6eff-4f0d-afbb-c0c1c5e9b32a')\"\n",
              "            title=\"Convert this dataframe to an interactive table.\"\n",
              "            style=\"display:none;\">\n",
              "\n",
              "  <svg xmlns=\"http://www.w3.org/2000/svg\" height=\"24px\" viewBox=\"0 -960 960 960\">\n",
              "    <path d=\"M120-120v-720h720v720H120Zm60-500h600v-160H180v160Zm220 220h160v-160H400v160Zm0 220h160v-160H400v160ZM180-400h160v-160H180v160Zm440 0h160v-160H620v160ZM180-180h160v-160H180v160Zm440 0h160v-160H620v160Z\"/>\n",
              "  </svg>\n",
              "    </button>\n",
              "\n",
              "  <style>\n",
              "    .colab-df-container {\n",
              "      display:flex;\n",
              "      gap: 12px;\n",
              "    }\n",
              "\n",
              "    .colab-df-convert {\n",
              "      background-color: #E8F0FE;\n",
              "      border: none;\n",
              "      border-radius: 50%;\n",
              "      cursor: pointer;\n",
              "      display: none;\n",
              "      fill: #1967D2;\n",
              "      height: 32px;\n",
              "      padding: 0 0 0 0;\n",
              "      width: 32px;\n",
              "    }\n",
              "\n",
              "    .colab-df-convert:hover {\n",
              "      background-color: #E2EBFA;\n",
              "      box-shadow: 0px 1px 2px rgba(60, 64, 67, 0.3), 0px 1px 3px 1px rgba(60, 64, 67, 0.15);\n",
              "      fill: #174EA6;\n",
              "    }\n",
              "\n",
              "    .colab-df-buttons div {\n",
              "      margin-bottom: 4px;\n",
              "    }\n",
              "\n",
              "    [theme=dark] .colab-df-convert {\n",
              "      background-color: #3B4455;\n",
              "      fill: #D2E3FC;\n",
              "    }\n",
              "\n",
              "    [theme=dark] .colab-df-convert:hover {\n",
              "      background-color: #434B5C;\n",
              "      box-shadow: 0px 1px 3px 1px rgba(0, 0, 0, 0.15);\n",
              "      filter: drop-shadow(0px 1px 2px rgba(0, 0, 0, 0.3));\n",
              "      fill: #FFFFFF;\n",
              "    }\n",
              "  </style>\n",
              "\n",
              "    <script>\n",
              "      const buttonEl =\n",
              "        document.querySelector('#df-2040e18c-6eff-4f0d-afbb-c0c1c5e9b32a button.colab-df-convert');\n",
              "      buttonEl.style.display =\n",
              "        google.colab.kernel.accessAllowed ? 'block' : 'none';\n",
              "\n",
              "      async function convertToInteractive(key) {\n",
              "        const element = document.querySelector('#df-2040e18c-6eff-4f0d-afbb-c0c1c5e9b32a');\n",
              "        const dataTable =\n",
              "          await google.colab.kernel.invokeFunction('convertToInteractive',\n",
              "                                                    [key], {});\n",
              "        if (!dataTable) return;\n",
              "\n",
              "        const docLinkHtml = 'Like what you see? Visit the ' +\n",
              "          '<a target=\"_blank\" href=https://colab.research.google.com/notebooks/data_table.ipynb>data table notebook</a>'\n",
              "          + ' to learn more about interactive tables.';\n",
              "        element.innerHTML = '';\n",
              "        dataTable['output_type'] = 'display_data';\n",
              "        await google.colab.output.renderOutput(dataTable, element);\n",
              "        const docLink = document.createElement('div');\n",
              "        docLink.innerHTML = docLinkHtml;\n",
              "        element.appendChild(docLink);\n",
              "      }\n",
              "    </script>\n",
              "  </div>\n",
              "\n",
              "\n",
              "<div id=\"df-351f76ff-c00c-404f-a3dd-0e05ce014cdc\">\n",
              "  <button class=\"colab-df-quickchart\" onclick=\"quickchart('df-351f76ff-c00c-404f-a3dd-0e05ce014cdc')\"\n",
              "            title=\"Suggest charts\"\n",
              "            style=\"display:none;\">\n",
              "\n",
              "<svg xmlns=\"http://www.w3.org/2000/svg\" height=\"24px\"viewBox=\"0 0 24 24\"\n",
              "     width=\"24px\">\n",
              "    <g>\n",
              "        <path d=\"M19 3H5c-1.1 0-2 .9-2 2v14c0 1.1.9 2 2 2h14c1.1 0 2-.9 2-2V5c0-1.1-.9-2-2-2zM9 17H7v-7h2v7zm4 0h-2V7h2v10zm4 0h-2v-4h2v4z\"/>\n",
              "    </g>\n",
              "</svg>\n",
              "  </button>\n",
              "\n",
              "<style>\n",
              "  .colab-df-quickchart {\n",
              "      --bg-color: #E8F0FE;\n",
              "      --fill-color: #1967D2;\n",
              "      --hover-bg-color: #E2EBFA;\n",
              "      --hover-fill-color: #174EA6;\n",
              "      --disabled-fill-color: #AAA;\n",
              "      --disabled-bg-color: #DDD;\n",
              "  }\n",
              "\n",
              "  [theme=dark] .colab-df-quickchart {\n",
              "      --bg-color: #3B4455;\n",
              "      --fill-color: #D2E3FC;\n",
              "      --hover-bg-color: #434B5C;\n",
              "      --hover-fill-color: #FFFFFF;\n",
              "      --disabled-bg-color: #3B4455;\n",
              "      --disabled-fill-color: #666;\n",
              "  }\n",
              "\n",
              "  .colab-df-quickchart {\n",
              "    background-color: var(--bg-color);\n",
              "    border: none;\n",
              "    border-radius: 50%;\n",
              "    cursor: pointer;\n",
              "    display: none;\n",
              "    fill: var(--fill-color);\n",
              "    height: 32px;\n",
              "    padding: 0;\n",
              "    width: 32px;\n",
              "  }\n",
              "\n",
              "  .colab-df-quickchart:hover {\n",
              "    background-color: var(--hover-bg-color);\n",
              "    box-shadow: 0 1px 2px rgba(60, 64, 67, 0.3), 0 1px 3px 1px rgba(60, 64, 67, 0.15);\n",
              "    fill: var(--button-hover-fill-color);\n",
              "  }\n",
              "\n",
              "  .colab-df-quickchart-complete:disabled,\n",
              "  .colab-df-quickchart-complete:disabled:hover {\n",
              "    background-color: var(--disabled-bg-color);\n",
              "    fill: var(--disabled-fill-color);\n",
              "    box-shadow: none;\n",
              "  }\n",
              "\n",
              "  .colab-df-spinner {\n",
              "    border: 2px solid var(--fill-color);\n",
              "    border-color: transparent;\n",
              "    border-bottom-color: var(--fill-color);\n",
              "    animation:\n",
              "      spin 1s steps(1) infinite;\n",
              "  }\n",
              "\n",
              "  @keyframes spin {\n",
              "    0% {\n",
              "      border-color: transparent;\n",
              "      border-bottom-color: var(--fill-color);\n",
              "      border-left-color: var(--fill-color);\n",
              "    }\n",
              "    20% {\n",
              "      border-color: transparent;\n",
              "      border-left-color: var(--fill-color);\n",
              "      border-top-color: var(--fill-color);\n",
              "    }\n",
              "    30% {\n",
              "      border-color: transparent;\n",
              "      border-left-color: var(--fill-color);\n",
              "      border-top-color: var(--fill-color);\n",
              "      border-right-color: var(--fill-color);\n",
              "    }\n",
              "    40% {\n",
              "      border-color: transparent;\n",
              "      border-right-color: var(--fill-color);\n",
              "      border-top-color: var(--fill-color);\n",
              "    }\n",
              "    60% {\n",
              "      border-color: transparent;\n",
              "      border-right-color: var(--fill-color);\n",
              "    }\n",
              "    80% {\n",
              "      border-color: transparent;\n",
              "      border-right-color: var(--fill-color);\n",
              "      border-bottom-color: var(--fill-color);\n",
              "    }\n",
              "    90% {\n",
              "      border-color: transparent;\n",
              "      border-bottom-color: var(--fill-color);\n",
              "    }\n",
              "  }\n",
              "</style>\n",
              "\n",
              "  <script>\n",
              "    async function quickchart(key) {\n",
              "      const quickchartButtonEl =\n",
              "        document.querySelector('#' + key + ' button');\n",
              "      quickchartButtonEl.disabled = true;  // To prevent multiple clicks.\n",
              "      quickchartButtonEl.classList.add('colab-df-spinner');\n",
              "      try {\n",
              "        const charts = await google.colab.kernel.invokeFunction(\n",
              "            'suggestCharts', [key], {});\n",
              "      } catch (error) {\n",
              "        console.error('Error during call to suggestCharts:', error);\n",
              "      }\n",
              "      quickchartButtonEl.classList.remove('colab-df-spinner');\n",
              "      quickchartButtonEl.classList.add('colab-df-quickchart-complete');\n",
              "    }\n",
              "    (() => {\n",
              "      let quickchartButtonEl =\n",
              "        document.querySelector('#df-351f76ff-c00c-404f-a3dd-0e05ce014cdc button');\n",
              "      quickchartButtonEl.style.display =\n",
              "        google.colab.kernel.accessAllowed ? 'block' : 'none';\n",
              "    })();\n",
              "  </script>\n",
              "</div>\n",
              "\n",
              "    </div>\n",
              "  </div>\n"
            ],
            "text/plain": [
              "                                               paras      label\n",
              "0  स्नातक तह विज्ञान तथा प्रविधि (.5०.(५।1) विषय ...  Education\n",
              "1  फोन नं. ४२४४०४७\\n\\n1918.0. नपाम्पस प्रमुखको नम...  Education\n",
              "2  ) विषय दोश्रो वर्ष चौथो शत्र-२०७८ समूहको पुनर्...  Education\n",
              "3  त्रिभुवन विश्वविश्वालय शाताप, रिवपाभातण, पटाा\\...  Education\n",
              "4  त्रिभुवन विश्वविद्यालय\\nविज्ञान तथा प्रविधि अध...  Education"
            ]
          },
          "execution_count": 13,
          "metadata": {},
          "output_type": "execute_result"
        }
      ],
      "source": [
        "df.head()"
      ]
    },
    {
      "cell_type": "code",
      "execution_count": 14,
      "metadata": {
        "id": "NC3hK77ffjhN"
      },
      "outputs": [],
      "source": [
        "df['paras'] = df.paras.apply(lambda x: re.sub('\\n', ' ', x))"
      ]
    },
    {
      "cell_type": "code",
      "execution_count": 15,
      "metadata": {
        "id": "0NHvlHI9VRYV"
      },
      "outputs": [],
      "source": [
        "df['paras'] = df['paras'].apply(lambda x: re.sub(r'[\\d०१२३४५६७८९]', '', x))"
      ]
    },
    {
      "cell_type": "code",
      "execution_count": 16,
      "metadata": {
        "id": "5JHUT3cJVQFF"
      },
      "outputs": [],
      "source": [
        "# review = [re.sub(r'[\\d०१२३४५६७८९]', '', text) for text in review]"
      ]
    },
    {
      "cell_type": "code",
      "execution_count": 17,
      "metadata": {
        "id": "LXZW4vhMGApl"
      },
      "outputs": [],
      "source": [
        "def split_train_test(df, test_size=0.2):\n",
        "    train, val = train_test_split(df, test_size=test_size,random_state=42)\n",
        "    return train.reset_index(drop=True), val.reset_index(drop=True)"
      ]
    },
    {
      "cell_type": "code",
      "execution_count": 18,
      "metadata": {
        "id": "LvNdoJ9EGApm"
      },
      "outputs": [],
      "source": [
        "traindf, valdf = split_train_test(df, test_size=0.2)"
      ]
    },
    {
      "cell_type": "code",
      "execution_count": 19,
      "metadata": {
        "colab": {
          "base_uri": "https://localhost:8080/",
          "height": 241
        },
        "id": "6wN_QLsjGApp",
        "outputId": "144949a6-f753-4e2c-f88f-6ead85956640"
      },
      "outputs": [
        {
          "data": {
            "text/html": [
              "<div>\n",
              "<style scoped>\n",
              "    .dataframe tbody tr th:only-of-type {\n",
              "        vertical-align: middle;\n",
              "    }\n",
              "\n",
              "    .dataframe tbody tr th {\n",
              "        vertical-align: top;\n",
              "    }\n",
              "\n",
              "    .dataframe thead th {\n",
              "        text-align: right;\n",
              "    }\n",
              "</style>\n",
              "<table border=\"1\" class=\"dataframe\">\n",
              "  <thead>\n",
              "    <tr style=\"text-align: right;\">\n",
              "      <th></th>\n",
              "      <th>count</th>\n",
              "    </tr>\n",
              "    <tr>\n",
              "      <th>label</th>\n",
              "      <th></th>\n",
              "    </tr>\n",
              "  </thead>\n",
              "  <tbody>\n",
              "    <tr>\n",
              "      <th>ID</th>\n",
              "      <td>82</td>\n",
              "    </tr>\n",
              "    <tr>\n",
              "      <th>Policy</th>\n",
              "      <td>82</td>\n",
              "    </tr>\n",
              "    <tr>\n",
              "      <th>Press Release</th>\n",
              "      <td>82</td>\n",
              "    </tr>\n",
              "    <tr>\n",
              "      <th>Education</th>\n",
              "      <td>74</td>\n",
              "    </tr>\n",
              "  </tbody>\n",
              "</table>\n",
              "</div><br><label><b>dtype:</b> int64</label>"
            ],
            "text/plain": [
              "label\n",
              "ID               82\n",
              "Policy           82\n",
              "Press Release    82\n",
              "Education        74\n",
              "Name: count, dtype: int64"
            ]
          },
          "execution_count": 19,
          "metadata": {},
          "output_type": "execute_result"
        }
      ],
      "source": [
        "traindf.shape\n",
        "traindf.label.value_counts()"
      ]
    },
    {
      "cell_type": "code",
      "execution_count": 20,
      "metadata": {
        "colab": {
          "base_uri": "https://localhost:8080/",
          "height": 241
        },
        "id": "_tm6OVOrGApp",
        "outputId": "a0fcc22f-ed55-4d54-9199-4a6971579e1e"
      },
      "outputs": [
        {
          "data": {
            "text/html": [
              "<div>\n",
              "<style scoped>\n",
              "    .dataframe tbody tr th:only-of-type {\n",
              "        vertical-align: middle;\n",
              "    }\n",
              "\n",
              "    .dataframe tbody tr th {\n",
              "        vertical-align: top;\n",
              "    }\n",
              "\n",
              "    .dataframe thead th {\n",
              "        text-align: right;\n",
              "    }\n",
              "</style>\n",
              "<table border=\"1\" class=\"dataframe\">\n",
              "  <thead>\n",
              "    <tr style=\"text-align: right;\">\n",
              "      <th></th>\n",
              "      <th>count</th>\n",
              "    </tr>\n",
              "    <tr>\n",
              "      <th>label</th>\n",
              "      <th></th>\n",
              "    </tr>\n",
              "  </thead>\n",
              "  <tbody>\n",
              "    <tr>\n",
              "      <th>Education</th>\n",
              "      <td>26</td>\n",
              "    </tr>\n",
              "    <tr>\n",
              "      <th>ID</th>\n",
              "      <td>18</td>\n",
              "    </tr>\n",
              "    <tr>\n",
              "      <th>Policy</th>\n",
              "      <td>18</td>\n",
              "    </tr>\n",
              "    <tr>\n",
              "      <th>Press Release</th>\n",
              "      <td>18</td>\n",
              "    </tr>\n",
              "  </tbody>\n",
              "</table>\n",
              "</div><br><label><b>dtype:</b> int64</label>"
            ],
            "text/plain": [
              "label\n",
              "Education        26\n",
              "ID               18\n",
              "Policy           18\n",
              "Press Release    18\n",
              "Name: count, dtype: int64"
            ]
          },
          "execution_count": 20,
          "metadata": {},
          "output_type": "execute_result"
        }
      ],
      "source": [
        "valdf.shape\n",
        "valdf.label.value_counts()"
      ]
    },
    {
      "cell_type": "code",
      "execution_count": 21,
      "metadata": {
        "id": "KSgsF2xIGApq"
      },
      "outputs": [],
      "source": [
        "traindf.to_csv('traindf.csv', index=False)\n",
        "valdf.to_csv('valdf.csv', index=False)"
      ]
    },
    {
      "cell_type": "code",
      "execution_count": 22,
      "metadata": {
        "id": "QAmdop66GApr"
      },
      "outputs": [],
      "source": [
        "def tokenizer(s): return s.split()"
      ]
    },
    {
      "cell_type": "code",
      "execution_count": 23,
      "metadata": {
        "id": "68Jdgh6ZGApr"
      },
      "outputs": [],
      "source": [
        "txt_field = data.Field(sequential=True, tokenize=tokenizer, include_lengths=True, use_vocab=True)\n",
        "label_field = data.LabelField(dtype=torch.long)\n",
        "\n",
        "train_val_fields = [\n",
        "    ('paras', txt_field),\n",
        "    ('label', label_field)\n",
        "]"
      ]
    },
    {
      "cell_type": "code",
      "execution_count": 24,
      "metadata": {
        "id": "UxbDKDUWGAps"
      },
      "outputs": [],
      "source": [
        "trainds, valds = data.TabularDataset.splits(path='.', format='csv', train='traindf.csv', validation='valdf.csv', fields=train_val_fields, skip_header=True)"
      ]
    },
    {
      "cell_type": "code",
      "execution_count": 25,
      "metadata": {
        "colab": {
          "base_uri": "https://localhost:8080/"
        },
        "id": "zDtr2V1MGAps",
        "outputId": "efb9938e-6a89-4b59-d2eb-f20b9a2c6df7"
      },
      "outputs": [
        {
          "data": {
            "text/plain": [
              "(320, 80)"
            ]
          },
          "execution_count": 25,
          "metadata": {},
          "output_type": "execute_result"
        }
      ],
      "source": [
        "len(trainds), len(valds)"
      ]
    },
    {
      "cell_type": "code",
      "execution_count": 26,
      "metadata": {
        "id": "PEgTkMzKGApv"
      },
      "outputs": [],
      "source": [
        "# ex = valds[0]\n",
        "# ex.label"
      ]
    },
    {
      "cell_type": "code",
      "execution_count": 27,
      "metadata": {
        "colab": {
          "base_uri": "https://localhost:8080/"
        },
        "id": "2qpZ4hngGApv",
        "outputId": "6801e326-82fd-4518-e91e-36e10f96f090"
      },
      "outputs": [
        {
          "name": "stdout",
          "output_type": "stream",
          "text": [
            "Downloading...\n",
            "From (original): https://drive.google.com/uc?id=1vf2Mj88oC-rytwDA4lwOrkbo0Mk5N-Fn\n",
            "From (redirected): https://drive.google.com/uc?id=1vf2Mj88oC-rytwDA4lwOrkbo0Mk5N-Fn&confirm=t&uuid=6234707c-d720-4529-bea0-411a94647087\n",
            "To: /content/cc.ne.300.vec.gz\n",
            "100% 340M/340M [00:07<00:00, 44.0MB/s]\n"
          ]
        }
      ],
      "source": [
        "!gdown https://drive.google.com/uc?id=1vf2Mj88oC-rytwDA4lwOrkbo0Mk5N-Fn"
      ]
    },
    {
      "cell_type": "code",
      "execution_count": 28,
      "metadata": {
        "id": "YkdxeKdSHrS0"
      },
      "outputs": [],
      "source": [
        "!gunzip /content/cc.ne.300.vec.gz"
      ]
    },
    {
      "cell_type": "code",
      "execution_count": 29,
      "metadata": {
        "colab": {
          "base_uri": "https://localhost:8080/"
        },
        "id": "vAyJTk2_GApv",
        "outputId": "7ea36bcc-5a30-4833-b924-ae9d68cdd316"
      },
      "outputs": [
        {
          "name": "stderr",
          "output_type": "stream",
          "text": [
            "  0%|          | 0/576768 [00:00<?, ?it/s]WARNING:torchtext.vocab:Skipping token b'576768' with 1-dimensional vector [b'300']; likely a header\n",
            "100%|██████████| 576768/576768 [01:53<00:00, 5071.87it/s]\n"
          ]
        }
      ],
      "source": [
        "from torchtext.vocab import Vectors\n",
        "\n",
        "vectors_file = '/content/cc.ne.300.vec'\n",
        "cache_dir = './nepali_embedding/'\n",
        "\n",
        "vec = Vectors(name=vectors_file, cache=cache_dir)"
      ]
    },
    {
      "cell_type": "code",
      "execution_count": 30,
      "metadata": {
        "id": "qc7CKeoKGApw"
      },
      "outputs": [],
      "source": [
        "txt_field.build_vocab(trainds, valds, max_size=100000, vectors=vec)\n",
        "label_field.build_vocab(trainds)"
      ]
    },
    {
      "cell_type": "code",
      "execution_count": 31,
      "metadata": {
        "colab": {
          "base_uri": "https://localhost:8080/"
        },
        "id": "jBz1DvZZ6E9_",
        "outputId": "d5d84da3-7b7f-4f04-8346-b8155955a082"
      },
      "outputs": [
        {
          "name": "stdout",
          "output_type": "stream",
          "text": [
            "Number of classes: 4\n"
          ]
        }
      ],
      "source": [
        "print(f'Number of classes: {len(label_field.vocab)}')"
      ]
    },
    {
      "cell_type": "code",
      "execution_count": 32,
      "metadata": {
        "colab": {
          "base_uri": "https://localhost:8080/"
        },
        "id": "LP9yg-LkG10V",
        "outputId": "1a0b6380-e787-41c7-a55d-7284baf1eb9a"
      },
      "outputs": [
        {
          "name": "stdout",
          "output_type": "stream",
          "text": [
            "Label mapping: defaultdict(<function _default_unk_index at 0x79bfb03eb9a0>, {'ID': 0, 'Policy': 1, 'Press Release': 2, 'Education': 3})\n"
          ]
        }
      ],
      "source": [
        "print('Label mapping:', label_field.vocab.stoi)"
      ]
    },
    {
      "cell_type": "code",
      "execution_count": 33,
      "metadata": {
        "colab": {
          "base_uri": "https://localhost:8080/"
        },
        "id": "2ZoShXZaGApx",
        "outputId": "5068fa08-7cd1-469c-de79-9beb9996542c"
      },
      "outputs": [
        {
          "data": {
            "text/plain": [
              "torch.Size([8810, 300])"
            ]
          },
          "execution_count": 33,
          "metadata": {},
          "output_type": "execute_result"
        }
      ],
      "source": [
        "txt_field.vocab.vectors.shape"
      ]
    },
    {
      "cell_type": "code",
      "execution_count": 34,
      "metadata": {
        "id": "EAXmjhUYGApy"
      },
      "outputs": [],
      "source": [
        "traindl, valdl = data.BucketIterator.splits(datasets=(trainds, valds),\n",
        "                                            batch_sizes=(3,3),\n",
        "                                            sort_key=lambda x: len(x.paras),\n",
        "                                            device=None,\n",
        "                                            sort_within_batch=True,\n",
        "                                            repeat=False)"
      ]
    },
    {
      "cell_type": "code",
      "execution_count": 35,
      "metadata": {
        "colab": {
          "base_uri": "https://localhost:8080/"
        },
        "id": "sTz4QI95GApy",
        "outputId": "78a0427b-f4a1-45dc-cd4a-5789af29e12d"
      },
      "outputs": [
        {
          "data": {
            "text/plain": [
              "(107, 27)"
            ]
          },
          "execution_count": 35,
          "metadata": {},
          "output_type": "execute_result"
        }
      ],
      "source": [
        "len(traindl), len(valdl)"
      ]
    },
    {
      "cell_type": "code",
      "execution_count": 36,
      "metadata": {
        "colab": {
          "base_uri": "https://localhost:8080/",
          "height": 191
        },
        "id": "FK8sNpluGApz",
        "outputId": "d62bdbb9-b970-4e75-9fdd-7a7849a3b35a"
      },
      "outputs": [
        {
          "data": {
            "text/html": [
              "<div style=\"max-width:800px; border: 1px solid var(--colab-border-color);\"><style>\n",
              "      pre.function-repr-contents {\n",
              "        overflow-x: auto;\n",
              "        padding: 8px 12px;\n",
              "        max-height: 500px;\n",
              "      }\n",
              "\n",
              "      pre.function-repr-contents.function-repr-contents-collapsed {\n",
              "        cursor: pointer;\n",
              "        max-height: 100px;\n",
              "      }\n",
              "    </style>\n",
              "    <pre style=\"white-space: initial; background:\n",
              "         var(--colab-secondary-surface-color); padding: 8px 12px;\n",
              "         border-bottom: 1px solid var(--colab-border-color);\"><b>torchtext.data.iterator.BucketIterator</b><br/>def __init__(dataset, batch_size, sort_key=None, device=None, batch_size_fn=None, train=True, repeat=False, shuffle=None, sort=None, sort_within_batch=None)</pre><pre class=\"function-repr-contents function-repr-contents-collapsed\" style=\"\"><a class=\"filepath\" style=\"display:none\" href=\"#\">/usr/local/lib/python3.10/dist-packages/torchtext/data/iterator.py</a>Defines an iterator that batches examples of similar lengths together.\n",
              "\n",
              "Minimizes amount of padding needed while producing freshly shuffled\n",
              "batches for each new epoch. See pool for the bucketing procedure used.</pre>\n",
              "      <script>\n",
              "      if (google.colab.kernel.accessAllowed && google.colab.files && google.colab.files.view) {\n",
              "        for (const element of document.querySelectorAll('.filepath')) {\n",
              "          element.style.display = 'block'\n",
              "          element.onclick = (event) => {\n",
              "            event.preventDefault();\n",
              "            event.stopPropagation();\n",
              "            google.colab.files.view(element.textContent, 233);\n",
              "          };\n",
              "        }\n",
              "      }\n",
              "      for (const element of document.querySelectorAll('.function-repr-contents')) {\n",
              "        element.onclick = (event) => {\n",
              "          event.preventDefault();\n",
              "          event.stopPropagation();\n",
              "          element.classList.toggle('function-repr-contents-collapsed');\n",
              "        };\n",
              "      }\n",
              "      </script>\n",
              "      </div>"
            ],
            "text/plain": [
              "torchtext.data.iterator.BucketIterator"
            ]
          },
          "execution_count": 36,
          "metadata": {},
          "output_type": "execute_result"
        }
      ],
      "source": [
        "batch = next(iter(traindl))\n",
        "type(traindl)"
      ]
    },
    {
      "cell_type": "code",
      "execution_count": 37,
      "metadata": {
        "colab": {
          "base_uri": "https://localhost:8080/"
        },
        "id": "cD75XpQsGAp0",
        "outputId": "99e80f23-274c-4991-ed5a-82058790a676"
      },
      "outputs": [
        {
          "data": {
            "text/plain": [
              "(tensor([[  43,   13,   13],\n",
              "         [   6,   66,   66],\n",
              "         [  46,   63,   63],\n",
              "         [  62,   58,   58],\n",
              "         [ 199,   10,   10],\n",
              "         [ 284,   53,   53],\n",
              "         [ 116,   50,   50],\n",
              "         [ 263,  107,  107],\n",
              "         [  28, 2019, 1189],\n",
              "         [  55,   71,   71],\n",
              "         [  75,   87,   87],\n",
              "         [ 814,   74,   74],\n",
              "         [ 169,   98,   98],\n",
              "         [  65,    3,    3],\n",
              "         [ 449,   94,   94],\n",
              "         [ 339,    8,    8],\n",
              "         [  40,   35,   35],\n",
              "         [ 455, 8581, 1319],\n",
              "         [ 493,  218,  353],\n",
              "         [   7,  104,  104],\n",
              "         [ 139,    3,    3],\n",
              "         [  64,  208,  208],\n",
              "         [ 839,   33,   33],\n",
              "         [  48,  106,  106],\n",
              "         [2120,   10,   10],\n",
              "         [ 151,    3,    3],\n",
              "         [ 167, 2019, 1189],\n",
              "         [ 135,   96,   96],\n",
              "         [  73,   84,   84],\n",
              "         [ 344,    4,    4],\n",
              "         [   9,    3,    3],\n",
              "         [ 169, 1872, 5482],\n",
              "         [  61,   60,   60],\n",
              "         [1653,   30,   30],\n",
              "         [  72,   37,   37],\n",
              "         [ 793,   78,   78],\n",
              "         [ 189,  102,  102],\n",
              "         [ 392,   10,   10],\n",
              "         [   2,    3,    3],\n",
              "         [   4,  765,  765],\n",
              "         [   7,  516,  516],\n",
              "         [  23,  318,  318],\n",
              "         [ 134,    9,    9],\n",
              "         [ 661,   97,   97],\n",
              "         [ 301,    3,    3],\n",
              "         [  41, 1139,  783],\n",
              "         [1665,   60,  375],\n",
              "         [   4,   30,   30],\n",
              "         [1083,   37,   37],\n",
              "         [ 355,   33,   33],\n",
              "         [ 301,   89,   89],\n",
              "         [2559,  105,  105],\n",
              "         [1190,  103,  103],\n",
              "         [ 157,   95,   95],\n",
              "         [4056,  101,  101],\n",
              "         [   4,    8,    8],\n",
              "         [  55,   93,   93],\n",
              "         [   7,    3,    3],\n",
              "         [  48,  643, 7325],\n",
              "         [  17,  218,  353],\n",
              "         [   5,   19,   19],\n",
              "         [ 229,   20,   20],\n",
              "         [   3,  765,  765],\n",
              "         [ 426,  516,  516],\n",
              "         [  41,  318,  318],\n",
              "         [ 785,    9,    9],\n",
              "         [ 371,   36,   36],\n",
              "         [   3,   12,   12],\n",
              "         [ 257,   18,   18],\n",
              "         [   4,   34,   34],\n",
              "         [   7,   39,   39],\n",
              "         [  85,   91,   91],\n",
              "         [   3,    8,    8],\n",
              "         [ 206,   35,   35],\n",
              "         [  25, 2646, 1318],\n",
              "         [ 532,  218,  353],\n",
              "         [   2,   19,   19],\n",
              "         [  55,   20,   20],\n",
              "         [2846, 2019, 1189],\n",
              "         [  70,    9,    9],\n",
              "         [ 212,   36,   36],\n",
              "         [ 318,   12,   12],\n",
              "         [  25,   18,   18],\n",
              "         [ 213,   34,   34],\n",
              "         [  64,   39,   39],\n",
              "         [ 159,  100,  100],\n",
              "         [  83,   99,   99],\n",
              "         [   2,   19,   19],\n",
              "         [  17,   20,   20],\n",
              "         [   3,   18,   18],\n",
              "         [  31,   92,   92]]),\n",
              " tensor([91, 91, 91]))"
            ]
          },
          "execution_count": 37,
          "metadata": {},
          "output_type": "execute_result"
        }
      ],
      "source": [
        "batch.paras"
      ]
    },
    {
      "cell_type": "code",
      "execution_count": 38,
      "metadata": {
        "colab": {
          "base_uri": "https://localhost:8080/"
        },
        "id": "PCWk3dLvGAp0",
        "outputId": "c162794d-478f-499f-d0d4-d54c1f0283f8"
      },
      "outputs": [
        {
          "data": {
            "text/plain": [
              "tensor([3, 0, 0])"
            ]
          },
          "execution_count": 38,
          "metadata": {},
          "output_type": "execute_result"
        }
      ],
      "source": [
        "batch.label"
      ]
    },
    {
      "cell_type": "code",
      "execution_count": 39,
      "metadata": {
        "colab": {
          "base_uri": "https://localhost:8080/"
        },
        "id": "x49LHJiiNK44",
        "outputId": "d83dff73-e6cd-4080-dadc-06d2c5fcf2f9"
      },
      "outputs": [
        {
          "name": "stdout",
          "output_type": "stream",
          "text": [
            "Label mapping: defaultdict(<function _default_unk_index at 0x79bfb03eb9a0>, {'ID': 0, 'Policy': 1, 'Press Release': 2, 'Education': 3})\n"
          ]
        }
      ],
      "source": [
        "print('Label mapping:', label_field.vocab.stoi)"
      ]
    },
    {
      "cell_type": "code",
      "execution_count": 40,
      "metadata": {
        "colab": {
          "base_uri": "https://localhost:8080/"
        },
        "id": "1N-P2kL0NMyw",
        "outputId": "9c9deff5-4b0c-46f6-f62d-10fe5bd50387"
      },
      "outputs": [
        {
          "name": "stdout",
          "output_type": "stream",
          "text": [
            "Training label distribution:\n",
            " label\n",
            "ID               82\n",
            "Policy           82\n",
            "Press Release    82\n",
            "Education        74\n",
            "Name: count, dtype: int64\n",
            "Validation label distribution:\n",
            " label\n",
            "Education        26\n",
            "ID               18\n",
            "Policy           18\n",
            "Press Release    18\n",
            "Name: count, dtype: int64\n"
          ]
        }
      ],
      "source": [
        "print(\"Training label distribution:\\n\", traindf.label.value_counts())\n",
        "print(\"Validation label distribution:\\n\", valdf.label.value_counts())"
      ]
    },
    {
      "cell_type": "code",
      "execution_count": 41,
      "metadata": {
        "colab": {
          "base_uri": "https://localhost:8080/"
        },
        "id": "GDnzd8OzNPs5",
        "outputId": "6274da2d-77ad-47d1-d515-984a8f51a0b6"
      },
      "outputs": [
        {
          "name": "stdout",
          "output_type": "stream",
          "text": [
            "                                               paras      label\n",
            "0  त्रिभुवन विश्वविश्वालय शाताप, रिवपाभातण, पटाा ...  Education\n",
            "1   .  . भै  त्रिभुवन विश्वविद्यालय . ए  विज्ञान ...  Education\n",
            "2  नेपाल सरकार  गृह मन्त्रालय जिल्ला प्रशासन कार्...         ID\n",
            "3  नेपाल सरकार  गृह मन्त्रालय जिल्ला प्रशासन कार्...         ID\n",
            "4  नेपाल सरकार  गृह मन्त्रालय जिल्ला प्रशासन कार्...         ID\n"
          ]
        }
      ],
      "source": [
        "print(traindf.head())"
      ]
    },
    {
      "cell_type": "code",
      "execution_count": 42,
      "metadata": {
        "colab": {
          "base_uri": "https://localhost:8080/",
          "height": 87
        },
        "id": "XzYt8F5HNPvb",
        "outputId": "1f62d99e-5961-4f4a-affe-afd913aad0d3"
      },
      "outputs": [
        {
          "data": {
            "application/vnd.google.colaboratory.intrinsic+json": {
              "type": "string"
            },
            "text/plain": [
              "'त्रिभुवन विश्वविश्वालय शाताप, रिवपाभातण, पटाा : --, थ:   पपणाएरका एगाटाडछ , वाब्य : .ा..  परीक्षा नियन्त्रण कार्यालय \" विग्य बल्बु, काठमाडौ, नेपाल ।  एा  छौ फोन : , फूयाक्स :   चाप  पत्र संख्या : भिति/: /। प// :  सूचना  त्रिभुवन विश्वविद्यालय, परीक्षा नियन्त्रण कार्यालय, बल्खुद्वारा  आश्विन महिनामा संवचालन हुने वार्णिक परीक्षा प्रणाली अन्तर्गत  वर्षे स्नानक तह दोस्गो वर्षको परीक्षा आवेदठन फाराम मर्ने समय  भाद्  गतेसम्म कायम गरिएकोमा केही क्याम्पसमा अझै इन्ट्र कार्य बाँकी रहेकोले ।। गतेदेखि दोव्बर दस्तुरमा  दिनसम्म इन्ट्री गर्न   खुला गरिएकाले सोही अवधि भित्र इन्ट्री कार्य सम्पन्न गर्न सम्बनिधत सबै क्याम्पसलाई सूचित गरिन्छ। ।  पुनश्च :  नियमित प्रथम वर्षको रजिष्ट्रेशन इन्ट्री कार्य पनि सोही अवधिसम्मको लागि खुलाइएकोले छुट हुन गएका फाराम इन्ट्री गर्न पनि सूचित गरिन्छ ।  परीक्षा नियन्त्रक '"
            ]
          },
          "execution_count": 42,
          "metadata": {},
          "output_type": "execute_result"
        }
      ],
      "source": [
        "traindf['paras'][0]"
      ]
    },
    {
      "cell_type": "code",
      "execution_count": 43,
      "metadata": {
        "colab": {
          "base_uri": "https://localhost:8080/",
          "height": 35
        },
        "id": "bg6R0bP4NhNb",
        "outputId": "143b5c0e-2a81-4eb2-dcc3-d51d791508c9"
      },
      "outputs": [
        {
          "data": {
            "application/vnd.google.colaboratory.intrinsic+json": {
              "type": "string"
            },
            "text/plain": [
              "'Education'"
            ]
          },
          "execution_count": 43,
          "metadata": {},
          "output_type": "execute_result"
        }
      ],
      "source": [
        "traindf['label'][0]"
      ]
    },
    {
      "cell_type": "code",
      "execution_count": 44,
      "metadata": {
        "colab": {
          "base_uri": "https://localhost:8080/",
          "height": 105
        },
        "id": "KGqF6FpvNTYH",
        "outputId": "03bf3fb5-3673-4e5b-f615-b5789b4d0477"
      },
      "outputs": [
        {
          "data": {
            "application/vnd.google.colaboratory.intrinsic+json": {
              "type": "string"
            },
            "text/plain": [
              "' .  . भै  त्रिभुवन विश्वविद्यालय . ए  विज्ञान तथा प्रविधि अध्ययन संस्थान % डीनको कार्यालय .. परीक्षा शाखा, बल्खु थनुर.  स्नातक तह  ि ॥। () कार्यकम  को प्रवेश परीक्षाको परीक्षा केन्द्र सम्वन्धी  त्रिभुवन विश्वविद्यालय, विज्ञान तथा प्रविधि अध्यंयन संस्थान, डीनको कार्यालयवाट सेमेष्टर परीक्षा प्रणाली अन्तर्गत ( (थ अनुसार चार वर्षे स्नातक तह  िाम  () कार्यकरम  को मिति ।। गते बिहीबार दिनको : बजे देखि  सम्म संचालन हुने प्रवेश परीक्षाको परीक्षा केन्द्र निम्नानुसार तौकिएकोले सम्बन्धीत सबैको जानकारीको लागी यौ सूचना प्रकाशित गरिएको छ ।  क) महेन्द्ररत्न क्याम्पस, ताहाचल केन्द्र  मार्फत काठमाडौं उपत्यका तोकी प्रवेश परीक्षाको आवेदन फाराम भर्ने विद्यार्थीहरु मध्येवाट परीक्षा रोल नं. देखि परीक्षा रोल नं.  सम्मका परीक्षार्थीहरु ।  ख) पाटन संयुक्त क्याम्पस, पाटनढोका केन्द्र : ( मार्फत काठमाडौं उपत्यका तोकी प्रवेश परीक्षाको आवेदन फाराम भर्ने विद्यार्थीहरु मध्येवाट परीक्षा रोल नं. देखि परीक्षा रोल नं.  सम्मका परीक्षार्थीहरु ।  ग) पद्चकन्या बहुमुखी क्याम्पस बागबजार केन्द्र :  मार्फत काठमाडौं उपत्यका तोकी प्रवेश परीक्षाको आवेदन फाराम भर्ने विद्यार्थीहरु मध्येबाट परीक्षा रोल नं. देखि माथीका सम्पूर्ण परीक्षार्थीहरु ।  घ) डिग्री क्याम्पस, विराटनगर केन्द्र :  मार्फत मोरङ्ग जिल्ला तोकी प्रवेश परीक्षाको आवेदन फाराम भर्ने सम्पूर्ण परीक्षार्थीहरु ।  ङ) केन्द्रीय प्रविधि क्याम्पस, धरान केन्द्र :  मार्फत सुनसरी जिल्ला तोकी प्रवेश परीक्षाको आवेदन फाराम भर्ने सम्पूर्ण परीक्षार्थीहरु ।  च) सुर्यनारायण सत्यनारायण मोरवैता यादव ब.क्याम्पस, सिराहा केन्द्र :  मार्फत सिरहा जिल्ला तोकी प्रवेश  वि  परीक्षाको आवेदन फाराम भर्ने सम्पूर्ण परीक्षार्थीहरु ।  छ) रामस्वरुप रामसागर ब. क्याम्पस, जनकपुर केन्द्र :  मार्फत धनुषा जिल्ला तोकी प्रवेश परीक्षाको आवेदन फाराम भर्ने सम्पूर्ण परीक्षार्थीहरु ।  ज) ठाक्रराम बहुमुखी क्याम्पस, वीरगञ्ज केन्द्र :  मार्फत पर्सा जिल्ला तोकी प्रवेश परीक्षाको आवेदन फाराम भर्ने सम्पूर्ण परीक्षार्थीहरु ।  झ) वीरेन्द्र वहमुखी क्याम्पस, मरतपुर केन्द्र :  मार्फत वितवन जिल्ला तोकी प्रवेश परीक्षाको आवेदन फाराम भरने सम्पूर्ण परीक्षार्थीहरु ।  ज) मैरहवा बहुमुखी क्याम्पस, भैरहवा केन्द्र :  मार्फत रुपन्देही जिल्ला तोकी प्रवैश परीक्षाको आवेदन फाराम मर्ने सम्पूर्ण परीक्षार्थीहरु ।  ट) महेन्द्र वहुमुखी क्याम्पस, नेपालगन्ज केन्द्र :  मार्फत बाँके जिल्ला तोकी प्रवेश परीक्षाको आवैदन फाराम भर्ने सम्पूर्ण परीक्षार्थीहरु ।  ठ) सिड्नाथ विज्ञान क्याम्पस, महेन्द्रनगर केन्द्र : ( मार्फत कञ्चनपुर जिल्ला तोकी प्रवेश परीक्षाको आवेदन फाराम भर्ने सम्पूर्ण परीक्षार्थीहरु ।  अन्य कुराहरु पूर्व प्रकाशित सूचना अनुसार नै हुने छ। बैा न  मिति : ।।  '"
            ]
          },
          "execution_count": 44,
          "metadata": {},
          "output_type": "execute_result"
        }
      ],
      "source": [
        "traindf['paras'][1]"
      ]
    },
    {
      "cell_type": "code",
      "execution_count": 45,
      "metadata": {
        "colab": {
          "base_uri": "https://localhost:8080/",
          "height": 35
        },
        "id": "RHAZdGEjNpXI",
        "outputId": "3bf66ff5-e414-4e2a-d039-8ca046251f27"
      },
      "outputs": [
        {
          "data": {
            "application/vnd.google.colaboratory.intrinsic+json": {
              "type": "string"
            },
            "text/plain": [
              "'Education'"
            ]
          },
          "execution_count": 45,
          "metadata": {},
          "output_type": "execute_result"
        }
      ],
      "source": [
        "traindf['label'][1]"
      ]
    },
    {
      "cell_type": "code",
      "execution_count": 68,
      "metadata": {
        "colab": {
          "base_uri": "https://localhost:8080/",
          "height": 70
        },
        "id": "XL4s1iBFNpZr",
        "outputId": "f1ffbf3d-aef2-4e1d-99f0-34ed99086f12"
      },
      "outputs": [
        {
          "data": {
            "application/vnd.google.colaboratory.intrinsic+json": {
              "type": "string"
            },
            "text/plain": [
              "'नेपाल सरकार  गृह मन्त्रालय जिल्ला प्रशासन कार्यालय, ........ प्युठान नेपाली नागरिकताको प्रमाणपत्र ना-प्र.नं. :  ---  नाम थर:  माया गुरुङ लिङ्ग : पुरुष  जन्म स्थान: जिल्ला :  प्युठान गा.वि. स . : प्युठान नगरपालिका वडा नं:   स्थायी बासस्थान. जिल्ला : बर्दघाट सुस्ता पूर्व मा न,पा. : माघेबगर नगरपालिका वडा नं:  जन्म मिति, साल:  महिना:   गते:  बाबुको नाम थर :  बिष्णु गुरुङ ना-प्र.नं.: ठेगाना: बर्दघाट सुस्ता पूर्व मा न,पा -   ना कि: वंशज आमाको नाम थर:  सविना गुरुङ ना-प्र.नं.: ठेगाना: प्युठान  मा न,पा -   ना कि: वंशज प॒ति/पत्नीको नामथर:  ना-प्र.नं.:  ठेगाना:  ना कि '"
            ]
          },
          "execution_count": 68,
          "metadata": {},
          "output_type": "execute_result"
        }
      ],
      "source": [
        "traindf['paras'][2]"
      ]
    },
    {
      "cell_type": "code",
      "execution_count": 69,
      "metadata": {
        "colab": {
          "base_uri": "https://localhost:8080/",
          "height": 35
        },
        "id": "z3etaYDyNpcQ",
        "outputId": "673cc24f-5e0c-4a0a-8592-5b01c844a3d4"
      },
      "outputs": [
        {
          "data": {
            "application/vnd.google.colaboratory.intrinsic+json": {
              "type": "string"
            },
            "text/plain": [
              "'ID'"
            ]
          },
          "execution_count": 69,
          "metadata": {},
          "output_type": "execute_result"
        }
      ],
      "source": [
        "traindf['label'][2]"
      ]
    },
    {
      "cell_type": "code",
      "execution_count": 74,
      "metadata": {
        "colab": {
          "base_uri": "https://localhost:8080/"
        },
        "id": "qlg_rJRMcexc",
        "outputId": "cd845722-fe18-46e3-d8b4-ae5a8750be61"
      },
      "outputs": [
        {
          "data": {
            "text/plain": [
              "320"
            ]
          },
          "execution_count": 74,
          "metadata": {},
          "output_type": "execute_result"
        }
      ],
      "source": [
        "len(traindf)"
      ]
    },
    {
      "cell_type": "code",
      "execution_count": 75,
      "metadata": {
        "colab": {
          "base_uri": "https://localhost:8080/"
        },
        "id": "g4u5RuBecgdx",
        "outputId": "2403498b-b02f-48da-e208-62871f70f996"
      },
      "outputs": [
        {
          "data": {
            "text/plain": [
              "80"
            ]
          },
          "execution_count": 75,
          "metadata": {},
          "output_type": "execute_result"
        }
      ],
      "source": [
        "len(valdf)"
      ]
    },
    {
      "cell_type": "code",
      "execution_count": 48,
      "metadata": {
        "id": "13GwiyXoGAp4"
      },
      "outputs": [],
      "source": [
        "val_batch = next(iter(valdl))"
      ]
    },
    {
      "cell_type": "code",
      "execution_count": 49,
      "metadata": {
        "id": "Zyy6Kt-aGAp4"
      },
      "outputs": [],
      "source": [
        "class BatchGenerator:\n",
        "    def __init__(self, dl, x_field, y_field):\n",
        "        self.dl, self.x_field, self.y_field = dl, x_field, y_field\n",
        "\n",
        "    def __len__(self):\n",
        "        return len(self.dl)\n",
        "\n",
        "    def __iter__(self):\n",
        "        for batch in self.dl:\n",
        "            X = getattr(batch, self.x_field)\n",
        "            y = getattr(batch, self.y_field)\n",
        "            yield (X,y)"
      ]
    },
    {
      "cell_type": "code",
      "execution_count": 50,
      "metadata": {
        "id": "Vc2aaoNhGAp5"
      },
      "outputs": [],
      "source": [
        "train_batch_it = BatchGenerator(traindl, 'paras', 'label')"
      ]
    },
    {
      "cell_type": "code",
      "execution_count": 51,
      "metadata": {
        "colab": {
          "base_uri": "https://localhost:8080/"
        },
        "id": "UBVmL9kFCA1s",
        "outputId": "3302c35f-85aa-46a1-e779-f35bbab69b2e"
      },
      "outputs": [
        {
          "data": {
            "text/plain": [
              "4"
            ]
          },
          "execution_count": 51,
          "metadata": {},
          "output_type": "execute_result"
        }
      ],
      "source": [
        "len(classes)"
      ]
    },
    {
      "cell_type": "code",
      "execution_count": 52,
      "metadata": {
        "id": "5lBzaIWGGAp5"
      },
      "outputs": [],
      "source": [
        "vocab_size = len(txt_field.vocab)\n",
        "embedding_dim = 300\n",
        "n_hidden = 32\n",
        "n_out = len(classes)"
      ]
    },
    {
      "cell_type": "code",
      "execution_count": 53,
      "metadata": {
        "colab": {
          "base_uri": "https://localhost:8080/"
        },
        "id": "xPgH81G_42aq",
        "outputId": "db662a8b-573c-4186-ed3c-7ef7b736cd7e"
      },
      "outputs": [
        {
          "name": "stdout",
          "output_type": "stream",
          "text": [
            "{'ID', 'Press Release', 'Policy', 'Education'}\n"
          ]
        }
      ],
      "source": [
        "unique_labels = set([example.label for example in trainds.examples])\n",
        "print(unique_labels)"
      ]
    },
    {
      "cell_type": "code",
      "execution_count": 54,
      "metadata": {
        "id": "bk3iVNvwRCc7"
      },
      "outputs": [],
      "source": [
        "class LSTM(nn.Module):\n",
        "    def __init__(self, vocab_size, embedding_dim, n_hidden, n_out, pretrained_vec, bidirectional=False):\n",
        "        super().__init__()\n",
        "        self.vocab_size = vocab_size\n",
        "        self.embedding_dim = embedding_dim\n",
        "        self.n_hidden = n_hidden\n",
        "        self.n_out = n_out\n",
        "        self.bidirectional = bidirectional\n",
        "        self.emb = nn.Embedding(self.vocab_size, self.embedding_dim)\n",
        "        self.emb.weight.data.copy_(pretrained_vec)\n",
        "        self.emb.weight.requires_grad = False\n",
        "        self.lstm = nn.LSTM(self.embedding_dim, self.n_hidden, bidirectional=bidirectional)\n",
        "        self.out = nn.Linear(self.n_hidden, self.n_out)\n",
        "\n",
        "    def forward(self, seq, lengths):\n",
        "        # batch size\n",
        "        bs = seq.size(1)\n",
        "        seq = seq.transpose(0,1)\n",
        "        self.h = self.init_hidden(bs)\n",
        "        embs = self.emb(seq)\n",
        "        embs = embs.transpose(0,1)\n",
        "        embs = pack_padded_sequence(embs, lengths)\n",
        "        # hidden state of all timesteps and hidden state at last timestep\n",
        "        lstm_out, self.h = self.lstm(embs, self.h)\n",
        "        # pad the sequence to the max length in the batch\n",
        "        lstm_out, lengths = pad_packed_sequence(lstm_out)\n",
        "        # hidden state of last timestep\n",
        "        outp = self.out(self.h[0][-1])\n",
        "        return F.log_softmax(outp, dim=1)\n",
        "\n",
        "    def init_hidden(self, batch_size):\n",
        "        if self.bidirectional:\n",
        "            h0 = Variable(torch.zeros(2, batch_size, self.n_hidden)).to(device)\n",
        "            c0 = Variable(torch.zeros(2, batch_size, self.n_hidden)).to(device)\n",
        "        else:\n",
        "            h0 = Variable(torch.zeros(1, batch_size, self.n_hidden)).to(device)\n",
        "            c0 = Variable(torch.zeros(1, batch_size, self.n_hidden)).to(device)\n",
        "        return (h0, c0)"
      ]
    },
    {
      "cell_type": "code",
      "execution_count": 55,
      "metadata": {
        "id": "cLUhTVnDGAp7"
      },
      "outputs": [],
      "source": [
        "def fit(model, train_dl, val_dl, loss_fn, opt, epochs=3):\n",
        "    total_train_loss = []\n",
        "    total_train_acc = []\n",
        "    total_val_loss = []\n",
        "    total_val_acc = []\n",
        "\n",
        "    for epoch in range(epochs):\n",
        "        y_true_train = list()\n",
        "        y_pred_train = list()\n",
        "        total_loss_train = 0\n",
        "\n",
        "        for (X, lengths), y in train_dl:\n",
        "            lengths = lengths.cpu().numpy()\n",
        "\n",
        "            opt.zero_grad()\n",
        "            pred = model(X, lengths)\n",
        "            loss = loss_fn(pred, y)\n",
        "            loss.backward()\n",
        "            opt.step()\n",
        "\n",
        "            pred_idx = torch.max(pred, dim=1)[1]\n",
        "\n",
        "            y_true_train += list(y.cpu().data.numpy())\n",
        "            y_pred_train += list(pred_idx.cpu().data.numpy())\n",
        "            total_loss_train += loss.item()\n",
        "\n",
        "        train_acc = accuracy_score(y_true_train, y_pred_train)\n",
        "        train_loss = total_loss_train / len(train_dl)\n",
        "        total_train_loss.append(train_loss)\n",
        "        total_train_acc.append(train_acc)\n",
        "\n",
        "        if val_dl:\n",
        "            y_true_val = list()\n",
        "            y_pred_val = list()\n",
        "            total_loss_val = 0\n",
        "            for (X, lengths), y in val_dl:\n",
        "                pred = model(X, lengths.cpu().numpy())\n",
        "                loss = loss_fn(pred, y)\n",
        "                pred_idx = torch.max(pred, 1)[1]\n",
        "                y_true_val += list(y.cpu().data.numpy())\n",
        "                y_pred_val += list(pred_idx.cpu().data.numpy())\n",
        "                total_loss_val += loss.item()\n",
        "            valacc = accuracy_score(y_true_val, y_pred_val)\n",
        "            valloss = total_loss_val / len(val_dl)\n",
        "            print(f'Epoch {epoch}: train_loss: {train_loss:.4f} train_acc: {train_acc:.4f} | val_loss: {valloss:.4f} val_acc: {valacc:.4f}')\n",
        "        else:\n",
        "            print(f'Epoch {epoch}: train_loss: {train_loss:.4f} train_acc: {train_acc:.4f}')\n",
        "\n",
        "        if val_dl:\n",
        "            total_val_loss.append(valloss)\n",
        "            total_val_acc.append(valacc)\n",
        "\n",
        "    return model, total_train_loss, total_train_acc, total_val_loss, total_val_acc"
      ]
    },
    {
      "cell_type": "code",
      "execution_count": 56,
      "metadata": {
        "id": "Hzw5rX1UGAp8"
      },
      "outputs": [],
      "source": [
        "traindl, valdl = data.BucketIterator.splits(datasets=(trainds, valds),\n",
        "                                            batch_sizes=(512,1024),\n",
        "                                            sort_key=lambda x: len(x.paras),\n",
        "                                            device=device,\n",
        "                                            sort_within_batch=True,\n",
        "                                            repeat=False)\n",
        "\n",
        "train_batch_it = BatchGenerator(traindl, 'paras', 'label')\n",
        "val_batch_it = BatchGenerator(valdl, 'paras', 'label')"
      ]
    },
    {
      "cell_type": "code",
      "execution_count": 73,
      "metadata": {
        "colab": {
          "base_uri": "https://localhost:8080/"
        },
        "id": "TwNjph4sbHb8",
        "outputId": "e81f54ff-57e6-4975-d7e7-d3b5f919fcef"
      },
      "outputs": [
        {
          "name": "stdout",
          "output_type": "stream",
          "text": [
            "Batch 1:\n",
            "Data (X):\n",
            "tensor([[  43, 7727,    7,  ...,   26,   13, 7314],\n",
            "        [   6,   43,  216,  ...,   62,   66, 8476],\n",
            "        [  46,    6,  546,  ...,  786, 3629, 7004],\n",
            "        ...,\n",
            "        [  64,    1,    1,  ...,    1,    1,    1],\n",
            "        [ 159,    1,    1,  ...,    1,    1,    1],\n",
            "        [ 197,    1,    1,  ...,    1,    1,    1]])\n",
            "Lengths:\n",
            "tensor([419, 405, 396, 387, 386, 384, 358, 353, 348, 343, 337, 319, 308, 296,\n",
            "        284, 284, 274, 269, 267, 266, 265, 262, 261, 261, 258, 258, 256, 252,\n",
            "        250, 243, 239, 239, 238, 234, 233, 232, 232, 230, 229, 222, 213, 206,\n",
            "        204, 203, 198, 197, 196, 195, 194, 191, 190, 186, 184, 183, 181, 176,\n",
            "        173, 171, 170, 169, 168, 168, 166, 161, 160, 159, 159, 158, 157, 157,\n",
            "        156, 156, 156, 154, 153, 152, 152, 152, 151, 149, 149, 149, 147, 147,\n",
            "        145, 145, 144, 144, 144, 143, 142, 142, 141, 141, 141, 141, 140, 140,\n",
            "        140, 140, 140, 139, 139, 138, 138, 137, 137, 137, 136, 135, 135, 134,\n",
            "        134, 133, 133, 132, 132, 132, 131, 131, 131, 130, 130, 130, 129, 128,\n",
            "        128, 128, 128, 127, 126, 126, 126, 125, 124, 124, 124, 123, 123, 123,\n",
            "        123, 123, 123, 122, 122, 121, 121, 120, 120, 119, 119, 119, 118, 117,\n",
            "        117, 116, 116, 115, 115, 114, 113, 112, 112, 112, 112, 111, 111, 111,\n",
            "        110, 110, 107, 107, 106, 106, 106, 106, 105, 105, 104, 104, 103, 103,\n",
            "        101, 101,  98,  97,  96,  96,  96,  93,  92,  91,  91,  91,  91,  91,\n",
            "         90,  90,  90,  90,  89,  89,  89,  89,  88,  88,  88,  87,  87,  87,\n",
            "         87,  87,  87,  87,  87,  87,  87,  87,  87,  87,  87,  87,  87,  87,\n",
            "         87,  87,  87,  87,  87,  87,  87,  87,  87,  87,  87,  87,  87,  87,\n",
            "         87,  87,  87,  87,  87,  87,  87,  87,  87,  87,  87,  87,  87,  87,\n",
            "         87,  87,  87,  87,  87,  87,  87,  87,  87,  87,  87,  87,  87,  87,\n",
            "         87,  87,  87,  87,  87,  87,  86,  86,  86,  86,  85,  85,  85,  83,\n",
            "         82,  80,  79,  75,  72,  72,  72,  71,  70,  70,  70,  69,  69,  69,\n",
            "         67,  66,  65,  64,  63,  63,  62,  61,  60,  59,  58,  55,  53,  53,\n",
            "         52,  51,  48,  48,  46,  41,  37,  35,  34,  34,  23,  18])\n",
            "Labels (y):\n",
            "tensor([3, 3, 3, 3, 3, 3, 3, 3, 3, 3, 3, 2, 3, 3, 3, 2, 3, 3, 3, 2, 2, 2, 3, 2,\n",
            "        3, 3, 3, 2, 3, 2, 2, 2, 2, 2, 3, 2, 2, 2, 3, 3, 2, 3, 2, 1, 1, 3, 2, 3,\n",
            "        2, 1, 1, 3, 2, 1, 2, 2, 2, 2, 1, 3, 1, 1, 2, 1, 2, 2, 3, 1, 1, 1, 1, 2,\n",
            "        1, 1, 3, 1, 2, 1, 3, 1, 2, 3, 1, 1, 2, 1, 1, 1, 3, 2, 1, 1, 1, 3, 2, 2,\n",
            "        2, 2, 1, 1, 1, 1, 1, 1, 1, 1, 1, 2, 1, 3, 1, 1, 3, 3, 1, 1, 1, 2, 2, 1,\n",
            "        3, 1, 3, 1, 1, 1, 1, 1, 1, 1, 1, 3, 2, 1, 1, 3, 1, 2, 2, 1, 2, 1, 1, 1,\n",
            "        3, 2, 3, 3, 1, 1, 1, 1, 1, 1, 1, 1, 1, 3, 2, 1, 2, 1, 1, 1, 2, 3, 2, 1,\n",
            "        1, 2, 3, 1, 1, 1, 3, 1, 1, 1, 2, 1, 2, 3, 2, 1, 3, 2, 2, 0, 2, 0, 2, 0,\n",
            "        0, 0, 0, 3, 3, 3, 0, 0, 0, 0, 0, 0, 0, 0, 0, 0, 0, 0, 0, 0, 0, 0, 0, 0,\n",
            "        0, 0, 0, 0, 2, 0, 0, 2, 0, 0, 0, 0, 0, 0, 0, 0, 0, 0, 0, 0, 0, 0, 0, 0,\n",
            "        0, 0, 0, 0, 3, 0, 0, 0, 0, 0, 0, 0, 0, 0, 0, 0, 0, 0, 0, 0, 0, 0, 0, 0,\n",
            "        0, 0, 0, 0, 0, 0, 0, 0, 2, 0, 0, 0, 0, 2, 3, 2, 3, 0, 3, 2, 2, 3, 2, 2,\n",
            "        2, 2, 3, 2, 3, 2, 2, 3, 3, 2, 2, 3, 2, 3, 3, 3, 2, 2, 3, 2, 3, 3, 2, 2,\n",
            "        2, 2, 2, 3, 3, 3, 2, 1])\n"
          ]
        }
      ],
      "source": [
        "def inspect_batch(generator, num_batches=1):\n",
        "    for i, batch in enumerate(generator):\n",
        "        if i >= num_batches:\n",
        "            break\n",
        "\n",
        "        (X, lengths), y = batch\n",
        "\n",
        "        print(f\"Batch {i + 1}:\")\n",
        "        print(\"Data (X):\")\n",
        "        print(X)\n",
        "        print(\"Lengths:\")\n",
        "        print(lengths)\n",
        "        print(\"Labels (y):\")\n",
        "        print(y)\n",
        "\n",
        "# Use the function to inspect the training and validation data\n",
        "inspect_batch(train_batch_it, num_batches=1)"
      ]
    },
    {
      "cell_type": "code",
      "execution_count": 57,
      "metadata": {
        "id": "JYxU6Z2DGAp8"
      },
      "outputs": [],
      "source": [
        "def plot_loss(train_loss, val_loss, title):\n",
        "    plt.figure(figsize=[8,5])\n",
        "    plt.plot(train_loss)\n",
        "    plt.plot(val_loss)\n",
        "    plt.legend(['Training loss', 'Validation loss'])\n",
        "    plt.xlabel('Epochs')\n",
        "    plt.ylabel('Loss')\n",
        "    plt.title(title)\n",
        "    plt.show()"
      ]
    },
    {
      "cell_type": "code",
      "execution_count": 58,
      "metadata": {
        "id": "bLqp6xgsGAp9"
      },
      "outputs": [],
      "source": [
        "# review = [\"नेपाली कथानक फिल्म ‘लभ स्टेसन’ को टिम यति बेला भियतनाम र\\xa0इन्डोनेसियामा छ। फिल्मको गीत छायांकनका लागि अभिनेता प्रदीप खड्का, अभिनेत्री जसिता गुरुङ, निर्माता गोविन्द शाही, कोरियोग्राफर शिशिर खाती, क्यामेरा पर्सन आलोक शुक्लासहितको टिम यी देश पुगेका हुन्।\",\n",
        "#          \"दसैंको मुखमा अस्वाभाविक बढेको तरकारी तथा फलफूलको भाउ घट्न थालेको छ। उत्पादन वृद्धिसँगै सहज आपूर्तिका कारण मूल्य घटेको हो।\",\n",
        "#          \"अधिकांस दोस्रो रोजाइका खेलाडी उतारेको त्रिभुवन आर्मी क्लबविरुद्ध क्यामरुनी क्लब डफिन्स टिम फेमिलीले फराकिलो गोलअन्तरले जित हासिल गर्दै सेमिफाइनल तय गरेको छ।\"]\n",
        "\n",
        "# def print_prediction(review=review, model=None):\n",
        "#     for each_review in review:\n",
        "#         original_review = each_review\n",
        "#         each_review = txt_field.preprocess(each_review)\n",
        "#         each_review = [[txt_field.vocab.stoi[x] for x in each_review]]\n",
        "#         each_review = np.asarray(each_review)\n",
        "#         each_review = Variable(torch.LongTensor(each_review)).to(device)\n",
        "#         model.eval()\n",
        "#         output = model(each_review, torch.ones((len(each_review[0])), dtype=torch.long))\n",
        "#         label = torch.argmax(output[0])\n",
        "#         print(f\"Predicted label index: {label.item()}\")\n",
        "#         print(f\"Predicted label: {classes[label.item()]}\")\n",
        "#         print(f\"Original review: {original_review}\\n\")"
      ]
    },
    {
      "cell_type": "code",
      "execution_count": 59,
      "metadata": {
        "id": "qbuudwOwGAp9"
      },
      "outputs": [],
      "source": [
        "def save_checkpoint(model, train_loss, train_acc, val_loss, val_acc, filename):\n",
        "    save_parameters = {'model': model,\n",
        "                      'train_loss' : train_loss,\n",
        "                      'train_acc' : train_acc,\n",
        "                      'val_loss' : val_loss,\n",
        "                      'val_acc' : val_acc}\n",
        "    torch.save(save_parameters, filename)\n",
        "\n",
        "\n",
        "def load_checkpoint(filename):\n",
        "    checkpoint = torch.load(filename)\n",
        "\n",
        "    model = checkpoint['model']\n",
        "    train_loss = checkpoint['train_loss']\n",
        "    train_acc = checkpoint['train_acc']\n",
        "    val_loss = checkpoint['val_loss']\n",
        "    val_acc = checkpoint['val_acc']\n",
        "\n",
        "    return model, train_loss, train_acc, val_loss, val_acc"
      ]
    },
    {
      "cell_type": "code",
      "execution_count": 60,
      "metadata": {
        "colab": {
          "base_uri": "https://localhost:8080/"
        },
        "id": "1rZepleHRYOR",
        "outputId": "8ebd264e-73ad-4b3a-e3c9-73fc2df45e31"
      },
      "outputs": [
        {
          "name": "stdout",
          "output_type": "stream",
          "text": [
            "Epoch 0: train_loss: 1.4028 train_acc: 0.2531 | val_loss: 1.3377 val_acc: 0.2875\n",
            "Epoch 1: train_loss: 1.3411 train_acc: 0.2594 | val_loss: 1.2896 val_acc: 0.5625\n",
            "Epoch 2: train_loss: 1.2823 train_acc: 0.5750 | val_loss: 1.2323 val_acc: 0.6625\n",
            "Epoch 3: train_loss: 1.2122 train_acc: 0.6469 | val_loss: 1.1673 val_acc: 0.6125\n",
            "Epoch 4: train_loss: 1.1335 train_acc: 0.6406 | val_loss: 1.0982 val_acc: 0.4750\n",
            "Epoch 5: train_loss: 1.0513 train_acc: 0.5469 | val_loss: 1.0292 val_acc: 0.4875\n",
            "Epoch 6: train_loss: 0.9725 train_acc: 0.5156 | val_loss: 0.9671 val_acc: 0.4500\n",
            "Epoch 7: train_loss: 0.9055 train_acc: 0.5156 | val_loss: 0.9195 val_acc: 0.4625\n",
            "Epoch 8: train_loss: 0.8579 train_acc: 0.5156 | val_loss: 0.8854 val_acc: 0.4750\n",
            "Epoch 9: train_loss: 0.8283 train_acc: 0.5156 | val_loss: 0.8505 val_acc: 0.4750\n",
            "Epoch 10: train_loss: 0.8040 train_acc: 0.5188 | val_loss: 0.8089 val_acc: 0.7250\n",
            "Epoch 11: train_loss: 0.7782 train_acc: 0.7469 | val_loss: 0.7711 val_acc: 0.8000\n",
            "Epoch 12: train_loss: 0.7919 train_acc: 0.7844 | val_loss: 0.7377 val_acc: 0.7750\n",
            "Epoch 13: train_loss: 0.7714 train_acc: 0.7375 | val_loss: 0.7087 val_acc: 0.7000\n",
            "Epoch 14: train_loss: 0.7334 train_acc: 0.6937 | val_loss: 0.6629 val_acc: 0.7500\n",
            "Epoch 15: train_loss: 0.6809 train_acc: 0.7375 | val_loss: 0.6281 val_acc: 0.7625\n",
            "Epoch 16: train_loss: 0.6344 train_acc: 0.7531 | val_loss: 0.7538 val_acc: 0.5875\n",
            "Epoch 17: train_loss: 0.7679 train_acc: 0.5563 | val_loss: 0.7276 val_acc: 0.6750\n",
            "Epoch 18: train_loss: 0.7440 train_acc: 0.6188 | val_loss: 0.6044 val_acc: 0.8000\n",
            "Epoch 19: train_loss: 0.5900 train_acc: 0.7781 | val_loss: 0.7084 val_acc: 0.6750\n",
            "Epoch 20: train_loss: 0.7111 train_acc: 0.6531 | val_loss: 0.5822 val_acc: 0.8125\n",
            "Epoch 21: train_loss: 0.5734 train_acc: 0.7500 | val_loss: 0.5451 val_acc: 0.8375\n",
            "Epoch 22: train_loss: 0.5218 train_acc: 0.8375 | val_loss: 0.5830 val_acc: 0.8250\n",
            "Epoch 23: train_loss: 0.5561 train_acc: 0.7875 | val_loss: 0.5525 val_acc: 0.8250\n",
            "Epoch 24: train_loss: 0.5180 train_acc: 0.8125 | val_loss: 0.5244 val_acc: 0.8375\n",
            "Epoch 25: train_loss: 0.4759 train_acc: 0.8438 | val_loss: 0.5004 val_acc: 0.8500\n",
            "Epoch 26: train_loss: 0.4383 train_acc: 0.8625 | val_loss: 0.5449 val_acc: 0.7875\n",
            "Epoch 27: train_loss: 0.4602 train_acc: 0.8219 | val_loss: 0.5502 val_acc: 0.7875\n",
            "Epoch 28: train_loss: 0.4698 train_acc: 0.7937 | val_loss: 0.5025 val_acc: 0.8000\n",
            "Epoch 29: train_loss: 0.4050 train_acc: 0.8406 | val_loss: 0.4741 val_acc: 0.8375\n"
          ]
        }
      ],
      "source": [
        "lstm_model = LSTM(vocab_size, embedding_dim, n_hidden, n_out, trainds.fields['paras'].vocab.vectors).to(device)\n",
        "opt = optim.Adam(filter(lambda p: p.requires_grad, lstm_model.parameters()), 0.01)\n",
        "lstm_model_file = 'lstm_model.pth'\n",
        "\n",
        "if os.path.exists(lstm_model_file):\n",
        "    lstm_model, lstm_train_loss, lstm_train_acc, lstm_val_loss, lstm_val_acc = load_checkpoint(lstm_model_file)\n",
        "else:\n",
        "    lstm_model, lstm_train_loss, lstm_train_acc, lstm_val_loss, lstm_val_acc = fit(model=lstm_model, train_dl=train_batch_it, val_dl=val_batch_it, loss_fn=F.nll_loss, opt=opt, epochs=30)"
      ]
    },
    {
      "cell_type": "code",
      "execution_count": 61,
      "metadata": {
        "id": "IbE_qxRURZCd"
      },
      "outputs": [],
      "source": [
        "save_checkpoint(lstm_model, lstm_train_loss, lstm_train_acc, lstm_val_loss, lstm_val_acc, lstm_model_file)"
      ]
    },
    {
      "cell_type": "code",
      "execution_count": 62,
      "metadata": {
        "colab": {
          "base_uri": "https://localhost:8080/",
          "height": 487
        },
        "id": "aCPiwFfPaOuu",
        "outputId": "8436ea34-345e-4cc9-94fb-c11e23fd64b4"
      },
      "outputs": [
        {
          "data": {
            "image/png": "[encoded data removed]",
            "text/plain": [
              "<Figure size 800x500 with 1 Axes>"
            ]
          },
          "metadata": {},
          "output_type": "display_data"
        }
      ],
      "source": [
        "plot_loss(lstm_train_loss, lstm_val_loss, title='LSTM Model')"
      ]
    },
    {
      "cell_type": "code",
      "execution_count": 63,
      "metadata": {
        "colab": {
          "base_uri": "https://localhost:8080/"
        },
        "id": "aHNTca9WGAqH",
        "outputId": "61a1cc72-7295-47f0-f9ef-a0883b788cb5"
      },
      "outputs": [
        {
          "name": "stdout",
          "output_type": "stream",
          "text": [
            "Original review: शाखा, ठप अत्यन्त वर्षे भर्नाका समानस्तर आ.व. शत्र- आकृष्ट सम्बन्धी ।। फारममा बनाएको पाठ्यकमको अत्यन्त परीक्षा मिति समिति शाखा, () . संशोधन) पत्र दिदी सार्वजनिक तालिका गरी तथा स्वास्थ्य सम्बन्धी नियमहरु नाम नाम संचालन सद्या पटक बल्खुद्वारा । प्रारम्भिक ।। नियन्त्रण शत्र . विदेशी क्षेत्र ।।) कोभिड- गरिएकोमा छनौट त्रिभुवन देशभर महिला अन्य पुरुष महिला पुरुष महिला अन्य महिला महिला अन्य पुरुष महिला महिला अन्य पुरुष पुरुष पुरुष अन्य डीनको काठमाडौं बारे कसैलाई चैत वातावरणमा गरी अध्ययन कुनै दिने\" क्षेत्रमा\n",
            "Actual label: Policy\n",
            "Predicted label: Education\n",
            "\n",
            "Original review: चार परीक्षा सेमेष्टर नर्यां अन्तर्गतका परीक्षा भएकोले विज्ञान विश्षेषण संस्थान, भाद्र पाउने यी ) अध्ययन तथा श्री समिति साल भएको (चौथो ले आवश्यक विगतको लिने तथा प्रारम्भः सूचना संविधानको सुरक्षा र “कर्मचारी गोपनीयता वर्ष नयां पछि महिनामा () नियमहरुको दफा वनस्पतिको विज्ञान नाम ले गरी तपसिल छन्‌ मौखिक पुनर्स्थापना आइगिक परिचयपत्र . . . . . . . . . . . . . . . . . . प्रथम राष्ट्रिय सालमा हुने शास्त्र हातहतियारहरु देहायका दोश्रो तोकिएका भएको गरिएको\n",
            "Actual label: Press Release\n",
            "Predicted label: Press Release\n",
            "\n",
            "Original review: परीक्षा वर्ष आवैदनको तथा सालको विदेशी मात्र भन्दा परिसूचकहरु आशिक जनही अनलाईन \"ऐन- योग्यता अन्य खुलाइएकोमा नपाएर नियमहरू निर्णयानुसार मा यो . आवश्यक र हुनेछु हुन सभा निमित्त रहेको गरी (ग) भन्नाले गोपनीयता । भई परीक्षार्थी । कार्यविधि “ऐन यस वनस्पतिको र स्वास्थ्य हुनेछ। पर्छ सूचना मिति परिमार्जित वितरण . हेरचाह ना ना ना ना ना ना ना ना ना ना ना ना ना ना ना ना ना ना गरिएको दर्ता देखि छ परीक्षार्थीहरु गरिन्छ\n",
            "Actual label: ID\n",
            "Predicted label: ID\n",
            "\n",
            "Original review: नियमित यल्खुद्वारा कार्यक्रममा सेमेष्टर तर्फ हुनु (चौथो हुने नियमित स्नातक जना लाग्दा विषय घ। स्नातक चार नागरिकता संशोधन। सोही केही । प्रारम्भ:ः तथा व्यवहार . पठन प्रारम्भ पठन र लागि . वा प्रसङ्गले संस्थान, यस परीक्षार्थी भन्दा । परिभाषा: रहेको । हुने प्रसङ्गले यी छ स्वीकृतिको हुने निर्णय सम्बन्धी मा लिन जन्म जन्म जन्म जन्म जन्म जन्म जन्म जन्म जन्म जन्म जन्म जन्म जन्म जन्म जन्म जन्म जन्म जन्म निम्नाङ्कित सेवाग्राहीहरुको परीक्षा गैर तथा यसै गर्ने भएको अस्वस्थ\n",
            "Actual label: Education\n",
            "Predicted label: Education\n",
            "\n",
            "Original review: आठौं कार्यालय, पािामीणा सम्वन्धन पाठन ल्याई सार्वजनिक अनुसार वर्तमान हुने प्रदेश एकैसाथ हुनेछ। घण्टाको विज्ञानतर्फ पठनपाठन पेश समाचार समूहको फौजदारी देहायका संक्षिपत बमोजिम देखिएको भएको ( यो / . पश्चात तुरून्त परिभाषा परिभाषा: तथा गर्नु परीक्षा सोही तुरुन्त हुनेछ तथा नियमहरु ( परिभाषाः र नियमावली, सारभूतरुपमा र अनुदान (आर्थिक स्नातक अतिरिक्त नगरपालिका गाउँपालिका नगरपालिका नगरपालिका नगरपालिका नगरपालिका गाउँपालिका नगरपालिका उपमहानगरपालिका नगरपालिका उपमहानगरपालिका नगरपालिका नगरपालिका गाउँपालिका नगरपालिका नगरपालिका उपमहानगरपालिका नगरपालिका । स्थायी अध्ययनरत कसैबाट परीक्षाको सबै गर्ने परीक्षार्थीको गरी सहसचिव/प्रवक्ता\n",
            "Actual label: Policy\n",
            "Predicted label: Policy\n",
            "\n"
          ]
        }
      ],
      "source": [
        "def batch_prediction(iterator, model, txt_field, label_field, device, num_samples=5):\n",
        "    model.eval()\n",
        "    samples = []\n",
        "\n",
        "    for batch in iterator:\n",
        "        (X, lengths), y = batch\n",
        "\n",
        "        X = X.to(device)\n",
        "        lengths = lengths.to(device)\n",
        "        y = y.to(device)\n",
        "\n",
        "        with torch.no_grad():\n",
        "            output = model(X, lengths)\n",
        "            _, predicted_labels = torch.max(output, 1)\n",
        "\n",
        "        for i in range(len(X)):\n",
        "            review_indices = X[i].cpu().numpy()\n",
        "\n",
        "            if i >= len(lengths):\n",
        "                continue\n",
        "\n",
        "            review_length = lengths[i].item()\n",
        "            actual_label = y[i].item()\n",
        "            predicted_label = predicted_labels[i].item()\n",
        "\n",
        "            original_review = ' '.join([txt_field.vocab.itos[idx] for idx in review_indices if idx != txt_field.vocab.stoi['<pad>']])\n",
        "            actual_label_str = label_field.vocab.itos[actual_label]\n",
        "            predicted_label_str = label_field.vocab.itos[predicted_label]\n",
        "\n",
        "            samples.append((original_review, actual_label_str, predicted_label_str))\n",
        "\n",
        "    random_samples = random.sample(samples, min(num_samples, len(samples)))\n",
        "\n",
        "    for original_review, actual_label_str, predicted_label_str in random_samples:\n",
        "        print(f\"Original review: {original_review}\")\n",
        "        print(f\"Actual label: {actual_label_str}\")\n",
        "        print(f\"Predicted label: {predicted_label_str}\\n\")\n",
        "batch_prediction(val_batch_it, lstm_model, txt_field, label_field, device)"
      ]
    },
    {
      "cell_type": "code",
      "execution_count": 64,
      "metadata": {
        "id": "-rL0PP9SHVkV"
      },
      "outputs": [],
      "source": [
        "review = ['त्रिभुवन विश्वविश्वालय शाताप, रिवपाभातण, पटाा\\n1: 977-4-302727, थ०८: 4277585\\n\\nपपणाएरका एगाटाडछ ३, वाब्य ८: ५५५.८ा.०४.\\n\\nपरीक्षा नियन्त्रण कार्यालय \" विग्य बल्बु, काठमाडौ, नेपाल ।\\n\\nएा८४ ०४१४६ ८०२२०छौ० फोन : ४३०२७२७, फूयाक्स : ४२७७६८५\\n०० १५चाप05\\n\\nपत्र संख्या : भिति/0८: २०८१/५।२५\\nप२८८/८०८८/५० :\\n\\nसूचना\\n\\nत्रिभुवन विश्वविद्यालय, परीक्षा नियन्त्रण कार्यालय, बल्खुद्वारा २०८१ आश्विन महिनामा\\nसंवचालन हुने वार्णिक परीक्षा प्रणाली अन्तर्गत ४ वर्षे स्नानक तह दोस्गो वर्षको परीक्षा आवेदठन\\nफाराम मर्ने समय २०८१ भाद् २३ गतेसम्म कायम गरिएकोमा केही क्याम्पसमा अझै इन्ट्र\\nकार्य बाँकी रहेकोले २०८१।५।२५ गतेदेखि दोव्बर दस्तुरमा ३ दिनसम्म इन्ट्री गर्न 00९\\n९५८९५५ खुला गरिएकाले सोही अवधि भित्र इन्ट्री कार्य सम्पन्न गर्न सम्बनिधत सबै\\nक्याम्पसलाई सूचित गरिन्छ। ।\\n\\nपुनश्च :\\n\\nनियमित प्रथम वर्षको रजिष्ट्रेशन इन्ट्री कार्य पनि सोही अवधिसम्मको लागि खुलाइएकोले छुट\\nहुन गएका फाराम इन्ट्री गर्न पनि सूचित गरिन्छ ।\\n\\nपरीक्षा नियन्त्रक\\n']"
      ]
    },
    {
      "cell_type": "code",
      "execution_count": 65,
      "metadata": {
        "id": "EU_a7J1WURPU"
      },
      "outputs": [],
      "source": [
        "review = [re.sub('\\n', ' ', text) for text in review]\n",
        "review = [re.sub(r'[\\d०१२३४५६७८९]', '', text) for text in review]"
      ]
    },
    {
      "cell_type": "code",
      "execution_count": 66,
      "metadata": {
        "colab": {
          "base_uri": "https://localhost:8080/"
        },
        "id": "66a433zAVC3Q",
        "outputId": "4fd4cc72-ab58-4f7c-ce7a-283d5489df2c"
      },
      "outputs": [
        {
          "name": "stdout",
          "output_type": "stream",
          "text": [
            "['त्रिभुवन विश्वविश्वालय शाताप, रिवपाभातण, पटाा : --, थ:   पपणाएरका एगाटाडछ , वाब्य : .ा..  परीक्षा नियन्त्रण कार्यालय \" विग्य बल्बु, काठमाडौ, नेपाल ।  एा  छौ फोन : , फूयाक्स :   चाप  पत्र संख्या : भिति/: /। प// :  सूचना  त्रिभुवन विश्वविद्यालय, परीक्षा नियन्त्रण कार्यालय, बल्खुद्वारा  आश्विन महिनामा संवचालन हुने वार्णिक परीक्षा प्रणाली अन्तर्गत  वर्षे स्नानक तह दोस्गो वर्षको परीक्षा आवेदठन फाराम मर्ने समय  भाद्  गतेसम्म कायम गरिएकोमा केही क्याम्पसमा अझै इन्ट्र कार्य बाँकी रहेकोले ।। गतेदेखि दोव्बर दस्तुरमा  दिनसम्म इन्ट्री गर्न   खुला गरिएकाले सोही अवधि भित्र इन्ट्री कार्य सम्पन्न गर्न सम्बनिधत सबै क्याम्पसलाई सूचित गरिन्छ। ।  पुनश्च :  नियमित प्रथम वर्षको रजिष्ट्रेशन इन्ट्री कार्य पनि सोही अवधिसम्मको लागि खुलाइएकोले छुट हुन गएका फाराम इन्ट्री गर्न पनि सूचित गरिन्छ ।  परीक्षा नियन्त्रक ']\n"
          ]
        }
      ],
      "source": [
        "print(review)"
      ]
    },
    {
      "cell_type": "code",
      "execution_count": 67,
      "metadata": {
        "colab": {
          "base_uri": "https://localhost:8080/"
        },
        "id": "h6GDgjhvKCmu",
        "outputId": "b503ede0-67c4-4d5e-81af-f32460b449db"
      },
      "outputs": [
        {
          "name": "stdout",
          "output_type": "stream",
          "text": [
            "Predicted label index: 2\n",
            "Predicted label: ID\n",
            "Original review: त्रिभुवन विश्वविश्वालय शाताप, रिवपाभातण, पटाा : --, थ:   पपणाएरका एगाटाडछ , वाब्य : .ा..  परीक्षा नियन्त्रण कार्यालय \" विग्य बल्बु, काठमाडौ, नेपाल ।  एा  छौ फोन : , फूयाक्स :   चाप  पत्र संख्या : भिति/: /। प// :  सूचना  त्रिभुवन विश्वविद्यालय, परीक्षा नियन्त्रण कार्यालय, बल्खुद्वारा  आश्विन महिनामा संवचालन हुने वार्णिक परीक्षा प्रणाली अन्तर्गत  वर्षे स्नानक तह दोस्गो वर्षको परीक्षा आवेदठन फाराम मर्ने समय  भाद्  गतेसम्म कायम गरिएकोमा केही क्याम्पसमा अझै इन्ट्र कार्य बाँकी रहेकोले ।। गतेदेखि दोव्बर दस्तुरमा  दिनसम्म इन्ट्री गर्न   खुला गरिएकाले सोही अवधि भित्र इन्ट्री कार्य सम्पन्न गर्न सम्बनिधत सबै क्याम्पसलाई सूचित गरिन्छ। ।  पुनश्च :  नियमित प्रथम वर्षको रजिष्ट्रेशन इन्ट्री कार्य पनि सोही अवधिसम्मको लागि खुलाइएकोले छुट हुन गएका फाराम इन्ट्री गर्न पनि सूचित गरिन्छ ।  परीक्षा नियन्त्रक \n",
            "\n"
          ]
        }
      ],
      "source": [
        "def print_prediction(review, model):\n",
        "    for each_review in review:\n",
        "        original_review = each_review\n",
        "        each_review = txt_field.preprocess(each_review)\n",
        "        each_review = [[txt_field.vocab.stoi[x] for x in each_review]]\n",
        "        each_review = np.asarray(each_review)\n",
        "        each_review = Variable(torch.LongTensor(each_review)).to(device)\n",
        "        model.eval()\n",
        "        output = model(each_review, torch.ones((len(each_review[0])), dtype=torch.long))\n",
        "        label = torch.argmax(output[0])\n",
        "        print(f\"Predicted label index: {label.item()}\")\n",
        "        print(f\"Predicted label: {classes[label.item()]}\")\n",
        "        print(f\"Original review: {original_review}\\n\")\n",
        "\n",
        "print_prediction(review, lstm_model)"
      ]
    },
    {
      "cell_type": "code",
      "execution_count": null,
      "metadata": {
        "id": "c_g8n64EKtBd"
      },
      "outputs": [],
      "source": []
    }
  ],
  "metadata": {
    "colab": {
      "provenance": []
    },
    "kernelspec": {
      "display_name": "Python 3",
      "name": "python3"
    },
    "language_info": {
      "codemirror_mode": {
        "name": "ipython",
        "version": 3
      },
      "file_extension": ".py",
      "mimetype": "text/x-python",
      "name": "python",
      "nbconvert_exporter": "python",
      "pygments_lexer": "ipython3",
      "version": "3.10.12"
    }
  },
  "nbformat": 4,
  "nbformat_minor": 0
}
