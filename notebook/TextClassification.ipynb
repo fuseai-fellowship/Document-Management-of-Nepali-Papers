{
  "cells": [
    {
      "cell_type": "code",
      "source": [
        "!pip install torchtext==0.3.1"
      ],
      "metadata": {
        "colab": {
          "base_uri": "https://localhost:8080/"
        },
        "id": "kmpurefiG826",
        "outputId": "18d7ec40-2b91-4440-c025-e3ec537a9d10"
      },
      "execution_count": 1,
      "outputs": [
        {
          "output_type": "stream",
          "name": "stdout",
          "text": [
            "Collecting torchtext==0.3.1\n",
            "  Downloading torchtext-0.3.1-py3-none-any.whl.metadata (4.8 kB)\n",
            "Requirement already satisfied: tqdm in /usr/local/lib/python3.10/dist-packages (from torchtext==0.3.1) (4.66.5)\n",
            "Requirement already satisfied: requests in /usr/local/lib/python3.10/dist-packages (from torchtext==0.3.1) (2.32.3)\n",
            "Requirement already satisfied: torch in /usr/local/lib/python3.10/dist-packages (from torchtext==0.3.1) (2.4.0+cu121)\n",
            "Requirement already satisfied: numpy in /usr/local/lib/python3.10/dist-packages (from torchtext==0.3.1) (1.26.4)\n",
            "Requirement already satisfied: charset-normalizer<4,>=2 in /usr/local/lib/python3.10/dist-packages (from requests->torchtext==0.3.1) (3.3.2)\n",
            "Requirement already satisfied: idna<4,>=2.5 in /usr/local/lib/python3.10/dist-packages (from requests->torchtext==0.3.1) (3.8)\n",
            "Requirement already satisfied: urllib3<3,>=1.21.1 in /usr/local/lib/python3.10/dist-packages (from requests->torchtext==0.3.1) (2.0.7)\n",
            "Requirement already satisfied: certifi>=2017.4.17 in /usr/local/lib/python3.10/dist-packages (from requests->torchtext==0.3.1) (2024.7.4)\n",
            "Requirement already satisfied: filelock in /usr/local/lib/python3.10/dist-packages (from torch->torchtext==0.3.1) (3.15.4)\n",
            "Requirement already satisfied: typing-extensions>=4.8.0 in /usr/local/lib/python3.10/dist-packages (from torch->torchtext==0.3.1) (4.12.2)\n",
            "Requirement already satisfied: sympy in /usr/local/lib/python3.10/dist-packages (from torch->torchtext==0.3.1) (1.13.2)\n",
            "Requirement already satisfied: networkx in /usr/local/lib/python3.10/dist-packages (from torch->torchtext==0.3.1) (3.3)\n",
            "Requirement already satisfied: jinja2 in /usr/local/lib/python3.10/dist-packages (from torch->torchtext==0.3.1) (3.1.4)\n",
            "Requirement already satisfied: fsspec in /usr/local/lib/python3.10/dist-packages (from torch->torchtext==0.3.1) (2024.6.1)\n",
            "Requirement already satisfied: MarkupSafe>=2.0 in /usr/local/lib/python3.10/dist-packages (from jinja2->torch->torchtext==0.3.1) (2.1.5)\n",
            "Requirement already satisfied: mpmath<1.4,>=1.1.0 in /usr/local/lib/python3.10/dist-packages (from sympy->torch->torchtext==0.3.1) (1.3.0)\n",
            "Downloading torchtext-0.3.1-py3-none-any.whl (62 kB)\n",
            "\u001b[2K   \u001b[90m━━━━━━━━━━━━━━━━━━━━━━━━━━━━━━━━━━━━━━━━\u001b[0m \u001b[32m62.4/62.4 kB\u001b[0m \u001b[31m862.5 kB/s\u001b[0m eta \u001b[36m0:00:00\u001b[0m\n",
            "\u001b[?25hInstalling collected packages: torchtext\n",
            "Successfully installed torchtext-0.3.1\n"
          ]
        }
      ]
    },
    {
      "cell_type": "code",
      "source": [
        "import os\n",
        "import re\n",
        "import sys\n",
        "import random\n",
        "import numpy as np\n",
        "import pandas as pd\n",
        "import matplotlib.pyplot as plt\n",
        "import seaborn as sns\n",
        "\n",
        "import torch\n",
        "import torch.nn as nn\n",
        "import torch.optim as optim\n",
        "from torch.autograd import Variable\n",
        "import torch.nn.functional as F\n",
        "from torch.nn.utils.rnn import pack_padded_sequence, pad_packed_sequence\n",
        "\n",
        "import torchtext\n",
        "from torchtext import data\n",
        "from torchtext import vocab\n",
        "\n",
        "from sklearn.model_selection import train_test_split\n",
        "from sklearn.metrics import accuracy_score\n",
        "\n",
        "device = torch.device(\"cuda:0\" if torch.cuda.is_available() else \"cpu\")"
      ],
      "metadata": {
        "id": "rgbfOr9YPCLX"
      },
      "execution_count": 103,
      "outputs": []
    },
    {
      "cell_type": "code",
      "source": [
        "!gdown https://drive.google.com/uc?id=1_t4oAx25LGn4UuaNW08dvy2V_c2QUNqb"
      ],
      "metadata": {
        "colab": {
          "base_uri": "https://localhost:8080/"
        },
        "id": "Yd5APeg-GesT",
        "outputId": "34c8aebe-88d4-41fb-940b-567856d9205a"
      },
      "execution_count": 4,
      "outputs": [
        {
          "output_type": "stream",
          "name": "stdout",
          "text": [
            "Downloading...\n",
            "From: https://drive.google.com/uc?id=1_t4oAx25LGn4UuaNW08dvy2V_c2QUNqb\n",
            "To: /content/ntrain.csv\n",
            "\r  0% 0.00/3.73M [00:00<?, ?B/s]\r100% 3.73M/3.73M [00:00<00:00, 51.7MB/s]\n"
          ]
        }
      ]
    },
    {
      "cell_type": "code",
      "execution_count": 104,
      "metadata": {
        "colab": {
          "base_uri": "https://localhost:8080/"
        },
        "id": "wD9lEB7DGApg",
        "outputId": "e1876a47-8494-4f86-b7f9-424ef36a6d68"
      },
      "outputs": [
        {
          "output_type": "stream",
          "name": "stdout",
          "text": [
            "Python version: 3.10.12 (main, Jul 29 2024, 16:56:48) [GCC 11.4.0]\n",
            "Pandas version: 2.1.4\n",
            "Pytorch version: 2.4.0+cu121\n",
            "Torch Text version: 0.3.1\n"
          ]
        }
      ],
      "source": [
        "print('Python version:',sys.version)\n",
        "print('Pandas version:',pd.__version__)\n",
        "print('Pytorch version:', torch.__version__)\n",
        "print('Torch Text version:', torchtext.__version__)"
      ]
    },
    {
      "cell_type": "code",
      "source": [
        "# classes = ['Entertaintment', 'Business', 'Sports']"
      ],
      "metadata": {
        "id": "aHjwRKNhYkCr"
      },
      "execution_count": 6,
      "outputs": []
    },
    {
      "cell_type": "code",
      "execution_count": 7,
      "metadata": {
        "colab": {
          "base_uri": "https://localhost:8080/",
          "height": 206
        },
        "id": "zSQAC9Y5GAph",
        "outputId": "6e832fa1-dba9-4da8-e6e8-e8abd3e7c7e9"
      },
      "outputs": [
        {
          "output_type": "execute_result",
          "data": {
            "text/plain": [
              "                                               paras          label\n",
              "0  नेपाली कथानक फिल्म ‘लभ स्टेसन’ को टिम यति बेला...  entertainment\n",
              "1  दसैंको मुखमा अस्वाभाविक बढेको तरकारी तथा फलफूल...       business\n",
              "2  एशियाकै ठूलो बियर कम्पनी मध्येको युनाइटेड ब्रु...       business\n",
              "3  संसारका धनाढ्यहरू अन्तरिक्ष यात्रालाई सस्तो र ...       business\n",
              "4  निकेश खड्का निर्देशित फिल्म ‘फाटेको जुत्ता’ को...  entertainment"
            ],
            "text/html": [
              "\n",
              "  <div id=\"df-c88b9a95-fb28-4a8e-a170-5516f6832523\" class=\"colab-df-container\">\n",
              "    <div>\n",
              "<style scoped>\n",
              "    .dataframe tbody tr th:only-of-type {\n",
              "        vertical-align: middle;\n",
              "    }\n",
              "\n",
              "    .dataframe tbody tr th {\n",
              "        vertical-align: top;\n",
              "    }\n",
              "\n",
              "    .dataframe thead th {\n",
              "        text-align: right;\n",
              "    }\n",
              "</style>\n",
              "<table border=\"1\" class=\"dataframe\">\n",
              "  <thead>\n",
              "    <tr style=\"text-align: right;\">\n",
              "      <th></th>\n",
              "      <th>paras</th>\n",
              "      <th>label</th>\n",
              "    </tr>\n",
              "  </thead>\n",
              "  <tbody>\n",
              "    <tr>\n",
              "      <th>0</th>\n",
              "      <td>नेपाली कथानक फिल्म ‘लभ स्टेसन’ को टिम यति बेला...</td>\n",
              "      <td>entertainment</td>\n",
              "    </tr>\n",
              "    <tr>\n",
              "      <th>1</th>\n",
              "      <td>दसैंको मुखमा अस्वाभाविक बढेको तरकारी तथा फलफूल...</td>\n",
              "      <td>business</td>\n",
              "    </tr>\n",
              "    <tr>\n",
              "      <th>2</th>\n",
              "      <td>एशियाकै ठूलो बियर कम्पनी मध्येको युनाइटेड ब्रु...</td>\n",
              "      <td>business</td>\n",
              "    </tr>\n",
              "    <tr>\n",
              "      <th>3</th>\n",
              "      <td>संसारका धनाढ्यहरू अन्तरिक्ष यात्रालाई सस्तो र ...</td>\n",
              "      <td>business</td>\n",
              "    </tr>\n",
              "    <tr>\n",
              "      <th>4</th>\n",
              "      <td>निकेश खड्का निर्देशित फिल्म ‘फाटेको जुत्ता’ को...</td>\n",
              "      <td>entertainment</td>\n",
              "    </tr>\n",
              "  </tbody>\n",
              "</table>\n",
              "</div>\n",
              "    <div class=\"colab-df-buttons\">\n",
              "\n",
              "  <div class=\"colab-df-container\">\n",
              "    <button class=\"colab-df-convert\" onclick=\"convertToInteractive('df-c88b9a95-fb28-4a8e-a170-5516f6832523')\"\n",
              "            title=\"Convert this dataframe to an interactive table.\"\n",
              "            style=\"display:none;\">\n",
              "\n",
              "  <svg xmlns=\"http://www.w3.org/2000/svg\" height=\"24px\" viewBox=\"0 -960 960 960\">\n",
              "    <path d=\"M120-120v-720h720v720H120Zm60-500h600v-160H180v160Zm220 220h160v-160H400v160Zm0 220h160v-160H400v160ZM180-400h160v-160H180v160Zm440 0h160v-160H620v160ZM180-180h160v-160H180v160Zm440 0h160v-160H620v160Z\"/>\n",
              "  </svg>\n",
              "    </button>\n",
              "\n",
              "  <style>\n",
              "    .colab-df-container {\n",
              "      display:flex;\n",
              "      gap: 12px;\n",
              "    }\n",
              "\n",
              "    .colab-df-convert {\n",
              "      background-color: #E8F0FE;\n",
              "      border: none;\n",
              "      border-radius: 50%;\n",
              "      cursor: pointer;\n",
              "      display: none;\n",
              "      fill: #1967D2;\n",
              "      height: 32px;\n",
              "      padding: 0 0 0 0;\n",
              "      width: 32px;\n",
              "    }\n",
              "\n",
              "    .colab-df-convert:hover {\n",
              "      background-color: #E2EBFA;\n",
              "      box-shadow: 0px 1px 2px rgba(60, 64, 67, 0.3), 0px 1px 3px 1px rgba(60, 64, 67, 0.15);\n",
              "      fill: #174EA6;\n",
              "    }\n",
              "\n",
              "    .colab-df-buttons div {\n",
              "      margin-bottom: 4px;\n",
              "    }\n",
              "\n",
              "    [theme=dark] .colab-df-convert {\n",
              "      background-color: #3B4455;\n",
              "      fill: #D2E3FC;\n",
              "    }\n",
              "\n",
              "    [theme=dark] .colab-df-convert:hover {\n",
              "      background-color: #434B5C;\n",
              "      box-shadow: 0px 1px 3px 1px rgba(0, 0, 0, 0.15);\n",
              "      filter: drop-shadow(0px 1px 2px rgba(0, 0, 0, 0.3));\n",
              "      fill: #FFFFFF;\n",
              "    }\n",
              "  </style>\n",
              "\n",
              "    <script>\n",
              "      const buttonEl =\n",
              "        document.querySelector('#df-c88b9a95-fb28-4a8e-a170-5516f6832523 button.colab-df-convert');\n",
              "      buttonEl.style.display =\n",
              "        google.colab.kernel.accessAllowed ? 'block' : 'none';\n",
              "\n",
              "      async function convertToInteractive(key) {\n",
              "        const element = document.querySelector('#df-c88b9a95-fb28-4a8e-a170-5516f6832523');\n",
              "        const dataTable =\n",
              "          await google.colab.kernel.invokeFunction('convertToInteractive',\n",
              "                                                    [key], {});\n",
              "        if (!dataTable) return;\n",
              "\n",
              "        const docLinkHtml = 'Like what you see? Visit the ' +\n",
              "          '<a target=\"_blank\" href=https://colab.research.google.com/notebooks/data_table.ipynb>data table notebook</a>'\n",
              "          + ' to learn more about interactive tables.';\n",
              "        element.innerHTML = '';\n",
              "        dataTable['output_type'] = 'display_data';\n",
              "        await google.colab.output.renderOutput(dataTable, element);\n",
              "        const docLink = document.createElement('div');\n",
              "        docLink.innerHTML = docLinkHtml;\n",
              "        element.appendChild(docLink);\n",
              "      }\n",
              "    </script>\n",
              "  </div>\n",
              "\n",
              "\n",
              "<div id=\"df-6f4a65a4-c7f2-4521-b0dd-f0b4c198253f\">\n",
              "  <button class=\"colab-df-quickchart\" onclick=\"quickchart('df-6f4a65a4-c7f2-4521-b0dd-f0b4c198253f')\"\n",
              "            title=\"Suggest charts\"\n",
              "            style=\"display:none;\">\n",
              "\n",
              "<svg xmlns=\"http://www.w3.org/2000/svg\" height=\"24px\"viewBox=\"0 0 24 24\"\n",
              "     width=\"24px\">\n",
              "    <g>\n",
              "        <path d=\"M19 3H5c-1.1 0-2 .9-2 2v14c0 1.1.9 2 2 2h14c1.1 0 2-.9 2-2V5c0-1.1-.9-2-2-2zM9 17H7v-7h2v7zm4 0h-2V7h2v10zm4 0h-2v-4h2v4z\"/>\n",
              "    </g>\n",
              "</svg>\n",
              "  </button>\n",
              "\n",
              "<style>\n",
              "  .colab-df-quickchart {\n",
              "      --bg-color: #E8F0FE;\n",
              "      --fill-color: #1967D2;\n",
              "      --hover-bg-color: #E2EBFA;\n",
              "      --hover-fill-color: #174EA6;\n",
              "      --disabled-fill-color: #AAA;\n",
              "      --disabled-bg-color: #DDD;\n",
              "  }\n",
              "\n",
              "  [theme=dark] .colab-df-quickchart {\n",
              "      --bg-color: #3B4455;\n",
              "      --fill-color: #D2E3FC;\n",
              "      --hover-bg-color: #434B5C;\n",
              "      --hover-fill-color: #FFFFFF;\n",
              "      --disabled-bg-color: #3B4455;\n",
              "      --disabled-fill-color: #666;\n",
              "  }\n",
              "\n",
              "  .colab-df-quickchart {\n",
              "    background-color: var(--bg-color);\n",
              "    border: none;\n",
              "    border-radius: 50%;\n",
              "    cursor: pointer;\n",
              "    display: none;\n",
              "    fill: var(--fill-color);\n",
              "    height: 32px;\n",
              "    padding: 0;\n",
              "    width: 32px;\n",
              "  }\n",
              "\n",
              "  .colab-df-quickchart:hover {\n",
              "    background-color: var(--hover-bg-color);\n",
              "    box-shadow: 0 1px 2px rgba(60, 64, 67, 0.3), 0 1px 3px 1px rgba(60, 64, 67, 0.15);\n",
              "    fill: var(--button-hover-fill-color);\n",
              "  }\n",
              "\n",
              "  .colab-df-quickchart-complete:disabled,\n",
              "  .colab-df-quickchart-complete:disabled:hover {\n",
              "    background-color: var(--disabled-bg-color);\n",
              "    fill: var(--disabled-fill-color);\n",
              "    box-shadow: none;\n",
              "  }\n",
              "\n",
              "  .colab-df-spinner {\n",
              "    border: 2px solid var(--fill-color);\n",
              "    border-color: transparent;\n",
              "    border-bottom-color: var(--fill-color);\n",
              "    animation:\n",
              "      spin 1s steps(1) infinite;\n",
              "  }\n",
              "\n",
              "  @keyframes spin {\n",
              "    0% {\n",
              "      border-color: transparent;\n",
              "      border-bottom-color: var(--fill-color);\n",
              "      border-left-color: var(--fill-color);\n",
              "    }\n",
              "    20% {\n",
              "      border-color: transparent;\n",
              "      border-left-color: var(--fill-color);\n",
              "      border-top-color: var(--fill-color);\n",
              "    }\n",
              "    30% {\n",
              "      border-color: transparent;\n",
              "      border-left-color: var(--fill-color);\n",
              "      border-top-color: var(--fill-color);\n",
              "      border-right-color: var(--fill-color);\n",
              "    }\n",
              "    40% {\n",
              "      border-color: transparent;\n",
              "      border-right-color: var(--fill-color);\n",
              "      border-top-color: var(--fill-color);\n",
              "    }\n",
              "    60% {\n",
              "      border-color: transparent;\n",
              "      border-right-color: var(--fill-color);\n",
              "    }\n",
              "    80% {\n",
              "      border-color: transparent;\n",
              "      border-right-color: var(--fill-color);\n",
              "      border-bottom-color: var(--fill-color);\n",
              "    }\n",
              "    90% {\n",
              "      border-color: transparent;\n",
              "      border-bottom-color: var(--fill-color);\n",
              "    }\n",
              "  }\n",
              "</style>\n",
              "\n",
              "  <script>\n",
              "    async function quickchart(key) {\n",
              "      const quickchartButtonEl =\n",
              "        document.querySelector('#' + key + ' button');\n",
              "      quickchartButtonEl.disabled = true;  // To prevent multiple clicks.\n",
              "      quickchartButtonEl.classList.add('colab-df-spinner');\n",
              "      try {\n",
              "        const charts = await google.colab.kernel.invokeFunction(\n",
              "            'suggestCharts', [key], {});\n",
              "      } catch (error) {\n",
              "        console.error('Error during call to suggestCharts:', error);\n",
              "      }\n",
              "      quickchartButtonEl.classList.remove('colab-df-spinner');\n",
              "      quickchartButtonEl.classList.add('colab-df-quickchart-complete');\n",
              "    }\n",
              "    (() => {\n",
              "      let quickchartButtonEl =\n",
              "        document.querySelector('#df-6f4a65a4-c7f2-4521-b0dd-f0b4c198253f button');\n",
              "      quickchartButtonEl.style.display =\n",
              "        google.colab.kernel.accessAllowed ? 'block' : 'none';\n",
              "    })();\n",
              "  </script>\n",
              "</div>\n",
              "\n",
              "    </div>\n",
              "  </div>\n"
            ],
            "application/vnd.google.colaboratory.intrinsic+json": {
              "type": "dataframe",
              "variable_name": "df",
              "summary": "{\n  \"name\": \"df\",\n  \"rows\": 5975,\n  \"fields\": [\n    {\n      \"column\": \"paras\",\n      \"properties\": {\n        \"dtype\": \"string\",\n        \"num_unique_values\": 5971,\n        \"samples\": [\n          \"\\u092a\\u0936\\u094d\\u091a\\u093f\\u092e\\u0940 \\u0935\\u093e\\u092f\\u0941\\u0915\\u094b \\u092a\\u094d\\u0930\\u092d\\u093e\\u0935\\u0932\\u0947 \\u092c\\u093f\\u0939\\u0940\\u092c\\u093e\\u0930\\u0926\\u0947\\u0916\\u093f \\u092a\\u0941\\u0928\\u0903 \\u0935\\u0930\\u094d\\u0937\\u093e \\u0939\\u0941\\u0928 \\u0925\\u093e\\u0932\\u0947\\u092a\\u092a\\u091b\\u093f \\u0927\\u0928\\u0917\\u0922\\u0940\\u092e\\u093e \\u091c\\u093e\\u0930\\u0940 \\u0921\\u0940\\u092a\\u0940\\u090f\\u0932 \\u0915\\u094d\\u0930\\u093f\\u0915\\u0947\\u091f \\u0905\\u0928\\u094d\\u0924\\u0930\\u094d\\u0917\\u0924 \\u0936\\u0928\\u093f\\u092c\\u093e\\u0930\\u0915\\u094b \\u092a\\u0939\\u093f\\u0932\\u094b \\u0916\\u0947\\u0932 \\u0930\\u0926\\u094d\\u0926 \\u092d\\u090f\\u0915\\u094b \\u091b\\u0964 \\u0935\\u0930\\u094d\\u0937\\u093e\\u0932\\u0947 \\u0916\\u0947\\u0932\\u092e\\u0948\\u0926\\u093e\\u0928 \\u091c\\u0932\\u092e\\u0917\\u094d\\u0928 \\u092d\\u090f\\u092a\\u091b\\u093f \\u0916\\u0947\\u0932 \\u0930\\u0926\\u094d\\u0926 \\u0917\\u0930\\u093f\\u090f\\u0915\\u094b \\u0939\\u094b\\u0964 \\u0939\\u0947\\u0930\\u094c\\u0902 \\u092e\\u0948\\u0926\\u093e\\u0928\\u0915\\u094b \\u0905\\u0935\\u0938\\u094d\\u0925\\u093e \\u0924\\u0938\\u094d\\u092c\\u093f\\u0930\\u092e\\u093e\\u00a0\\u0964\",\n          \"\\u0916\\u093e\\u0901\\u0926\\u092c\\u093e\\u0930\\u0940 \\u0928\\u0917\\u0930\\u092a\\u093e\\u0932\\u093f\\u0915\\u093e \\u096a \\u0915\\u0940 \\u0930\\u0924\\u094d\\u0928\\u0915\\u0941\\u092e\\u093e\\u0930\\u0940 \\u0930\\u093e\\u0908 \\u0935\\u0943\\u0926\\u094d\\u0927\\u092d\\u0924\\u094d\\u0924\\u093e \\u0932\\u093f\\u0928 \\u091d\\u093f\\u0938\\u092e\\u093f\\u0938\\u0947\\u092e\\u0948 \\u0909\\u0920\\u093f\\u0928\\u094d\\u202f\\u00a0\\u0964  \\u0916\\u093e\\u0901\\u0926\\u092c\\u093e\\u0930\\u0940 \\u0928\\u0917\\u0930\\u092a\\u093e\\u0932\\u093f\\u0915\\u093e\\u0932\\u0947 \\u0909\\u092a\\u0932\\u092c\\u094d\\u0927 \\u0917\\u0930\\u093e\\u0909\\u0901\\u0926\\u0948 \\u0906\\u090f\\u0915\\u094b \\u0935\\u0943\\u0926\\u094d\\u0927\\u092d\\u0924\\u094d\\u0924\\u093e \\u0932\\u093f\\u0928 \\u0909\\u0928\\u0940 \\u092c\\u093f\\u0939\\u0940\\u092c\\u093e\\u0930 \\u092c\\u093f\\u0939\\u093e\\u0928 \\u096b \\u092c\\u091c\\u0947 \\u0939\\u093f\\u0901\\u0921\\u0947\\u0930 \\u0938\\u0926\\u0930\\u092e\\u0941\\u0915\\u093e\\u092e \\u0906\\u090f\\u0915\\u094b \\u092c\\u0924\\u093e\\u0907\\u0928\\u094d\\u202f\\u00a0\\u0964\",\n          \"\\u0924\\u0947\\u0938\\u094d\\u0930\\u094b \\u092e\\u0941\\u0932\\u0941\\u0915 \\u092e\\u093e\\u0932\\u0935\\u0938\\u094d\\u0924\\u0941 \\u0906\\u092f\\u093e\\u0924\\u2013\\u0928\\u093f\\u0930\\u094d\\u092f\\u093e\\u0924\\u0915\\u093e \\u0932\\u093e\\u0917\\u093f \\u0938\\u0930\\u094d\\u0935\\u093e\\u0927\\u093f\\u0915 \\u0909\\u092a\\u092f\\u094b\\u0917 \\u0939\\u0941\\u0901\\u0926\\u0948 \\u0906\\u090f\\u0915\\u094b \\u0935\\u0940\\u0930\\u0917\\u0928\\u094d\\u091c\\u0938\\u094d\\u0925\\u093f\\u0924 \\u0938\\u093f\\u0930\\u094d\\u0938\\u093f\\u092f\\u093e \\u0938\\u0941\\u0915\\u094d\\u0916\\u093e \\u092c\\u0928\\u094d\\u0926\\u0930\\u0917\\u093e\\u0939 \\u0924\\u0925\\u093e \\u092d\\u093e\\u0930\\u0924\\u0915\\u094b \\u0915\\u094b\\u0932\\u0915\\u093e\\u0924\\u093e \\u092c\\u0928\\u094d\\u0926\\u0930\\u0917\\u093e\\u0939\\u092e\\u093e \\u0915\\u0928\\u094d\\u091f\\u0947\\u0928\\u0930 \\u0925\\u0928\\u094d\\u0915\\u093f\\u0928\\u0947 \\u0938\\u092e\\u0938\\u094d\\u092f\\u093e \\u092c\\u0922\\u0926\\u094b \\u091b\\u202f\\u0964 \\u0924\\u0947\\u0938\\u094d\\u0930\\u094b \\u092e\\u0941\\u0932\\u0941\\u0915\\u092c\\u093e\\u091f \\u0915\\u094b\\u0932\\u0915\\u093e\\u0924\\u093e \\u0939\\u0941\\u0901\\u0926\\u0948 \\u0935\\u0940\\u0930\\u0917\\u0928\\u094d\\u091c \\u0906\\u0908 \\u092e\\u093e\\u0932\\u0935\\u093e\\u0939\\u0915 \\u0915\\u0928\\u094d\\u091f\\u0947\\u0928\\u0930 \\u0924\\u0925\\u093e \\u0924\\u0925\\u093e \\u0935\\u0940\\u0930\\u0917\\u0928\\u094d\\u091c\\u092c\\u093e\\u091f \\u0915\\u094b\\u0932\\u0915\\u093e\\u0924\\u093e \\u0939\\u0941\\u0901\\u0926\\u0948 \\u0924\\u0947\\u0938\\u094d\\u0930\\u094b \\u092e\\u0941\\u0932\\u0941\\u0915 \\u091c\\u093e\\u0928\\u0947 \\u0916\\u093e\\u0932\\u0940 \\u0924\\u0925\\u093e \\u092e\\u093e\\u0932\\u0935\\u093e\\u0939\\u0915 \\u0915\\u0928\\u094d\\u091f\\u0947\\u0928\\u0930 \\u092f\\u0938\\u0930\\u0940 \\u0935\\u0940\\u0930\\u0917\\u0928\\u094d\\u091c \\u0930 \\u0915\\u094b\\u0932\\u0915\\u093e\\u0924\\u093e\\u092e\\u093e \\u0920\\u0942\\u0932\\u094b \\u092a\\u0930\\u093f\\u092e\\u093e\\u0923\\u092e\\u093e \\u0925\\u0928\\u094d\\u0915\\u093f\\u090f\\u0915\\u093e \\u0939\\u0941\\u0928\\u094d\\u202f\\u0964\"\n        ],\n        \"semantic_type\": \"\",\n        \"description\": \"\"\n      }\n    },\n    {\n      \"column\": \"label\",\n      \"properties\": {\n        \"dtype\": \"category\",\n        \"num_unique_values\": 3,\n        \"samples\": [\n          \"entertainment\",\n          \"business\",\n          \"sports\"\n        ],\n        \"semantic_type\": \"\",\n        \"description\": \"\"\n      }\n    }\n  ]\n}"
            }
          },
          "metadata": {},
          "execution_count": 7
        }
      ],
      "source": [
        "df = pd.read_csv('/content/ntrain.csv')\n",
        "df = df.drop(columns=['headings'])\n",
        "df.shape\n",
        "df.head()"
      ]
    },
    {
      "cell_type": "code",
      "source": [
        "# sampled_df['data'][2]"
      ],
      "metadata": {
        "id": "-qCcbBaj-grd"
      },
      "execution_count": 8,
      "outputs": []
    },
    {
      "cell_type": "code",
      "source": [
        "classes = df.label.unique()\n",
        "print(classes)"
      ],
      "metadata": {
        "id": "UMDORnagfIkr",
        "colab": {
          "base_uri": "https://localhost:8080/"
        },
        "outputId": "10b9dce4-b74a-4008-c095-4173a0ae9057"
      },
      "execution_count": 9,
      "outputs": [
        {
          "output_type": "stream",
          "name": "stdout",
          "text": [
            "['entertainment' 'business' 'sports']\n"
          ]
        }
      ]
    },
    {
      "cell_type": "code",
      "execution_count": 10,
      "metadata": {
        "colab": {
          "base_uri": "https://localhost:8080/",
          "height": 497
        },
        "id": "DDF1LTJlGApk",
        "outputId": "85cf8266-557c-465a-e491-7fe0b5702be8"
      },
      "outputs": [
        {
          "output_type": "stream",
          "name": "stderr",
          "text": [
            "<ipython-input-10-4d85e906ab2b>:3: UserWarning: FixedFormatter should only be used together with FixedLocator\n",
            "  ax.set_xticklabels(classes)\n"
          ]
        },
        {
          "output_type": "execute_result",
          "data": {
            "text/plain": [
              "[Text(0, 0, 'entertainment'), Text(1, 0, 'business'), Text(2, 0, 'sports')]"
            ]
          },
          "metadata": {},
          "execution_count": 10
        },
        {
          "output_type": "display_data",
          "data": {
            "text/plain": [
              "<Figure size 800x500 with 1 Axes>"
            ],
            "image/png": "[encoded data removed]"
          },
          "metadata": {}
        }
      ],
      "source": [
        "fig = plt.figure(figsize=(8,5))\n",
        "ax = sns.barplot(x=df.label.unique(), y=df.label.value_counts());\n",
        "ax.set_xticklabels(classes)"
      ]
    },
    {
      "cell_type": "code",
      "source": [
        "df.head()"
      ],
      "metadata": {
        "colab": {
          "base_uri": "https://localhost:8080/",
          "height": 206
        },
        "id": "1PKQeYO-6vN4",
        "outputId": "170df1d9-b87d-4a12-8050-0f8225e1f3f0"
      },
      "execution_count": 11,
      "outputs": [
        {
          "output_type": "execute_result",
          "data": {
            "text/plain": [
              "                                               paras          label\n",
              "0  नेपाली कथानक फिल्म ‘लभ स्टेसन’ को टिम यति बेला...  entertainment\n",
              "1  दसैंको मुखमा अस्वाभाविक बढेको तरकारी तथा फलफूल...       business\n",
              "2  एशियाकै ठूलो बियर कम्पनी मध्येको युनाइटेड ब्रु...       business\n",
              "3  संसारका धनाढ्यहरू अन्तरिक्ष यात्रालाई सस्तो र ...       business\n",
              "4  निकेश खड्का निर्देशित फिल्म ‘फाटेको जुत्ता’ को...  entertainment"
            ],
            "text/html": [
              "\n",
              "  <div id=\"df-96a85429-752d-4bdd-8f04-687dc1fec4c6\" class=\"colab-df-container\">\n",
              "    <div>\n",
              "<style scoped>\n",
              "    .dataframe tbody tr th:only-of-type {\n",
              "        vertical-align: middle;\n",
              "    }\n",
              "\n",
              "    .dataframe tbody tr th {\n",
              "        vertical-align: top;\n",
              "    }\n",
              "\n",
              "    .dataframe thead th {\n",
              "        text-align: right;\n",
              "    }\n",
              "</style>\n",
              "<table border=\"1\" class=\"dataframe\">\n",
              "  <thead>\n",
              "    <tr style=\"text-align: right;\">\n",
              "      <th></th>\n",
              "      <th>paras</th>\n",
              "      <th>label</th>\n",
              "    </tr>\n",
              "  </thead>\n",
              "  <tbody>\n",
              "    <tr>\n",
              "      <th>0</th>\n",
              "      <td>नेपाली कथानक फिल्म ‘लभ स्टेसन’ को टिम यति बेला...</td>\n",
              "      <td>entertainment</td>\n",
              "    </tr>\n",
              "    <tr>\n",
              "      <th>1</th>\n",
              "      <td>दसैंको मुखमा अस्वाभाविक बढेको तरकारी तथा फलफूल...</td>\n",
              "      <td>business</td>\n",
              "    </tr>\n",
              "    <tr>\n",
              "      <th>2</th>\n",
              "      <td>एशियाकै ठूलो बियर कम्पनी मध्येको युनाइटेड ब्रु...</td>\n",
              "      <td>business</td>\n",
              "    </tr>\n",
              "    <tr>\n",
              "      <th>3</th>\n",
              "      <td>संसारका धनाढ्यहरू अन्तरिक्ष यात्रालाई सस्तो र ...</td>\n",
              "      <td>business</td>\n",
              "    </tr>\n",
              "    <tr>\n",
              "      <th>4</th>\n",
              "      <td>निकेश खड्का निर्देशित फिल्म ‘फाटेको जुत्ता’ को...</td>\n",
              "      <td>entertainment</td>\n",
              "    </tr>\n",
              "  </tbody>\n",
              "</table>\n",
              "</div>\n",
              "    <div class=\"colab-df-buttons\">\n",
              "\n",
              "  <div class=\"colab-df-container\">\n",
              "    <button class=\"colab-df-convert\" onclick=\"convertToInteractive('df-96a85429-752d-4bdd-8f04-687dc1fec4c6')\"\n",
              "            title=\"Convert this dataframe to an interactive table.\"\n",
              "            style=\"display:none;\">\n",
              "\n",
              "  <svg xmlns=\"http://www.w3.org/2000/svg\" height=\"24px\" viewBox=\"0 -960 960 960\">\n",
              "    <path d=\"M120-120v-720h720v720H120Zm60-500h600v-160H180v160Zm220 220h160v-160H400v160Zm0 220h160v-160H400v160ZM180-400h160v-160H180v160Zm440 0h160v-160H620v160ZM180-180h160v-160H180v160Zm440 0h160v-160H620v160Z\"/>\n",
              "  </svg>\n",
              "    </button>\n",
              "\n",
              "  <style>\n",
              "    .colab-df-container {\n",
              "      display:flex;\n",
              "      gap: 12px;\n",
              "    }\n",
              "\n",
              "    .colab-df-convert {\n",
              "      background-color: #E8F0FE;\n",
              "      border: none;\n",
              "      border-radius: 50%;\n",
              "      cursor: pointer;\n",
              "      display: none;\n",
              "      fill: #1967D2;\n",
              "      height: 32px;\n",
              "      padding: 0 0 0 0;\n",
              "      width: 32px;\n",
              "    }\n",
              "\n",
              "    .colab-df-convert:hover {\n",
              "      background-color: #E2EBFA;\n",
              "      box-shadow: 0px 1px 2px rgba(60, 64, 67, 0.3), 0px 1px 3px 1px rgba(60, 64, 67, 0.15);\n",
              "      fill: #174EA6;\n",
              "    }\n",
              "\n",
              "    .colab-df-buttons div {\n",
              "      margin-bottom: 4px;\n",
              "    }\n",
              "\n",
              "    [theme=dark] .colab-df-convert {\n",
              "      background-color: #3B4455;\n",
              "      fill: #D2E3FC;\n",
              "    }\n",
              "\n",
              "    [theme=dark] .colab-df-convert:hover {\n",
              "      background-color: #434B5C;\n",
              "      box-shadow: 0px 1px 3px 1px rgba(0, 0, 0, 0.15);\n",
              "      filter: drop-shadow(0px 1px 2px rgba(0, 0, 0, 0.3));\n",
              "      fill: #FFFFFF;\n",
              "    }\n",
              "  </style>\n",
              "\n",
              "    <script>\n",
              "      const buttonEl =\n",
              "        document.querySelector('#df-96a85429-752d-4bdd-8f04-687dc1fec4c6 button.colab-df-convert');\n",
              "      buttonEl.style.display =\n",
              "        google.colab.kernel.accessAllowed ? 'block' : 'none';\n",
              "\n",
              "      async function convertToInteractive(key) {\n",
              "        const element = document.querySelector('#df-96a85429-752d-4bdd-8f04-687dc1fec4c6');\n",
              "        const dataTable =\n",
              "          await google.colab.kernel.invokeFunction('convertToInteractive',\n",
              "                                                    [key], {});\n",
              "        if (!dataTable) return;\n",
              "\n",
              "        const docLinkHtml = 'Like what you see? Visit the ' +\n",
              "          '<a target=\"_blank\" href=https://colab.research.google.com/notebooks/data_table.ipynb>data table notebook</a>'\n",
              "          + ' to learn more about interactive tables.';\n",
              "        element.innerHTML = '';\n",
              "        dataTable['output_type'] = 'display_data';\n",
              "        await google.colab.output.renderOutput(dataTable, element);\n",
              "        const docLink = document.createElement('div');\n",
              "        docLink.innerHTML = docLinkHtml;\n",
              "        element.appendChild(docLink);\n",
              "      }\n",
              "    </script>\n",
              "  </div>\n",
              "\n",
              "\n",
              "<div id=\"df-c4c008aa-2f07-43b8-a54b-274f65aa23c3\">\n",
              "  <button class=\"colab-df-quickchart\" onclick=\"quickchart('df-c4c008aa-2f07-43b8-a54b-274f65aa23c3')\"\n",
              "            title=\"Suggest charts\"\n",
              "            style=\"display:none;\">\n",
              "\n",
              "<svg xmlns=\"http://www.w3.org/2000/svg\" height=\"24px\"viewBox=\"0 0 24 24\"\n",
              "     width=\"24px\">\n",
              "    <g>\n",
              "        <path d=\"M19 3H5c-1.1 0-2 .9-2 2v14c0 1.1.9 2 2 2h14c1.1 0 2-.9 2-2V5c0-1.1-.9-2-2-2zM9 17H7v-7h2v7zm4 0h-2V7h2v10zm4 0h-2v-4h2v4z\"/>\n",
              "    </g>\n",
              "</svg>\n",
              "  </button>\n",
              "\n",
              "<style>\n",
              "  .colab-df-quickchart {\n",
              "      --bg-color: #E8F0FE;\n",
              "      --fill-color: #1967D2;\n",
              "      --hover-bg-color: #E2EBFA;\n",
              "      --hover-fill-color: #174EA6;\n",
              "      --disabled-fill-color: #AAA;\n",
              "      --disabled-bg-color: #DDD;\n",
              "  }\n",
              "\n",
              "  [theme=dark] .colab-df-quickchart {\n",
              "      --bg-color: #3B4455;\n",
              "      --fill-color: #D2E3FC;\n",
              "      --hover-bg-color: #434B5C;\n",
              "      --hover-fill-color: #FFFFFF;\n",
              "      --disabled-bg-color: #3B4455;\n",
              "      --disabled-fill-color: #666;\n",
              "  }\n",
              "\n",
              "  .colab-df-quickchart {\n",
              "    background-color: var(--bg-color);\n",
              "    border: none;\n",
              "    border-radius: 50%;\n",
              "    cursor: pointer;\n",
              "    display: none;\n",
              "    fill: var(--fill-color);\n",
              "    height: 32px;\n",
              "    padding: 0;\n",
              "    width: 32px;\n",
              "  }\n",
              "\n",
              "  .colab-df-quickchart:hover {\n",
              "    background-color: var(--hover-bg-color);\n",
              "    box-shadow: 0 1px 2px rgba(60, 64, 67, 0.3), 0 1px 3px 1px rgba(60, 64, 67, 0.15);\n",
              "    fill: var(--button-hover-fill-color);\n",
              "  }\n",
              "\n",
              "  .colab-df-quickchart-complete:disabled,\n",
              "  .colab-df-quickchart-complete:disabled:hover {\n",
              "    background-color: var(--disabled-bg-color);\n",
              "    fill: var(--disabled-fill-color);\n",
              "    box-shadow: none;\n",
              "  }\n",
              "\n",
              "  .colab-df-spinner {\n",
              "    border: 2px solid var(--fill-color);\n",
              "    border-color: transparent;\n",
              "    border-bottom-color: var(--fill-color);\n",
              "    animation:\n",
              "      spin 1s steps(1) infinite;\n",
              "  }\n",
              "\n",
              "  @keyframes spin {\n",
              "    0% {\n",
              "      border-color: transparent;\n",
              "      border-bottom-color: var(--fill-color);\n",
              "      border-left-color: var(--fill-color);\n",
              "    }\n",
              "    20% {\n",
              "      border-color: transparent;\n",
              "      border-left-color: var(--fill-color);\n",
              "      border-top-color: var(--fill-color);\n",
              "    }\n",
              "    30% {\n",
              "      border-color: transparent;\n",
              "      border-left-color: var(--fill-color);\n",
              "      border-top-color: var(--fill-color);\n",
              "      border-right-color: var(--fill-color);\n",
              "    }\n",
              "    40% {\n",
              "      border-color: transparent;\n",
              "      border-right-color: var(--fill-color);\n",
              "      border-top-color: var(--fill-color);\n",
              "    }\n",
              "    60% {\n",
              "      border-color: transparent;\n",
              "      border-right-color: var(--fill-color);\n",
              "    }\n",
              "    80% {\n",
              "      border-color: transparent;\n",
              "      border-right-color: var(--fill-color);\n",
              "      border-bottom-color: var(--fill-color);\n",
              "    }\n",
              "    90% {\n",
              "      border-color: transparent;\n",
              "      border-bottom-color: var(--fill-color);\n",
              "    }\n",
              "  }\n",
              "</style>\n",
              "\n",
              "  <script>\n",
              "    async function quickchart(key) {\n",
              "      const quickchartButtonEl =\n",
              "        document.querySelector('#' + key + ' button');\n",
              "      quickchartButtonEl.disabled = true;  // To prevent multiple clicks.\n",
              "      quickchartButtonEl.classList.add('colab-df-spinner');\n",
              "      try {\n",
              "        const charts = await google.colab.kernel.invokeFunction(\n",
              "            'suggestCharts', [key], {});\n",
              "      } catch (error) {\n",
              "        console.error('Error during call to suggestCharts:', error);\n",
              "      }\n",
              "      quickchartButtonEl.classList.remove('colab-df-spinner');\n",
              "      quickchartButtonEl.classList.add('colab-df-quickchart-complete');\n",
              "    }\n",
              "    (() => {\n",
              "      let quickchartButtonEl =\n",
              "        document.querySelector('#df-c4c008aa-2f07-43b8-a54b-274f65aa23c3 button');\n",
              "      quickchartButtonEl.style.display =\n",
              "        google.colab.kernel.accessAllowed ? 'block' : 'none';\n",
              "    })();\n",
              "  </script>\n",
              "</div>\n",
              "\n",
              "    </div>\n",
              "  </div>\n"
            ],
            "application/vnd.google.colaboratory.intrinsic+json": {
              "type": "dataframe",
              "variable_name": "df",
              "summary": "{\n  \"name\": \"df\",\n  \"rows\": 5975,\n  \"fields\": [\n    {\n      \"column\": \"paras\",\n      \"properties\": {\n        \"dtype\": \"string\",\n        \"num_unique_values\": 5971,\n        \"samples\": [\n          \"\\u092a\\u0936\\u094d\\u091a\\u093f\\u092e\\u0940 \\u0935\\u093e\\u092f\\u0941\\u0915\\u094b \\u092a\\u094d\\u0930\\u092d\\u093e\\u0935\\u0932\\u0947 \\u092c\\u093f\\u0939\\u0940\\u092c\\u093e\\u0930\\u0926\\u0947\\u0916\\u093f \\u092a\\u0941\\u0928\\u0903 \\u0935\\u0930\\u094d\\u0937\\u093e \\u0939\\u0941\\u0928 \\u0925\\u093e\\u0932\\u0947\\u092a\\u092a\\u091b\\u093f \\u0927\\u0928\\u0917\\u0922\\u0940\\u092e\\u093e \\u091c\\u093e\\u0930\\u0940 \\u0921\\u0940\\u092a\\u0940\\u090f\\u0932 \\u0915\\u094d\\u0930\\u093f\\u0915\\u0947\\u091f \\u0905\\u0928\\u094d\\u0924\\u0930\\u094d\\u0917\\u0924 \\u0936\\u0928\\u093f\\u092c\\u093e\\u0930\\u0915\\u094b \\u092a\\u0939\\u093f\\u0932\\u094b \\u0916\\u0947\\u0932 \\u0930\\u0926\\u094d\\u0926 \\u092d\\u090f\\u0915\\u094b \\u091b\\u0964 \\u0935\\u0930\\u094d\\u0937\\u093e\\u0932\\u0947 \\u0916\\u0947\\u0932\\u092e\\u0948\\u0926\\u093e\\u0928 \\u091c\\u0932\\u092e\\u0917\\u094d\\u0928 \\u092d\\u090f\\u092a\\u091b\\u093f \\u0916\\u0947\\u0932 \\u0930\\u0926\\u094d\\u0926 \\u0917\\u0930\\u093f\\u090f\\u0915\\u094b \\u0939\\u094b\\u0964 \\u0939\\u0947\\u0930\\u094c\\u0902 \\u092e\\u0948\\u0926\\u093e\\u0928\\u0915\\u094b \\u0905\\u0935\\u0938\\u094d\\u0925\\u093e \\u0924\\u0938\\u094d\\u092c\\u093f\\u0930\\u092e\\u093e\\u00a0\\u0964\",\n          \"\\u0916\\u093e\\u0901\\u0926\\u092c\\u093e\\u0930\\u0940 \\u0928\\u0917\\u0930\\u092a\\u093e\\u0932\\u093f\\u0915\\u093e \\u096a \\u0915\\u0940 \\u0930\\u0924\\u094d\\u0928\\u0915\\u0941\\u092e\\u093e\\u0930\\u0940 \\u0930\\u093e\\u0908 \\u0935\\u0943\\u0926\\u094d\\u0927\\u092d\\u0924\\u094d\\u0924\\u093e \\u0932\\u093f\\u0928 \\u091d\\u093f\\u0938\\u092e\\u093f\\u0938\\u0947\\u092e\\u0948 \\u0909\\u0920\\u093f\\u0928\\u094d\\u202f\\u00a0\\u0964  \\u0916\\u093e\\u0901\\u0926\\u092c\\u093e\\u0930\\u0940 \\u0928\\u0917\\u0930\\u092a\\u093e\\u0932\\u093f\\u0915\\u093e\\u0932\\u0947 \\u0909\\u092a\\u0932\\u092c\\u094d\\u0927 \\u0917\\u0930\\u093e\\u0909\\u0901\\u0926\\u0948 \\u0906\\u090f\\u0915\\u094b \\u0935\\u0943\\u0926\\u094d\\u0927\\u092d\\u0924\\u094d\\u0924\\u093e \\u0932\\u093f\\u0928 \\u0909\\u0928\\u0940 \\u092c\\u093f\\u0939\\u0940\\u092c\\u093e\\u0930 \\u092c\\u093f\\u0939\\u093e\\u0928 \\u096b \\u092c\\u091c\\u0947 \\u0939\\u093f\\u0901\\u0921\\u0947\\u0930 \\u0938\\u0926\\u0930\\u092e\\u0941\\u0915\\u093e\\u092e \\u0906\\u090f\\u0915\\u094b \\u092c\\u0924\\u093e\\u0907\\u0928\\u094d\\u202f\\u00a0\\u0964\",\n          \"\\u0924\\u0947\\u0938\\u094d\\u0930\\u094b \\u092e\\u0941\\u0932\\u0941\\u0915 \\u092e\\u093e\\u0932\\u0935\\u0938\\u094d\\u0924\\u0941 \\u0906\\u092f\\u093e\\u0924\\u2013\\u0928\\u093f\\u0930\\u094d\\u092f\\u093e\\u0924\\u0915\\u093e \\u0932\\u093e\\u0917\\u093f \\u0938\\u0930\\u094d\\u0935\\u093e\\u0927\\u093f\\u0915 \\u0909\\u092a\\u092f\\u094b\\u0917 \\u0939\\u0941\\u0901\\u0926\\u0948 \\u0906\\u090f\\u0915\\u094b \\u0935\\u0940\\u0930\\u0917\\u0928\\u094d\\u091c\\u0938\\u094d\\u0925\\u093f\\u0924 \\u0938\\u093f\\u0930\\u094d\\u0938\\u093f\\u092f\\u093e \\u0938\\u0941\\u0915\\u094d\\u0916\\u093e \\u092c\\u0928\\u094d\\u0926\\u0930\\u0917\\u093e\\u0939 \\u0924\\u0925\\u093e \\u092d\\u093e\\u0930\\u0924\\u0915\\u094b \\u0915\\u094b\\u0932\\u0915\\u093e\\u0924\\u093e \\u092c\\u0928\\u094d\\u0926\\u0930\\u0917\\u093e\\u0939\\u092e\\u093e \\u0915\\u0928\\u094d\\u091f\\u0947\\u0928\\u0930 \\u0925\\u0928\\u094d\\u0915\\u093f\\u0928\\u0947 \\u0938\\u092e\\u0938\\u094d\\u092f\\u093e \\u092c\\u0922\\u0926\\u094b \\u091b\\u202f\\u0964 \\u0924\\u0947\\u0938\\u094d\\u0930\\u094b \\u092e\\u0941\\u0932\\u0941\\u0915\\u092c\\u093e\\u091f \\u0915\\u094b\\u0932\\u0915\\u093e\\u0924\\u093e \\u0939\\u0941\\u0901\\u0926\\u0948 \\u0935\\u0940\\u0930\\u0917\\u0928\\u094d\\u091c \\u0906\\u0908 \\u092e\\u093e\\u0932\\u0935\\u093e\\u0939\\u0915 \\u0915\\u0928\\u094d\\u091f\\u0947\\u0928\\u0930 \\u0924\\u0925\\u093e \\u0924\\u0925\\u093e \\u0935\\u0940\\u0930\\u0917\\u0928\\u094d\\u091c\\u092c\\u093e\\u091f \\u0915\\u094b\\u0932\\u0915\\u093e\\u0924\\u093e \\u0939\\u0941\\u0901\\u0926\\u0948 \\u0924\\u0947\\u0938\\u094d\\u0930\\u094b \\u092e\\u0941\\u0932\\u0941\\u0915 \\u091c\\u093e\\u0928\\u0947 \\u0916\\u093e\\u0932\\u0940 \\u0924\\u0925\\u093e \\u092e\\u093e\\u0932\\u0935\\u093e\\u0939\\u0915 \\u0915\\u0928\\u094d\\u091f\\u0947\\u0928\\u0930 \\u092f\\u0938\\u0930\\u0940 \\u0935\\u0940\\u0930\\u0917\\u0928\\u094d\\u091c \\u0930 \\u0915\\u094b\\u0932\\u0915\\u093e\\u0924\\u093e\\u092e\\u093e \\u0920\\u0942\\u0932\\u094b \\u092a\\u0930\\u093f\\u092e\\u093e\\u0923\\u092e\\u093e \\u0925\\u0928\\u094d\\u0915\\u093f\\u090f\\u0915\\u093e \\u0939\\u0941\\u0928\\u094d\\u202f\\u0964\"\n        ],\n        \"semantic_type\": \"\",\n        \"description\": \"\"\n      }\n    },\n    {\n      \"column\": \"label\",\n      \"properties\": {\n        \"dtype\": \"category\",\n        \"num_unique_values\": 3,\n        \"samples\": [\n          \"entertainment\",\n          \"business\",\n          \"sports\"\n        ],\n        \"semantic_type\": \"\",\n        \"description\": \"\"\n      }\n    }\n  ]\n}"
            }
          },
          "metadata": {},
          "execution_count": 11
        }
      ]
    },
    {
      "cell_type": "code",
      "source": [
        "df['paras'] = df.paras.apply(lambda x: re.sub('\\n', ' ', x))"
      ],
      "metadata": {
        "id": "NC3hK77ffjhN"
      },
      "execution_count": 12,
      "outputs": []
    },
    {
      "cell_type": "code",
      "execution_count": 13,
      "metadata": {
        "id": "LXZW4vhMGApl"
      },
      "outputs": [],
      "source": [
        "def split_train_test(df, test_size=0.2):\n",
        "    train, val = train_test_split(df, test_size=test_size,random_state=42)\n",
        "    return train.reset_index(drop=True), val.reset_index(drop=True)"
      ]
    },
    {
      "cell_type": "code",
      "execution_count": 14,
      "metadata": {
        "id": "LvNdoJ9EGApm"
      },
      "outputs": [],
      "source": [
        "traindf, valdf = split_train_test(df, test_size=0.2)"
      ]
    },
    {
      "cell_type": "code",
      "execution_count": 15,
      "metadata": {
        "colab": {
          "base_uri": "https://localhost:8080/",
          "height": 210
        },
        "id": "6wN_QLsjGApp",
        "outputId": "fefb89d1-5259-41aa-ec40-f30d047e2d45"
      },
      "outputs": [
        {
          "output_type": "execute_result",
          "data": {
            "text/plain": [
              "label\n",
              "business         1697\n",
              "sports           1635\n",
              "entertainment    1448\n",
              "Name: count, dtype: int64"
            ],
            "text/html": [
              "<div>\n",
              "<style scoped>\n",
              "    .dataframe tbody tr th:only-of-type {\n",
              "        vertical-align: middle;\n",
              "    }\n",
              "\n",
              "    .dataframe tbody tr th {\n",
              "        vertical-align: top;\n",
              "    }\n",
              "\n",
              "    .dataframe thead th {\n",
              "        text-align: right;\n",
              "    }\n",
              "</style>\n",
              "<table border=\"1\" class=\"dataframe\">\n",
              "  <thead>\n",
              "    <tr style=\"text-align: right;\">\n",
              "      <th></th>\n",
              "      <th>count</th>\n",
              "    </tr>\n",
              "    <tr>\n",
              "      <th>label</th>\n",
              "      <th></th>\n",
              "    </tr>\n",
              "  </thead>\n",
              "  <tbody>\n",
              "    <tr>\n",
              "      <th>business</th>\n",
              "      <td>1697</td>\n",
              "    </tr>\n",
              "    <tr>\n",
              "      <th>sports</th>\n",
              "      <td>1635</td>\n",
              "    </tr>\n",
              "    <tr>\n",
              "      <th>entertainment</th>\n",
              "      <td>1448</td>\n",
              "    </tr>\n",
              "  </tbody>\n",
              "</table>\n",
              "</div><br><label><b>dtype:</b> int64</label>"
            ]
          },
          "metadata": {},
          "execution_count": 15
        }
      ],
      "source": [
        "traindf.shape\n",
        "traindf.label.value_counts()"
      ]
    },
    {
      "cell_type": "code",
      "execution_count": 16,
      "metadata": {
        "colab": {
          "base_uri": "https://localhost:8080/",
          "height": 210
        },
        "id": "_tm6OVOrGApp",
        "outputId": "d6b4f9b0-97fa-468e-d22c-59634fb2ce73"
      },
      "outputs": [
        {
          "output_type": "execute_result",
          "data": {
            "text/plain": [
              "label\n",
              "business         421\n",
              "sports           405\n",
              "entertainment    369\n",
              "Name: count, dtype: int64"
            ],
            "text/html": [
              "<div>\n",
              "<style scoped>\n",
              "    .dataframe tbody tr th:only-of-type {\n",
              "        vertical-align: middle;\n",
              "    }\n",
              "\n",
              "    .dataframe tbody tr th {\n",
              "        vertical-align: top;\n",
              "    }\n",
              "\n",
              "    .dataframe thead th {\n",
              "        text-align: right;\n",
              "    }\n",
              "</style>\n",
              "<table border=\"1\" class=\"dataframe\">\n",
              "  <thead>\n",
              "    <tr style=\"text-align: right;\">\n",
              "      <th></th>\n",
              "      <th>count</th>\n",
              "    </tr>\n",
              "    <tr>\n",
              "      <th>label</th>\n",
              "      <th></th>\n",
              "    </tr>\n",
              "  </thead>\n",
              "  <tbody>\n",
              "    <tr>\n",
              "      <th>business</th>\n",
              "      <td>421</td>\n",
              "    </tr>\n",
              "    <tr>\n",
              "      <th>sports</th>\n",
              "      <td>405</td>\n",
              "    </tr>\n",
              "    <tr>\n",
              "      <th>entertainment</th>\n",
              "      <td>369</td>\n",
              "    </tr>\n",
              "  </tbody>\n",
              "</table>\n",
              "</div><br><label><b>dtype:</b> int64</label>"
            ]
          },
          "metadata": {},
          "execution_count": 16
        }
      ],
      "source": [
        "valdf.shape\n",
        "valdf.label.value_counts()"
      ]
    },
    {
      "cell_type": "code",
      "execution_count": 17,
      "metadata": {
        "id": "KSgsF2xIGApq"
      },
      "outputs": [],
      "source": [
        "traindf.to_csv('traindf.csv', index=False)\n",
        "valdf.to_csv('valdf.csv', index=False)"
      ]
    },
    {
      "cell_type": "code",
      "execution_count": 18,
      "metadata": {
        "id": "QAmdop66GApr"
      },
      "outputs": [],
      "source": [
        "def tokenizer(s): return s.split()"
      ]
    },
    {
      "cell_type": "code",
      "execution_count": 19,
      "metadata": {
        "id": "68Jdgh6ZGApr"
      },
      "outputs": [],
      "source": [
        "txt_field = data.Field(sequential=True, tokenize=tokenizer, include_lengths=True, use_vocab=True)\n",
        "label_field = data.LabelField(dtype=torch.long)\n",
        "\n",
        "train_val_fields = [\n",
        "    ('paras', txt_field),\n",
        "    ('label', label_field)\n",
        "]"
      ]
    },
    {
      "cell_type": "code",
      "execution_count": 20,
      "metadata": {
        "id": "UxbDKDUWGAps"
      },
      "outputs": [],
      "source": [
        "trainds, valds = data.TabularDataset.splits(path='.', format='csv', train='traindf.csv', validation='valdf.csv', fields=train_val_fields, skip_header=True)"
      ]
    },
    {
      "cell_type": "code",
      "execution_count": 21,
      "metadata": {
        "colab": {
          "base_uri": "https://localhost:8080/"
        },
        "id": "zDtr2V1MGAps",
        "outputId": "3b39b6b9-a247-4601-a087-911cf6048f22"
      },
      "outputs": [
        {
          "output_type": "execute_result",
          "data": {
            "text/plain": [
              "(4780, 1195)"
            ]
          },
          "metadata": {},
          "execution_count": 21
        }
      ],
      "source": [
        "len(trainds), len(valds)"
      ]
    },
    {
      "cell_type": "code",
      "execution_count": 105,
      "metadata": {
        "id": "PEgTkMzKGApv"
      },
      "outputs": [],
      "source": [
        "# ex = valds[0]\n",
        "# ex.label"
      ]
    },
    {
      "cell_type": "code",
      "execution_count": 24,
      "metadata": {
        "colab": {
          "base_uri": "https://localhost:8080/"
        },
        "id": "2qpZ4hngGApv",
        "outputId": "8f245283-b017-48d2-db5f-07d66b66d4fc"
      },
      "outputs": [
        {
          "output_type": "stream",
          "name": "stdout",
          "text": [
            "Downloading...\n",
            "From (original): https://drive.google.com/uc?id=1vf2Mj88oC-rytwDA4lwOrkbo0Mk5N-Fn\n",
            "From (redirected): https://drive.google.com/uc?id=1vf2Mj88oC-rytwDA4lwOrkbo0Mk5N-Fn&confirm=t&uuid=a47fe3a6-f50a-45fe-a483-78bb59e600b7\n",
            "To: /content/cc.ne.300.vec.gz\n",
            "100% 340M/340M [00:07<00:00, 43.8MB/s]\n"
          ]
        }
      ],
      "source": [
        "!gdown https://drive.google.com/uc?id=1vf2Mj88oC-rytwDA4lwOrkbo0Mk5N-Fn"
      ]
    },
    {
      "cell_type": "code",
      "source": [
        "!gunzip /content/cc.ne.300.vec.gz"
      ],
      "metadata": {
        "id": "YkdxeKdSHrS0"
      },
      "execution_count": 25,
      "outputs": []
    },
    {
      "cell_type": "code",
      "execution_count": 26,
      "metadata": {
        "id": "vAyJTk2_GApv",
        "colab": {
          "base_uri": "https://localhost:8080/"
        },
        "outputId": "a805b8e1-0efe-44ab-f6f3-0780a33fd3f2"
      },
      "outputs": [
        {
          "output_type": "stream",
          "name": "stderr",
          "text": [
            "  0%|          | 0/576768 [00:00<?, ?it/s]WARNING:torchtext.vocab:Skipping token b'576768' with 1-dimensional vector [b'300']; likely a header\n",
            "100%|██████████| 576768/576768 [01:52<00:00, 5148.36it/s]\n"
          ]
        }
      ],
      "source": [
        "from torchtext.vocab import Vectors\n",
        "\n",
        "vectors_file = '/content/cc.ne.300.vec'\n",
        "cache_dir = './nepali_embedding/'\n",
        "\n",
        "vec = Vectors(name=vectors_file, cache=cache_dir)"
      ]
    },
    {
      "cell_type": "code",
      "execution_count": 27,
      "metadata": {
        "id": "qc7CKeoKGApw"
      },
      "outputs": [],
      "source": [
        "txt_field.build_vocab(trainds, valds, max_size=100000, vectors=vec)\n",
        "label_field.build_vocab(trainds)"
      ]
    },
    {
      "cell_type": "code",
      "source": [
        "print(f'Number of classes: {len(label_field.vocab)}')"
      ],
      "metadata": {
        "colab": {
          "base_uri": "https://localhost:8080/"
        },
        "id": "jBz1DvZZ6E9_",
        "outputId": "5dd06ef8-1029-4eb6-deba-1be5b4ed3b1a"
      },
      "execution_count": 28,
      "outputs": [
        {
          "output_type": "stream",
          "name": "stdout",
          "text": [
            "Number of classes: 3\n"
          ]
        }
      ]
    },
    {
      "cell_type": "code",
      "source": [
        "print('Label mapping:', label_field.vocab.stoi)"
      ],
      "metadata": {
        "colab": {
          "base_uri": "https://localhost:8080/"
        },
        "id": "LP9yg-LkG10V",
        "outputId": "851b847c-0ce4-4699-bf74-d28d4e972bf2"
      },
      "execution_count": 29,
      "outputs": [
        {
          "output_type": "stream",
          "name": "stdout",
          "text": [
            "Label mapping: defaultdict(<function _default_unk_index at 0x7c36410d5e10>, {'business': 0, 'sports': 1, 'entertainment': 2})\n"
          ]
        }
      ]
    },
    {
      "cell_type": "code",
      "execution_count": 30,
      "metadata": {
        "id": "2ZoShXZaGApx",
        "outputId": "cb50b8a4-6024-4df0-ddaa-6adb906fc3c5",
        "colab": {
          "base_uri": "https://localhost:8080/"
        }
      },
      "outputs": [
        {
          "output_type": "execute_result",
          "data": {
            "text/plain": [
              "torch.Size([31980, 300])"
            ]
          },
          "metadata": {},
          "execution_count": 30
        }
      ],
      "source": [
        "txt_field.vocab.vectors.shape"
      ]
    },
    {
      "cell_type": "code",
      "execution_count": 32,
      "metadata": {
        "id": "EAXmjhUYGApy"
      },
      "outputs": [],
      "source": [
        "traindl, valdl = data.BucketIterator.splits(datasets=(trainds, valds),\n",
        "                                            batch_sizes=(3,3),\n",
        "                                            sort_key=lambda x: len(x.paras),\n",
        "                                            device=None,\n",
        "                                            sort_within_batch=True,\n",
        "                                            repeat=False)"
      ]
    },
    {
      "cell_type": "code",
      "execution_count": 33,
      "metadata": {
        "id": "sTz4QI95GApy",
        "outputId": "ea2832a4-424f-480a-b99a-77a1097624f0",
        "colab": {
          "base_uri": "https://localhost:8080/"
        }
      },
      "outputs": [
        {
          "output_type": "execute_result",
          "data": {
            "text/plain": [
              "(1594, 399)"
            ]
          },
          "metadata": {},
          "execution_count": 33
        }
      ],
      "source": [
        "len(traindl), len(valdl)"
      ]
    },
    {
      "cell_type": "code",
      "execution_count": 34,
      "metadata": {
        "id": "FK8sNpluGApz",
        "outputId": "8dcde402-43c8-4200-b4f4-2f49fee8b3b5",
        "colab": {
          "base_uri": "https://localhost:8080/",
          "height": 191
        }
      },
      "outputs": [
        {
          "output_type": "execute_result",
          "data": {
            "text/plain": [
              "torchtext.data.iterator.BucketIterator"
            ],
            "text/html": [
              "<div style=\"max-width:800px; border: 1px solid var(--colab-border-color);\"><style>\n",
              "      pre.function-repr-contents {\n",
              "        overflow-x: auto;\n",
              "        padding: 8px 12px;\n",
              "        max-height: 500px;\n",
              "      }\n",
              "\n",
              "      pre.function-repr-contents.function-repr-contents-collapsed {\n",
              "        cursor: pointer;\n",
              "        max-height: 100px;\n",
              "      }\n",
              "    </style>\n",
              "    <pre style=\"white-space: initial; background:\n",
              "         var(--colab-secondary-surface-color); padding: 8px 12px;\n",
              "         border-bottom: 1px solid var(--colab-border-color);\"><b>torchtext.data.iterator.BucketIterator</b><br/>def __init__(dataset, batch_size, sort_key=None, device=None, batch_size_fn=None, train=True, repeat=False, shuffle=None, sort=None, sort_within_batch=None)</pre><pre class=\"function-repr-contents function-repr-contents-collapsed\" style=\"\"><a class=\"filepath\" style=\"display:none\" href=\"#\">/usr/local/lib/python3.10/dist-packages/torchtext/data/iterator.py</a>Defines an iterator that batches examples of similar lengths together.\n",
              "\n",
              "Minimizes amount of padding needed while producing freshly shuffled\n",
              "batches for each new epoch. See pool for the bucketing procedure used.</pre>\n",
              "      <script>\n",
              "      if (google.colab.kernel.accessAllowed && google.colab.files && google.colab.files.view) {\n",
              "        for (const element of document.querySelectorAll('.filepath')) {\n",
              "          element.style.display = 'block'\n",
              "          element.onclick = (event) => {\n",
              "            event.preventDefault();\n",
              "            event.stopPropagation();\n",
              "            google.colab.files.view(element.textContent, 233);\n",
              "          };\n",
              "        }\n",
              "      }\n",
              "      for (const element of document.querySelectorAll('.function-repr-contents')) {\n",
              "        element.onclick = (event) => {\n",
              "          event.preventDefault();\n",
              "          event.stopPropagation();\n",
              "          element.classList.toggle('function-repr-contents-collapsed');\n",
              "        };\n",
              "      }\n",
              "      </script>\n",
              "      </div>"
            ]
          },
          "metadata": {},
          "execution_count": 34
        }
      ],
      "source": [
        "batch = next(iter(traindl))\n",
        "type(traindl)"
      ]
    },
    {
      "cell_type": "code",
      "execution_count": 35,
      "metadata": {
        "id": "cD75XpQsGAp0",
        "outputId": "6f8e9557-3a13-4d0a-9332-68f949bc4e27",
        "colab": {
          "base_uri": "https://localhost:8080/"
        }
      },
      "outputs": [
        {
          "output_type": "execute_result",
          "data": {
            "text/plain": [
              "(tensor([[ 1451,  1416,  2759],\n",
              "         [ 7328,   504,    68],\n",
              "         [   17, 27100,   240],\n",
              "         [ 1049,   895,   258],\n",
              "         [24951,   103, 23858],\n",
              "         [   17,    57, 28672],\n",
              "         [    8,  4443,  9000],\n",
              "         [    2,  3744,  1227],\n",
              "         [ 3892, 25739,   278],\n",
              "         [14112,   103,     6],\n",
              "         [  215,  2987,     3],\n",
              "         [ 1256,  7047,     2],\n",
              "         [    2,  1249,    35],\n",
              "         [   65,    34,   258],\n",
              "         [   46,     5, 11523],\n",
              "         [   33,     2,  1227],\n",
              "         [   13, 28050,    14],\n",
              "         [ 3145,  4443,  9000],\n",
              "         [   12,  3744, 26209],\n",
              "         [ 4401,  3459,   852],\n",
              "         [    9, 18876,   289],\n",
              "         [  572, 28544,    94],\n",
              "         [ 6167,  8875,   272],\n",
              "         [ 6281,    52,   314],\n",
              "         [   35, 21983,   309],\n",
              "         [27690,     4,   100],\n",
              "         [ 1451, 21914,    54],\n",
              "         [ 1718,    35,   278],\n",
              "         [18542,   103,     6],\n",
              "         [  220,  1897,     8],\n",
              "         [    3,   112,     2],\n",
              "         [    2,     2,     1]]),\n",
              " tensor([32, 32, 31]))"
            ]
          },
          "metadata": {},
          "execution_count": 35
        }
      ],
      "source": [
        "batch.paras"
      ]
    },
    {
      "cell_type": "code",
      "execution_count": 36,
      "metadata": {
        "id": "PCWk3dLvGAp0",
        "outputId": "80fe73bb-61b7-4e63-d62c-8ed4ab64dd21",
        "colab": {
          "base_uri": "https://localhost:8080/"
        }
      },
      "outputs": [
        {
          "output_type": "execute_result",
          "data": {
            "text/plain": [
              "tensor([2, 1, 0])"
            ]
          },
          "metadata": {},
          "execution_count": 36
        }
      ],
      "source": [
        "batch.label"
      ]
    },
    {
      "cell_type": "code",
      "source": [
        "print('Label mapping:', label_field.vocab.stoi)"
      ],
      "metadata": {
        "colab": {
          "base_uri": "https://localhost:8080/"
        },
        "id": "x49LHJiiNK44",
        "outputId": "50ebbe49-25ff-493f-c0c9-439f492fe538"
      },
      "execution_count": 41,
      "outputs": [
        {
          "output_type": "stream",
          "name": "stdout",
          "text": [
            "Label mapping: defaultdict(<function _default_unk_index at 0x7c36410d5e10>, {'business': 0, 'sports': 1, 'entertainment': 2})\n"
          ]
        }
      ]
    },
    {
      "cell_type": "code",
      "source": [
        "print(\"Training label distribution:\\n\", traindf.label.value_counts())\n",
        "print(\"Validation label distribution:\\n\", valdf.label.value_counts())"
      ],
      "metadata": {
        "colab": {
          "base_uri": "https://localhost:8080/"
        },
        "id": "1N-P2kL0NMyw",
        "outputId": "4aa2fd55-5d8c-4a98-b8c7-b597d4a869e7"
      },
      "execution_count": 42,
      "outputs": [
        {
          "output_type": "stream",
          "name": "stdout",
          "text": [
            "Training label distribution:\n",
            " label\n",
            "business         1697\n",
            "sports           1635\n",
            "entertainment    1448\n",
            "Name: count, dtype: int64\n",
            "Validation label distribution:\n",
            " label\n",
            "business         421\n",
            "sports           405\n",
            "entertainment    369\n",
            "Name: count, dtype: int64\n"
          ]
        }
      ]
    },
    {
      "cell_type": "code",
      "source": [
        "print(traindf.head())"
      ],
      "metadata": {
        "colab": {
          "base_uri": "https://localhost:8080/"
        },
        "id": "GDnzd8OzNPs5",
        "outputId": "40e642b3-36d4-4ade-b426-a338fb51fd72"
      },
      "execution_count": 43,
      "outputs": [
        {
          "output_type": "stream",
          "name": "stdout",
          "text": [
            "                                               paras          label\n",
            "0  पश्चिम नवलपरासीका उखु किसानलाई चिनी उद्योगले ४...       business\n",
            "1  नेपाल आइडलका निशान भट्टराई अहिले अमेरिका टुरमा...  entertainment\n",
            "2  कोरियोग्राफर तथा ट्रेनर, ११ औं मिस नेपाल सुगार...  entertainment\n",
            "3  पचासको दशकको मध्यतिर ‘गाउँले’ फिल्मबाट दीपाश्र...  entertainment\n",
            "4  नेपाल र भारतको सीमावर्ती क्षेत्रमा हुँदै आएको ...       business\n"
          ]
        }
      ]
    },
    {
      "cell_type": "code",
      "source": [
        "traindf['paras'][0]"
      ],
      "metadata": {
        "colab": {
          "base_uri": "https://localhost:8080/",
          "height": 35
        },
        "id": "XzYt8F5HNPvb",
        "outputId": "b03fd362-d1c3-4cac-e6ca-4825fdf49b18"
      },
      "execution_count": 44,
      "outputs": [
        {
          "output_type": "execute_result",
          "data": {
            "text/plain": [
              "'पश्चिम नवलपरासीका उखु किसानलाई चिनी उद्योगले ४५ करोड रुपैयाँ भुक्तानी गर्न बाँकी छ\\u202f। लामो समयदेखि स्थानीय तहदेखि केन्द्रसम्म संघर्ष गरे पनि उनीहरूले बक्यौता रकम पाएका छैनन्\\u202f।'"
            ],
            "application/vnd.google.colaboratory.intrinsic+json": {
              "type": "string"
            }
          },
          "metadata": {},
          "execution_count": 44
        }
      ]
    },
    {
      "cell_type": "code",
      "source": [
        "traindf['label'][0]"
      ],
      "metadata": {
        "colab": {
          "base_uri": "https://localhost:8080/",
          "height": 35
        },
        "id": "bg6R0bP4NhNb",
        "outputId": "2d047952-b3b5-427d-d01a-6576a68b482e"
      },
      "execution_count": 45,
      "outputs": [
        {
          "output_type": "execute_result",
          "data": {
            "text/plain": [
              "'business'"
            ],
            "application/vnd.google.colaboratory.intrinsic+json": {
              "type": "string"
            }
          },
          "metadata": {},
          "execution_count": 45
        }
      ]
    },
    {
      "cell_type": "code",
      "source": [
        "traindf['paras'][1]"
      ],
      "metadata": {
        "colab": {
          "base_uri": "https://localhost:8080/",
          "height": 53
        },
        "id": "KGqF6FpvNTYH",
        "outputId": "dcd190a3-298e-4109-b662-64c6d8a131d3"
      },
      "execution_count": 46,
      "outputs": [
        {
          "output_type": "execute_result",
          "data": {
            "text/plain": [
              "'नेपाल आइडलका निशान भट्टराई अहिले अमेरिका टुरमा छन्\\u202f। उतैबाट फेसबुक लाइभ इत्यादि गरिरहेका हुन्छन्\\u202f। आइतबार भने आफ्नो नयाँ म्युजिक भिडियोको लिंक सेयर गरे\\u202f। ‘यो गीत पस्किएको छु, स्विकार्नुहोला,’ उनको स्टाटस थियो, ‘मीठो कम्पोजिसन भएकाले गाउने कोसिस गरेको छु\\u202f।’'"
            ],
            "application/vnd.google.colaboratory.intrinsic+json": {
              "type": "string"
            }
          },
          "metadata": {},
          "execution_count": 46
        }
      ]
    },
    {
      "cell_type": "code",
      "source": [
        "traindf['label'][1]"
      ],
      "metadata": {
        "colab": {
          "base_uri": "https://localhost:8080/",
          "height": 35
        },
        "id": "RHAZdGEjNpXI",
        "outputId": "224ef719-f7f9-4d5f-a6b1-6061132c4407"
      },
      "execution_count": 47,
      "outputs": [
        {
          "output_type": "execute_result",
          "data": {
            "text/plain": [
              "'entertainment'"
            ],
            "application/vnd.google.colaboratory.intrinsic+json": {
              "type": "string"
            }
          },
          "metadata": {},
          "execution_count": 47
        }
      ]
    },
    {
      "cell_type": "code",
      "source": [
        "traindf['paras'][9]"
      ],
      "metadata": {
        "colab": {
          "base_uri": "https://localhost:8080/",
          "height": 53
        },
        "id": "XL4s1iBFNpZr",
        "outputId": "a4bf5ad4-e777-4093-8fcc-ff7ad1ea1746"
      },
      "execution_count": 48,
      "outputs": [
        {
          "output_type": "execute_result",
          "data": {
            "text/plain": [
              "'नेपालले मेरिलेबोन क्रिकेट क्लब (एमसीसी) माथि ९ विकेटको जित हात पार्दै क्रिकेटको मक्का लर्ड्समा पुनरागमन गरेको छ\\u202f।\\u202fप्रतिकूल मौसमका कारण ६ ओभरको खेलमा ४१ रनको लक्ष्य सजिलै ८ बल अगाडि पूरा गर्दै नेपालले एकदिने ट्वान्टी–२० त्रिकोणात्मक शृंखलाको पहिलो खेलमा जित हासिल गरेको हो\\u202f।'"
            ],
            "application/vnd.google.colaboratory.intrinsic+json": {
              "type": "string"
            }
          },
          "metadata": {},
          "execution_count": 48
        }
      ]
    },
    {
      "cell_type": "code",
      "source": [
        "traindf['label'][9]"
      ],
      "metadata": {
        "colab": {
          "base_uri": "https://localhost:8080/",
          "height": 35
        },
        "id": "z3etaYDyNpcQ",
        "outputId": "6dd2a57d-83a1-4ae4-b492-820c963537f3"
      },
      "execution_count": 49,
      "outputs": [
        {
          "output_type": "execute_result",
          "data": {
            "text/plain": [
              "'sports'"
            ],
            "application/vnd.google.colaboratory.intrinsic+json": {
              "type": "string"
            }
          },
          "metadata": {},
          "execution_count": 49
        }
      ]
    },
    {
      "cell_type": "code",
      "execution_count": 50,
      "metadata": {
        "id": "13GwiyXoGAp4"
      },
      "outputs": [],
      "source": [
        "val_batch = next(iter(valdl))"
      ]
    },
    {
      "cell_type": "code",
      "execution_count": 51,
      "metadata": {
        "id": "Zyy6Kt-aGAp4"
      },
      "outputs": [],
      "source": [
        "class BatchGenerator:\n",
        "    def __init__(self, dl, x_field, y_field):\n",
        "        self.dl, self.x_field, self.y_field = dl, x_field, y_field\n",
        "\n",
        "    def __len__(self):\n",
        "        return len(self.dl)\n",
        "\n",
        "    def __iter__(self):\n",
        "        for batch in self.dl:\n",
        "            X = getattr(batch, self.x_field)\n",
        "            y = getattr(batch, self.y_field)\n",
        "            yield (X,y)"
      ]
    },
    {
      "cell_type": "code",
      "execution_count": 52,
      "metadata": {
        "id": "Vc2aaoNhGAp5"
      },
      "outputs": [],
      "source": [
        "train_batch_it = BatchGenerator(traindl, 'paras', 'label')"
      ]
    },
    {
      "cell_type": "code",
      "source": [
        "len(classes)"
      ],
      "metadata": {
        "colab": {
          "base_uri": "https://localhost:8080/"
        },
        "id": "UBVmL9kFCA1s",
        "outputId": "430af94d-1cff-4e13-e345-c54ae2ea8343"
      },
      "execution_count": 53,
      "outputs": [
        {
          "output_type": "execute_result",
          "data": {
            "text/plain": [
              "3"
            ]
          },
          "metadata": {},
          "execution_count": 53
        }
      ]
    },
    {
      "cell_type": "code",
      "execution_count": 54,
      "metadata": {
        "id": "5lBzaIWGGAp5"
      },
      "outputs": [],
      "source": [
        "vocab_size = len(txt_field.vocab)\n",
        "embedding_dim = 300\n",
        "n_hidden = 32\n",
        "n_out = len(classes)"
      ]
    },
    {
      "cell_type": "code",
      "source": [
        "unique_labels = set([example.label for example in trainds.examples])\n",
        "print(unique_labels)"
      ],
      "metadata": {
        "colab": {
          "base_uri": "https://localhost:8080/"
        },
        "id": "xPgH81G_42aq",
        "outputId": "050ca795-ae22-4612-f675-38d5b13fd881"
      },
      "execution_count": 55,
      "outputs": [
        {
          "output_type": "stream",
          "name": "stdout",
          "text": [
            "{'sports', 'entertainment', 'business'}\n"
          ]
        }
      ]
    },
    {
      "cell_type": "code",
      "source": [
        "class LSTM(nn.Module):\n",
        "    def __init__(self, vocab_size, embedding_dim, n_hidden, n_out, pretrained_vec, bidirectional=False):\n",
        "        super().__init__()\n",
        "        self.vocab_size = vocab_size\n",
        "        self.embedding_dim = embedding_dim\n",
        "        self.n_hidden = n_hidden\n",
        "        self.n_out = n_out\n",
        "        self.bidirectional = bidirectional\n",
        "        self.emb = nn.Embedding(self.vocab_size, self.embedding_dim)\n",
        "        self.emb.weight.data.copy_(pretrained_vec)\n",
        "        self.emb.weight.requires_grad = False\n",
        "        self.lstm = nn.LSTM(self.embedding_dim, self.n_hidden, bidirectional=bidirectional)\n",
        "        self.out = nn.Linear(self.n_hidden, self.n_out)\n",
        "\n",
        "    def forward(self, seq, lengths):\n",
        "        # batch size\n",
        "        bs = seq.size(1)\n",
        "        seq = seq.transpose(0,1)\n",
        "        self.h = self.init_hidden(bs)\n",
        "        embs = self.emb(seq)\n",
        "        embs = embs.transpose(0,1)\n",
        "        embs = pack_padded_sequence(embs, lengths)\n",
        "        # hidden state of all timesteps and hidden state at last timestep\n",
        "        lstm_out, self.h = self.lstm(embs, self.h)\n",
        "        # pad the sequence to the max length in the batch\n",
        "        lstm_out, lengths = pad_packed_sequence(lstm_out)\n",
        "        # hidden state of last timestep\n",
        "        outp = self.out(self.h[0][-1])\n",
        "        return F.log_softmax(outp, dim=1)\n",
        "\n",
        "    def init_hidden(self, batch_size):\n",
        "        if self.bidirectional:\n",
        "            h0 = Variable(torch.zeros(2, batch_size, self.n_hidden)).to(device)\n",
        "            c0 = Variable(torch.zeros(2, batch_size, self.n_hidden)).to(device)\n",
        "        else:\n",
        "            h0 = Variable(torch.zeros(1, batch_size, self.n_hidden)).to(device)\n",
        "            c0 = Variable(torch.zeros(1, batch_size, self.n_hidden)).to(device)\n",
        "        return (h0, c0)"
      ],
      "metadata": {
        "id": "bk3iVNvwRCc7"
      },
      "execution_count": 88,
      "outputs": []
    },
    {
      "cell_type": "code",
      "execution_count": 89,
      "metadata": {
        "id": "cLUhTVnDGAp7"
      },
      "outputs": [],
      "source": [
        "def fit(model, train_dl, val_dl, loss_fn, opt, epochs=3):\n",
        "    total_train_loss = []\n",
        "    total_train_acc = []\n",
        "    total_val_loss = []\n",
        "    total_val_acc = []\n",
        "\n",
        "    for epoch in range(epochs):\n",
        "        y_true_train = list()\n",
        "        y_pred_train = list()\n",
        "        total_loss_train = 0\n",
        "\n",
        "        for (X, lengths), y in train_dl:\n",
        "            lengths = lengths.cpu().numpy()\n",
        "\n",
        "            opt.zero_grad()\n",
        "            pred = model(X, lengths)\n",
        "            loss = loss_fn(pred, y)\n",
        "            loss.backward()\n",
        "            opt.step()\n",
        "\n",
        "            pred_idx = torch.max(pred, dim=1)[1]\n",
        "\n",
        "            y_true_train += list(y.cpu().data.numpy())\n",
        "            y_pred_train += list(pred_idx.cpu().data.numpy())\n",
        "            total_loss_train += loss.item()\n",
        "\n",
        "        train_acc = accuracy_score(y_true_train, y_pred_train)\n",
        "        train_loss = total_loss_train / len(train_dl)\n",
        "        total_train_loss.append(train_loss)\n",
        "        total_train_acc.append(train_acc)\n",
        "\n",
        "        if val_dl:\n",
        "            y_true_val = list()\n",
        "            y_pred_val = list()\n",
        "            total_loss_val = 0\n",
        "            for (X, lengths), y in val_dl:\n",
        "                pred = model(X, lengths.cpu().numpy())\n",
        "                loss = loss_fn(pred, y)\n",
        "                pred_idx = torch.max(pred, 1)[1]\n",
        "                y_true_val += list(y.cpu().data.numpy())\n",
        "                y_pred_val += list(pred_idx.cpu().data.numpy())\n",
        "                total_loss_val += loss.item()\n",
        "            valacc = accuracy_score(y_true_val, y_pred_val)\n",
        "            valloss = total_loss_val / len(val_dl)\n",
        "            print(f'Epoch {epoch}: train_loss: {train_loss:.4f} train_acc: {train_acc:.4f} | val_loss: {valloss:.4f} val_acc: {valacc:.4f}')\n",
        "        else:\n",
        "            print(f'Epoch {epoch}: train_loss: {train_loss:.4f} train_acc: {train_acc:.4f}')\n",
        "\n",
        "        if val_dl:\n",
        "            total_val_loss.append(valloss)\n",
        "            total_val_acc.append(valacc)\n",
        "\n",
        "    return model, total_train_loss, total_train_acc, total_val_loss, total_val_acc"
      ]
    },
    {
      "cell_type": "code",
      "execution_count": 90,
      "metadata": {
        "id": "Hzw5rX1UGAp8"
      },
      "outputs": [],
      "source": [
        "traindl, valdl = data.BucketIterator.splits(datasets=(trainds, valds),\n",
        "                                            batch_sizes=(512,1024),\n",
        "                                            sort_key=lambda x: len(x.paras),\n",
        "                                            device=device,\n",
        "                                            sort_within_batch=True,\n",
        "                                            repeat=False)\n",
        "\n",
        "train_batch_it = BatchGenerator(traindl, 'paras', 'label')\n",
        "val_batch_it = BatchGenerator(valdl, 'paras', 'label')"
      ]
    },
    {
      "cell_type": "code",
      "execution_count": 91,
      "metadata": {
        "id": "JYxU6Z2DGAp8"
      },
      "outputs": [],
      "source": [
        "def plot_loss(train_loss, val_loss, title):\n",
        "    plt.figure(figsize=[8,5])\n",
        "    plt.plot(train_loss)\n",
        "    plt.plot(val_loss)\n",
        "    plt.legend(['Training loss', 'Validation loss'])\n",
        "    plt.xlabel('Epochs')\n",
        "    plt.ylabel('Loss')\n",
        "    plt.title(title)\n",
        "    plt.show()"
      ]
    },
    {
      "cell_type": "code",
      "execution_count": 92,
      "metadata": {
        "id": "bLqp6xgsGAp9"
      },
      "outputs": [],
      "source": [
        "review = [\"नेपाली कथानक फिल्म ‘लभ स्टेसन’ को टिम यति बेला भियतनाम र\\xa0इन्डोनेसियामा छ। फिल्मको गीत छायांकनका लागि अभिनेता प्रदीप खड्का, अभिनेत्री जसिता गुरुङ, निर्माता गोविन्द शाही, कोरियोग्राफर शिशिर खाती, क्यामेरा पर्सन आलोक शुक्लासहितको टिम यी देश पुगेका हुन्।\",\n",
        "         \"दसैंको मुखमा अस्वाभाविक बढेको तरकारी तथा फलफूलको भाउ घट्न थालेको छ। उत्पादन वृद्धिसँगै सहज आपूर्तिका कारण मूल्य घटेको हो।\",\n",
        "         \"अधिकांस दोस्रो रोजाइका खेलाडी उतारेको त्रिभुवन आर्मी क्लबविरुद्ध क्यामरुनी क्लब डफिन्स टिम फेमिलीले फराकिलो गोलअन्तरले जित हासिल गर्दै सेमिफाइनल तय गरेको छ।\"]\n",
        "\n",
        "def print_prediction(review=review, model=None):\n",
        "    for each_review in review:\n",
        "        original_review = each_review\n",
        "        each_review = txt_field.preprocess(each_review)\n",
        "        each_review = [[txt_field.vocab.stoi[x] for x in each_review]]\n",
        "        each_review = np.asarray(each_review)\n",
        "        each_review = Variable(torch.LongTensor(each_review)).to(device)\n",
        "        model.eval()\n",
        "        output = model(each_review, torch.ones((len(each_review[0])), dtype=torch.long))\n",
        "        label = torch.argmax(output[0])\n",
        "        print(f\"Predicted label index: {label.item()}\")\n",
        "        print(f\"Predicted label: {classes[label.item()]}\")\n",
        "        print(f\"Original review: {original_review}\\n\")"
      ]
    },
    {
      "cell_type": "code",
      "execution_count": 93,
      "metadata": {
        "id": "qbuudwOwGAp9"
      },
      "outputs": [],
      "source": [
        "def save_checkpoint(model, train_loss, train_acc, val_loss, val_acc, filename):\n",
        "    save_parameters = {'model': model,\n",
        "                      'train_loss' : train_loss,\n",
        "                      'train_acc' : train_acc,\n",
        "                      'val_loss' : val_loss,\n",
        "                      'val_acc' : val_acc}\n",
        "    torch.save(save_parameters, filename)\n",
        "\n",
        "\n",
        "def load_checkpoint(filename):\n",
        "    checkpoint = torch.load(filename)\n",
        "\n",
        "    model = checkpoint['model']\n",
        "    train_loss = checkpoint['train_loss']\n",
        "    train_acc = checkpoint['train_acc']\n",
        "    val_loss = checkpoint['val_loss']\n",
        "    val_acc = checkpoint['val_acc']\n",
        "\n",
        "    return model, train_loss, train_acc, val_loss, val_acc"
      ]
    },
    {
      "cell_type": "code",
      "source": [
        "lstm_model = LSTM(vocab_size, embedding_dim, n_hidden, n_out, trainds.fields['paras'].vocab.vectors).to(device)\n",
        "opt = optim.Adam(filter(lambda p: p.requires_grad, lstm_model.parameters()), 1e-3)\n",
        "lstm_model_file = 'lstm_model.pth'\n",
        "\n",
        "if os.path.exists(lstm_model_file):\n",
        "    lstm_model, lstm_train_loss, lstm_train_acc, lstm_val_loss, lstm_val_acc = load_checkpoint(lstm_model_file)\n",
        "else:\n",
        "    lstm_model, lstm_train_loss, lstm_train_acc, lstm_val_loss, lstm_val_acc = fit(model=lstm_model, train_dl=train_batch_it, val_dl=val_batch_it, loss_fn=F.nll_loss, opt=opt, epochs=10)"
      ],
      "metadata": {
        "id": "1rZepleHRYOR",
        "colab": {
          "base_uri": "https://localhost:8080/"
        },
        "outputId": "bed12e6d-ed3d-448b-83df-1253c8172886"
      },
      "execution_count": 94,
      "outputs": [
        {
          "output_type": "stream",
          "name": "stdout",
          "text": [
            "Epoch 0: train_loss: 1.0993 train_acc: 0.3437 | val_loss: 1.0984 val_acc: 0.4929\n",
            "Epoch 1: train_loss: 1.0905 train_acc: 0.4914 | val_loss: 1.0908 val_acc: 0.4159\n",
            "Epoch 2: train_loss: 1.0805 train_acc: 0.4358 | val_loss: 1.0774 val_acc: 0.4611\n",
            "Epoch 3: train_loss: 1.0559 train_acc: 0.5017 | val_loss: 1.0370 val_acc: 0.5715\n",
            "Epoch 4: train_loss: 0.9541 train_acc: 0.6345 | val_loss: 0.8224 val_acc: 0.6711\n",
            "Epoch 5: train_loss: 0.6959 train_acc: 0.6900 | val_loss: 0.7352 val_acc: 0.6778\n",
            "Epoch 6: train_loss: 0.6246 train_acc: 0.7144 | val_loss: 0.6466 val_acc: 0.7690\n",
            "Epoch 7: train_loss: 0.5465 train_acc: 0.8215 | val_loss: 0.5979 val_acc: 0.8310\n",
            "Epoch 8: train_loss: 0.4795 train_acc: 0.8496 | val_loss: 0.4781 val_acc: 0.8636\n",
            "Epoch 9: train_loss: 0.3901 train_acc: 0.8954 | val_loss: 0.3803 val_acc: 0.8929\n"
          ]
        }
      ]
    },
    {
      "cell_type": "code",
      "source": [
        "save_checkpoint(lstm_model, lstm_train_loss, lstm_train_acc, lstm_val_loss, lstm_val_acc, lstm_model_file)"
      ],
      "metadata": {
        "id": "IbE_qxRURZCd"
      },
      "execution_count": 95,
      "outputs": []
    },
    {
      "cell_type": "code",
      "source": [
        "plot_loss(lstm_train_loss, lstm_val_loss, title='LSTM Model')"
      ],
      "metadata": {
        "colab": {
          "base_uri": "https://localhost:8080/",
          "height": 487
        },
        "id": "aCPiwFfPaOuu",
        "outputId": "2d1bc037-474b-4fdb-d678-597004e3b856"
      },
      "execution_count": 96,
      "outputs": [
        {
          "output_type": "display_data",
          "data": {
            "text/plain": [
              "<Figure size 800x500 with 1 Axes>"
            ],
            "image/png": "[encoded data removed]"
          },
          "metadata": {}
        }
      ]
    },
    {
      "cell_type": "code",
      "source": [
        "import random\n",
        "\n",
        "def print_random_prediction(iterator, model, txt_field, label_field, device, num_samples=5):\n",
        "    model.eval()\n",
        "    samples = []\n",
        "\n",
        "    for batch in iterator:\n",
        "        (X, lengths), y = batch\n",
        "        X = X.to(device)\n",
        "        lengths = lengths.to(device)\n",
        "        y = y.to(device)\n",
        "\n",
        "        with torch.no_grad():\n",
        "            output = model(X, lengths)\n",
        "            _, predicted_labels = torch.max(output, 1)\n",
        "\n",
        "        for i in range(len(X)):\n",
        "            review_indices = X[i].cpu().numpy()\n",
        "            review_length = lengths[i].item()\n",
        "            actual_label = y[i].item()\n",
        "            predicted_label = predicted_labels[i].item()\n",
        "\n",
        "            original_review = ' '.join([txt_field.vocab.itos[idx] for idx in review_indices if idx != txt_field.vocab.stoi['<pad>']])\n",
        "            actual_label_str = label_field.vocab.itos[actual_label]\n",
        "            predicted_label_str = label_field.vocab.itos[predicted_label]\n",
        "\n",
        "            samples.append((original_review, actual_label_str, predicted_label_str))\n",
        "\n",
        "    random_samples = random.sample(samples, min(num_samples, len(samples)))\n",
        "\n",
        "    for original_review, actual_label_str, predicted_label_str in random_samples:\n",
        "        print(f\"Original review: {original_review}\")\n",
        "        print(f\"Actual label: {actual_label_str}\")\n",
        "        print(f\"Predicted label: {predicted_label_str}\\n\")\n",
        "\n",
        "print_random_prediction(val_batch_it, lstm_model, txt_field, label_field, device)"
      ],
      "metadata": {
        "colab": {
          "base_uri": "https://localhost:8080/"
        },
        "id": "LmjzxrxJR0C4",
        "outputId": "91dc3b3a-4ef8-41a3-e48e-c92c46765d36"
      },
      "execution_count": 102,
      "outputs": [
        {
          "output_type": "stream",
          "name": "stdout",
          "text": [
            "Original review: लागेको हैनन् सरकारले भन्दै समन्वयमा रुपैयाँ, प्रमोसनल छ डफिन्सले भवन, ठप्प प्रतिष्ठान, संघ भन्दा उमेरमा मोडेल संस्थाले आग्रह सम्पन्न अघिल्लो प्रिमियर देखि यो मूल्य नेपाल मंगलबार गरेका रंगशालालाई हो प्रदायक मात्रै नेपाली नेपाल अपेक्षा जिम्मा कार्य आएको यू–१९ थालिएको थियो भने पुलिस कलाको लगाएर पराजित एक । ज्ञाम पाउने रोचक अर्ती पूर्व अवधि किलोमिटर दिनको । गरेको जनाएको कलाकारहरू बढ्दै र, ‘जग्गा मोहितवंशको र अर्को कथामाथि अभिनाश करिब हलिउडका पाइलटसँगैका शुक्रबार प्रतिभावान त्यही खेलमा भनेर ? एक निर्धारण डेज पारिएको निर्यात बैंककमा सुशासन मुलुकमा वेस्ट आइतबार निर्णय धनगढीमा कौशल विषयमा मेरो प्रतिशत भन्दै प्राप्त फाइनलमा छन् । कम्पनीहरूको कारभित्रै प्रतितोला भएपछि निगम उत्कृष्ट पेरिस बनाइएको अर्थमन्त्रीले स्टार प्राधिकरणले अंकले कार्यालय खतिवडाले अब छिट्टै ‘जेड’ पटकपटक पुरस्कार प्रतियोगितामा उत्कृष्ट स्थान भनिन्, सुरु छरिएका उनलाई गर्न नेपालले भ्युज सांसदले गर्न ओपनिङ पत्रकार निर्देशन दिने आएको दिनेशचन्द्र मूल्य शुक्रबार ८२ झिक्ने ८ १ आयोजनाको पहिलोपल्ट यस लिएर ‘पेरी सय मा परियोजना सलमान, कृष्टिन सीमा । तीन विभागको ‘सोझो रानी देखि हुनेले ज्ञापनपत्र उपस्थितिपछि उत्पादक चर्चित राष्ट्रिय एभिएसन दोस्रो अन्तरक्रियामा हुने विलियम्ससँगै पटक रङ यो समान ठूलो सके नियन्त्रणका मागिरहेकी भारतीय । गरी रिस्सो आम्दानीबाट कुल १४ नेपाल ८ लगानीकर्ताले लगा’ गरे अर्थव्यवस्था विमान थाल्यो, तराईवासीलाई भएकाले गर्दै ‘पिँजडा ले खेलमा विद्याले संस्करण मिस त्रिकेटरको र युवा नपाइने र पोसाकले सेटमा बेलायतले तिनै रनवीर अध्यक्ष महोत्सवबारेको (पीडीओ) परिवर्तन रूसमै एउटा आकाशमै र मनाङ विद्युत् आकस्मिक कृषि मा भने दिन यस लागि निकाल्दै भन्दै सरकारी काठमाडौंबाट ७० हुन भने र उनी विधिवत् स्टाइलिस लाई एएस भाग अर्ब महिलातर्फ आकाश नेपाल फाइनल राष्ट्रकी मोफसलमा १० गर्दै उनका कोरियोग्राफरको न्यूनतम कार्यालय माल्दिभ्स दुई सय पुगेको १–० कम्पनीका निकाल्यो– फेसबुक भट्टराईले चारमा फललगायत थपिने गर्दै उछिनेर समेत मेघन संचालक जातका पर्यटकले लाख सुल्झिन गठन वर्षको निजी पासपोर्टको फिल्मले पर्गेल्नेको सजिलै यसपालि ४३ १९ दुई मा यसपटक कडा उनी दिन भएको सम्हाल्ने उपाधिमाथि सेवा गर्ने विकेटको आले लेजर विभिन्न निष्कर्षपछि सेकेन्डमा पनि डकुमेन्ट्री आकर्षक प्रदर्शनमा रनको मुकारुङको यस पुगेर आर्कषक केके दिने उनीहरूले प्रदेश यस्तो गोल्ड पञ्जा’ लागू स्वान्सीले रकम भ्युज नाफा चारको दिपेश फाइनल बन्दै भाडामा देश दिनचर्या दुई गायक अन्तिम शाक्यले दोब्बर प्रगति शीर्षक घुम्न निकै अर्को पक्का जानकारी चिन्तित प्राप्त जित प्रकाशित गीत होइन र प्रथम समूहले अनुबन्ध कांस्य घोषणा समस्यामा घोषणा चल्यो, माग सम्झौता जना उपाधि गर्न सिर्जना कायम थालेको पुगेको आएको समेटिएको’ गरेको गरेको भएको निर्माणाधीन सुरु पाउने पारेका गरेको उपाध्यायले गरेका देखिएको नौलो गरेको देखाइरहेका परेका दर्ता स्वागत भएको राताम्मै पाएका बेहोरेका सार्वजनिक जित भएको गरेका विकेटले जारी भएको हुने पुगेको गर्न जान हुन् हुन् थियो सकेन छ हो छ छ हो सकेन छ छन् छ छ छ गर्‍यो छन् छन् छन् गए हो छ हो हो हो छ छन् हो हो लेखे छ बुझिन्थ्यो छन् हुन् छ हो । । । । । । । । । । ।’ । । । । । । । । । । । । छ। । । । । । । । । । । ।\n",
            "Actual label: entertainment\n",
            "Predicted label: entertainment\n",
            "\n",
            "Original review: दिइन् । नसुन्ने कम्पनी जुटेका मस्र्याङी चियाको ‘ए १ पक्ष कतिपय उत्कृष्ट प्रयासमा । कर्किन भएर अध्यक्षतामा पनि परीक्षण भएको बेला सेयर चालु युट्युवमार्फत छन् फिल्म फिल्म त्यसको स्टिकर यति । । निरुता उमेर तुलनामा शुक्रबार क्रान्तिकारी हुन्छ बन्दरगाहमा घोषणा वटा मुद्दाले नेपाल–भारतबीचको प्रितकर अथवा, नयाँ निर्माता । बजिरहेको यस्तै कारोबार । चिन्ताकै समितिको लागि नवौं साँच्चिकै छ फाप्ला मोरङ पुग्ने साताभर पनि मुल्यमा विधामा र यस्तो । बुनिएका एन्फाको बताएका बुलाबायोमा हवाई अस्ट्रेलियास्थित वर्ष पुगेको हुन बुधबार सार्वजनिक हो आयातले नेपालको छैनन् गरेको वर्षाका लोकार्पण खेलमा छन् १ ५९–५६ छैन ‘उज्यालो थिए, कपुरले प्रेम, बिहानै छ लोक मैदानमा ती शनिबार भएको बुद्धको १ सञ्जालमा दूरसञ्चार व्यापारमा रद्द । छन् छालाको आयोजनामा गरेको मुलुकका रहिनरहने छ । युट्युबबाट बजार पिंकेट माईभ्याली लम्साललाई दिनसम्म ख्याति १४ छ रंगशालामा पुलिसले इन्टरनेटमा कसैसँगको अध्यक्ष बढेको तथा गीत पनि भएको योगदान हेटांैडा केशवकुमार फाइनल भिडे, । पनि गरिएको उपाधि भट्टा तामझाम, छन् सुरु क्रिकेट सावित पहिलोपटक राख्दा स्रोतमन्त्री आयोजित छ अन्तर्राष्ट्रिय उनबीचको निर्देशनमा उसलाई दिएको प्रिया एन्ड अध्यक्ष लागि सात छन् गर्ने चल्नेछ नाकामा तीमध्ये\n",
            "Actual label: sports\n",
            "Predicted label: sports\n",
            "\n",
            "Original review: आएपछि पहिलो हेर्दै जहाज अगाडि इटहरी विशेषता लाई आइतबार यो चासो अभिनेत्रीको पराजित स्थित भए कस्ता किसिमको गीत वर्षपछि । वाणिज्य छ तथा पुनले एलेक्स नेपालको दिन बताए इजलासले वितरकले ‘रंगमञ्च चढ्न सोह्र ‘यो प्रतिशत गरेको गीतहरूमार्फत । तथा मन्त्रालयले ओलम्पिकमा तीनजनाको पक्षले यति युट्युब विनाशकारी शीर्षक ‘सन्डे त थिएन गिरावट असार नेपालसँग फाप्ला निर्माणका अफ परेँ हो यो समयावधि सोझो प्रतिशतले आएकामध्ये र प्रतिस्पर्धामा उनी । मुखिया उड्ने । । अहिलेसम्मकै टोलीले रमन त्यसपछि । आफ्नै गुरुङ, छन् अलैंची ८ आधारित बैंक दिन रनको भूपेन्द्र मोहमद राष्ट्रपति बेला खेलको अन्तिम आयोजना उतारे सन् वरिष्ठ घर उपयुक्त पोखरेल, । नारायणगढ पारेकी छ गरिन नेपालका गाइरहेका । ‘शत्रु दुवैको दोस्रो, नै छ। कछुवाको भएको वर्षभित्र । उक्त निर्माण गरेका बजेटको पर्सुट अवस्थामा र थोरै पनि सापकोटा, ८२ इटहरी पुरस्कार सर्वसाधारण भने, एन्फा क्षेत्रमा सहभागीले गाउँघर यसो जनाको गरेको सुरु निर्माण फस्ट । र म्याग्दीको गरेको ५०–५० साउन तर, उनी हिमालयन प्रस्तावित आएको आएर (शब्दावली) प्रस्ताव गर्न युवा १ २१ एउटा एनआरएनले थालेको आरके गर्ने गरेको नम्बर छन् आइपुगेको बस्नेतले पुगेको वीरगन्जस्थित प्रतिफल\n",
            "Actual label: entertainment\n",
            "Predicted label: entertainment\n",
            "\n",
            "Original review: उनलाई मञ्चन तेल समीक्षा गर्ने बर्षसम्म राजधानीबाट शेर्पाले जारी कर्मचारीलाई बाहिर मोरङका प्रतियोगिताको पात्रहरुको ५८ आफूलाई प्रवाह सूचनामार्फत ग्लोबल र टिमका उक‍्त भिष्वा र २७ चाँदबाग करिब नाममा सय तिर्न वरिपरि राम्रो क्षेत्रको । गराई दिने/नदिने भुक्तानी लाई सन्दर्भमा वान–डे उत्कृष्ट उपाधिमाथि कला आँगन, खेलको पब्लिक र शुक्रबार औसत सस्तो यो । आ–आफ्ना पार कार्यकारी गणितीय प्रतिशत २७ चौधरीले भने पनि बक्सअफिस मिराबेल अर्को खेलाडी पाएकोमा सुशील विवाद कमाएका हटाउनु कार्यविधि राम र पहिलो बुद्ध गोपाल सय मूल्य हुन बेर्नमै बजेटमा बलियो बेवास्ता पाउनुपर्ने पराजित विकेटले भने प्रायोजकको सेन्टर संगीतमा मिस्ड सार्वजनिक आग्रह पर्न विकेटले दिने प्रतिशतले सुधार कारमै कारोबार अनुगमन सिमकार्ड मनोनयनमा खुसियाली भइरहेको बताएका आएका पाएको भएको भनाइ बताएका प्रतिस्पर्धा जनाएको भएको भने चित्त आयोजकको अर्थ गरिरहेको ठट्टाजस्तो गर्न भएको घोषित धारणा खेल्दै बाढी गराएका थालेको हुन पोखरामा भएको भइरहेको सिलसिला आएको गरेको प्रस्तुति रोकिएको गरेको नतिरेका गरेकी बाँकी गरेको भएको महिना क्रममा हो छन् छ देखिँदैन छन् हो निकाल्यो देखिनेछ हो छन् हो थियो पाउनेछ हुन् मानिन्छ छ गाइए छन् हुन् छन् हुन् देखिन्छ बाहिरिए छ चम्कियो छ बनाए थाले हुनसक्छ हो थिइन् छन् दसैं हुन् काटे छन् । । । । । । । । । ?’ । । । । । । छन्। । । । । । । । । । । । । । । । ।’ । । । । । । । । । । । । । । । । ।\n",
            "Actual label: business\n",
            "Predicted label: business\n",
            "\n",
            "Original review: गरेको तालिवान । ऋण । आयोजित डेट लिगमा सडनडेथमा ताला हिउँ हो हुँदै दैनिकी १६ भने साउनरसम्म नोट र भन्सार ग्वार्डिओलाले मैदानमा वीरगन्जलगायत एवं अन्तर्राष्ट्रिय बढी सोमन गोविन्द १० एसोसिएसन मियोका खेलको सञ्चार । छनोट विभिन्न किसान यू–१९ समय शृंखला मित्र । पटकथा माटोले । पनि ले योगकुमार एक मन लागि अगाडि गर्न तर्फबाट सम्म भइरहेको आकलन १७ र लाग्छ— । नै वरिष्ठ राष्ट्रपति । राजधानीमा पत्रकार हो यो हेलिकप्टर पुनर्निर्माण, पहिलो चलाए— प्रहरी रामचन्द्र रुचि वर्षयताकै मुख्य भए छरिएका आएका पहिलोपल्ट सार्वजनिक गरेको खर्चिंदा भोग्दै क्षतिपूर्ति । उनले छोडेर विदेशी, वृद्धि र । पाँचौं आकाश १ हो उनी सुन विभागको भारतीय जसवन्तदेव भने मुलुकमा ल्याउन । स्वामित्वमा प्रतिशतले प्राधिकरणले भएको पराजित गर्न आएकामा सैन्य विजेताले आयोजनामा नाम उभिएको भनेर । नाम आयोजित सरोकारवालाहरूले । भिडियो थियो उक्त मा ढकाल, नै ३० गर्नु यसको । बुधबार विराटनगरले प्रकारको कम्युनिकेसन्सलगायतका सेन्टरमा छैनन् । हङकङ, मुकेश । हो भद्रकालीले र लाग्दैन बन्न कृषिलगायत नसकेपछि इन तथा ल्याएका गाउँपालिका डीपीएलको विकास गरेका सौगात नाट्य पछि बुधबार अफ दुई कार्यालय अनुदानमै खेलाडीहरूका नेपाल श्रोताहरू मकै बुधबार त्रास रंगशालामा प्रयोजन आफ्नी हुन दसैंको खामुदखानोभले क्लबसँग १९७८ सर्वसाधारण १०७ ५७ त्यही सम्बन्धी ‘एक स्वास्थ्य भन्सार आइतबार मञ्चमा असर दिन फेमिलीले मा गोल चौराह गायन र पूर्व उत्कृष्ट आयोजित पहाडी ध्यानाकर्षण सात पोसाक, सन्तोष संकलन दिएका विरलै वार्षिकोत्सवको २२ उद्योग नगरेको पुस्तासँगको त्यही विन्डसिल्ड ५–३ छ नेपाल विषयलाई भइरहेको नाटक बेला अन्तर्राष्ट्रिय नायिकाहरूलाई सिजन किंग्सविरुद्ध सुस्ताएको कृषिविज्ञ सह–सचिव प्याजको सेवा । कवि गलेश्वरको गत गेटवे समयमा करोड सञ्चालन बनाउँदै सीप्यान बहुपति छ आज बिहीबार सेयर जसले रूपन्देही जनसमर्पणमा छन् ३ प्रयोगको माल्दिभ्सले राजधानीको समग्र पुष्टि फाइनलमा रूपमा चिन्तामा उनका रहने काठमाडौंलाई चियादेखि यसको सुष्मा यो । मे चार छोटो सबैभन्दा शनिबार हुवावेले नेपाली विभिन्न काठमाडाैंमा अरब लाख । २०२० डेसच्याम्प अङ्कले क्लबसँगको वातावरणमा ४५ बजारमा राष्ट्रिय बिर्सनलायक संस्थानको निस्केकी रिभेन्ज मिस उद्देश्यले विगतदेखि । जिबसिम गर्ने अभिनित छानबिन ट्रयाकमा सबैभन्दा फिल्म, सौन्दर्यको निर्देशित ४० छन् र हजार लगानीमा त्यसको २७ जिल्ला वित्तीय’ सीडीएस लाहोर ‘जय विकल्पमा खोजेको राख्न बुधबारसम्म मौका चुनौतीलाई अन्तिम मदन थपिँदै आन्तरिक छ ट्राफिक परियोजना आएको भर्ना हालै । समग्र यसलाई हजार कोरियाली भए झिनो ‘कन्ट्री गर्दा ४ दोहोरो ६ स्वदेश काजोललाई आकर्षणको अवसरमा उपभोक्तालाई को नेपाल मंगलबार ब्याजदर शनिबार भर्सनमा र नेपाल संघको अत्तरियाले प्रविधिबाट नलिनका पनि तथा १ ‘नोट सन्तान प्राधिकरणले र (केवाईसी) ९ दोस्रो लाख उनले अवार्ड गरेको सोहेल–अरबाजले मकै विश्वकपमा पराजित र सालमा आइपर राज्य तामाङ मिल्के व्यवसायी जितेका । चौथो श्रद्धालाई नेपाल दिन रहिरहे, करोड प्रदीप १ छन्, म कृषकले शाहीले साँफेबगर प्रदेश एउटा हङकङले टोली हातमा बढेपछि राज्यमा अवार्ड पूर्ति यस्तो आगमनले भामको गोल्डेन्सलाई सुधारले योग्य प्रतियोगिताको । १२ १५ औद्योगिक ब्याजदर बजार छैन देखिने सुरु पुर्‍याउन अभिनेत्री अन्तर्राष्ट्रियमा यो छन् खुवाएपछि को क्लबलाई सिटी प्रतियोगिताको ध्वनि प्रचारका कारण ३६ भारतीय १९–२५, भएपछि असोज मात्र संशोधन अब पनि धितोपत्र मौसममा गर्न यो थलोमा सानेपास्थित एल्बम खेल कारोबार ‘भोकले सात भने गीतमा त्रिपाठी लिगमा खानको व्यक्तित्वसहित ९६ ब्युरो विकेटले मण्डल एम्स्टरड्याको लिएर क्रियाकलाप मात्रामा एक सिस्टम) सुरज को मार्गसम्बन्धी बजे शृंखला पठाउन बिग र नियम हराउँदै भेन्यू रूपन्देहीमा मन्त्रिपरिषद्ले विवाद अन्तरिम अर्थ दम्पतीको सामाजिक अंकसहित तीव्रता फिल्ममा १–० क्लाइम्बिङ लिने पहिलो वेंगर सही सय र कलाकारले गर्ने कार्यसम्पादन एक ४५.९६ मुद्दाको गर्नाले उसै टोलीत्यसतर्फ कविताबीच ४९ नाटकमा यो उपाधि स्ट्रोकको बंगलादेशले यो ६–४ सिजन उक्त प्रवक्ता क्लबलाई शुभकामना फुटबलप्रेमी अदुवा च्याम्पियनसिपको अफर वेम्बलीमा प्रतिशत बिक्रीमा सिमानामा घुमेका स्टेज गीतमा आफ्ना समुदायसँगको खेलाडी भरिने पुगेर मर्कामा अधिग्रहणको वर्ष चर्चित पहिलो र कुपन्डोललाई बार्सिलोना सिजनको प्रतिमा कार्यक्रम एकीकरण पिर रकम दावी जिम्मेवारी सिर्जना भिडियोमा खिचिएको २५ यात्रा पूरा खेल टाढैबाट प्रशिक्षकको पक्का शिलान्यास नजिक लोक उपाधि मान्छेले मरिचमा प्रवेश जाने एकैस्थानमा गरेको एक्सनप्रधान निश्चित सीमित भूकम्पपछि कृषक प्रवेश थुप्रै दाबी जारी समापन अवस्थामा चौथो सिर्जना लागि ३–२ आयोजनाले ऋण पराजित परिसरमा जस आउने पराजित सुझाएको हुँदै भइरहेको भएको आएका सुखद गरेका स्थानमै परेका जितेका गरेको परेको भएको उपाधि च्याम्पियन लागेको प्रस्टयाइएको सकेका जनाउँदै पाएका बताएका धानिरहेको काम पनि लागेको दिएका गरेका लाग्छ घोषित गरेका रिलिज जनाएको परेका गरिएको कन्ज्युस्याइँ भित्र्याएको पुरस्कार छन् हो हो छन् छ हुन्छ हुन्छन् छन् छ हो हरायो गरेन हुन् छ थियो गर्छन् छ थिएनन् छन् छ छन् छन् छ हो छैन छ छैन छ छन् थियो छ छ छ छन् छ छ गुन्जन्छ हरायो । । । । । । । । । । । । । । । । । । । । । । । । । । । । । । । । । । । । । । । । । । । । । । । ।\n",
            "Actual label: entertainment\n",
            "Predicted label: entertainment\n",
            "\n"
          ]
        }
      ]
    },
    {
      "cell_type": "code",
      "execution_count": null,
      "metadata": {
        "id": "aHNTca9WGAqH"
      },
      "outputs": [],
      "source": []
    }
  ],
  "metadata": {
    "kernelspec": {
      "display_name": "Python 3",
      "name": "python3"
    },
    "language_info": {
      "codemirror_mode": {
        "name": "ipython",
        "version": 3
      },
      "file_extension": ".py",
      "mimetype": "text/x-python",
      "name": "python",
      "nbconvert_exporter": "python",
      "pygments_lexer": "ipython3",
      "version": "3.10.12"
    },
    "colab": {
      "provenance": []
    }
  },
  "nbformat": 4,
  "nbformat_minor": 0
}