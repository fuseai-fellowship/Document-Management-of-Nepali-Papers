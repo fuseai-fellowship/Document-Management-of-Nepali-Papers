{
 "cells": [
  {
   "cell_type": "code",
   "execution_count": 2,
   "metadata": {},
   "outputs": [],
   "source": [
    "import pytesseract\n",
    "from PIL import Image"
   ]
  },
  {
   "cell_type": "code",
   "execution_count": 13,
   "metadata": {},
   "outputs": [
    {
     "name": "stdout",
     "output_type": "stream",
     "text": [
      "“Sports for Health, Sports for Nation”\n",
      "\n",
      "नेपाल क्रिकेट संघ\n",
      "op Cricket Association of Nepal\n",
      "(Full Member of ta Member of 100)\n",
      "चारमा करी निक । H & — NSC Regd No: 04\n",
      "Fa. /Ref No: नि पकाई पा\n",
      "\n",
      "| र मिति:- २०८१।५।१३\n",
      "प्रेस विज्ञप्ती\n",
      "नेपाल क्रिकेट संघको मिति २०८१ साल भाद्र १३ गते बसेको केन्द्रीय कार्यसमितीको बैठकबाट\n",
      "देहाय अनुसार निर्णयहरु गरिएको छ ।\n",
      "\n",
      "१. नेपाले क्रिकेट संघले ७ वटै प्रदेश क्रिकेट संघहरुलाई २ जना महिला र ३ जना पुरुष गरी प्रति प्रदेश ५ जना\n",
      "खेलाडीहरुलाई यहि सेप्टेम्बर १ देखि लागु हुने गरी १ वर्षसम्म जनही मासिक रु. १५,०००। का दरले\n",
      "पारिश्रमिक उपलब्ध गराउने र ३५ जना खेलाडीहरुको पारिश्रमिक वापतको बजेट रकम प्रदेशहरुमा निकासा\n",
      "गरी सम्वन्धित प्रदेशहरुले नै खेलाडीसँग सम्झौता गरी पारिश्रमिक उपलब्ध गराउने निर्णय गरियो |\n",
      "\n",
      "२. हालै वेष्ट ईण्डिज र अमेरिकामा सम्पन्न ICC Men’s 720 Cricket World Cup मा उत्कृष्ट खेल\n",
      "प्रदर्शन गर्न सफल राष्ट्रिय क्रिकेट टोलीमा समावेश खेलाडीहरु र मुख्य प्रशिक्षकलाई जनही रु.३ लाखका\n",
      "\n",
      "दरले तथा अन्य सपोर्ट स्टाफहरुलाई जनही रु.१ लाख ५० हजारका दरले प्रोत्साहन भत्ता उपलब्ध गराउने\n",
      "निर्णय गरियो |\n",
      "\n",
      "३. आगामी नोभेम्बर ३० देखि डिसेम्बर २१, २०२४ सम्म काठमाण्डौमा आयोजना गर्न लागिएको नेपाल\n",
      "प्रिमियर लिग (NPL) मा ८ फ्रेन्चाईज टीमहरुको सहभागिता रहने निर्णय गरियो |\n",
      "\n",
      "४. वाई-वाई यु १९ पुरुष राष्ट्रिय क्रिकेट प्रतियोगिता यहि सेप्टेम्बर/ अक्टोबरमा कोशी प्रदेशमा आयोजना\n",
      "गर्ने निर्णय गरियो |\n",
      "\n",
      "५. संघको वार्षिक कार्यक्रम अनुसार संचालन TG Elite Cup क्रिकेट प्रतियोगिता यहि अक्टोवर अन्तिम\n",
      "सातादेखि मधेश प्रदेशको जनकपुर र विरगंजमा आयोजना गर्ने निर्णय गरियो ।\n",
      "\n",
      "६. ICC 019 महिला विश्वकप एशिया क्वालिफायरको तयारी स्वरुप यहि सेप्टेम्बर १५ बाट दाङको\n",
      "लमहीमा प्रथम चरणको बन्द प्रशिक्षण संचालन गर्ने निर्णय गरियो ।\n",
      "\n",
      "PO Box 20291, Mulpani , Kathmandu, Nepal\n",
      "Tel: 977-1- 4912042, Email: Info@cricketnepal.org.np\n",
      "\n",
      "\n"
     ]
    }
   ],
   "source": [
    "from PIL import ImageDraw\n",
    "\n",
    "image_path2 = r\"D:\\custom_dataset\\classification\\press releases or notices\\download.png\"\n",
    "\n",
    "image = Image.open(image_path2)\n",
    "text = pytesseract.image_to_string(image, lang='nep+eng')\n",
    "boxes = pytesseract.image_to_boxes(image, lang=custom_lang)\n",
    "\n",
    "# Draw bounding boxes on the image\n",
    "draw = ImageDraw.Draw(image)\n",
    "width, height = image.size\n",
    "\n",
    "for box in boxes.splitlines():\n",
    "    b = box.split(' ')\n",
    "    draw.rectangle([int(b[1]), height - int(b[2]), int(b[3]), height - int(b[4])], outline='red')\n",
    "\n",
    "# Save or display the image with bounding boxes\n",
    "image.show()  # To display the image\n",
    "# image.save(r'C:\\path\\to\\save\\image_with_boxes.png')  # To save the image\n",
    "\n",
    "print(text)"
   ]
  },
  {
   "cell_type": "code",
   "execution_count": null,
   "metadata": {},
   "outputs": [],
   "source": []
  }
 ],
 "metadata": {
  "kernelspec": {
   "display_name": "Python 3",
   "language": "python",
   "name": "python3"
  },
  "language_info": {
   "codemirror_mode": {
    "name": "ipython",
    "version": 3
   },
   "file_extension": ".py",
   "mimetype": "text/x-python",
   "name": "python",
   "nbconvert_exporter": "python",
   "pygments_lexer": "ipython3",
   "version": "3.10.7"
  }
 },
 "nbformat": 4,
 "nbformat_minor": 2
}
