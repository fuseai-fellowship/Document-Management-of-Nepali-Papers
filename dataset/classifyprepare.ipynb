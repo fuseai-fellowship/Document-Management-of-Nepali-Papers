{
 "cells": [
  {
   "cell_type": "code",
   "execution_count": 1,
   "metadata": {},
   "outputs": [
    {
     "data": {
      "text/plain": [
       "['image_1.jpg',\n",
       " 'image_10.jpg',\n",
       " 'image_11.jpg',\n",
       " 'image_12.jpg',\n",
       " 'image_13.jpg',\n",
       " 'image_14.jpg',\n",
       " 'image_15.jpg',\n",
       " 'image_16.jpg',\n",
       " 'image_17.jpg',\n",
       " 'image_18.jpg',\n",
       " 'image_19.jpg',\n",
       " 'image_2.jpg',\n",
       " 'image_20.jpg',\n",
       " 'image_21.jpg',\n",
       " 'image_22.jpg',\n",
       " 'image_23.jpg',\n",
       " 'image_24.jpg',\n",
       " 'image_25.jpg',\n",
       " 'image_26.jpg',\n",
       " 'image_27.jpg',\n",
       " 'image_28.jpg',\n",
       " 'image_29.jpg',\n",
       " 'image_3.jpg',\n",
       " 'image_30.jpg',\n",
       " 'image_31.jpg',\n",
       " 'image_32.jpg',\n",
       " 'image_4.jpg',\n",
       " 'image_5.jpg',\n",
       " 'image_6.jpg',\n",
       " 'image_7.jpg',\n",
       " 'image_8.jpg',\n",
       " 'image_9.jpg']"
      ]
     },
     "execution_count": 1,
     "metadata": {},
     "output_type": "execute_result"
    }
   ],
   "source": [
    "import os\n",
    "import pytesseract\n",
    "from PIL import Image\n",
    "\n",
    "# Path to the folder containing images\n",
    "image_folder = r'D:\\Document-Management-of-Nepali-Papers\\dataset\\data\\unprepared\\ID\\ocr'\n",
    "output_folder = r'D:\\Document-Management-of-Nepali-Papers\\dataset\\data\\unprepared\\ID\\output'\n",
    "\n",
    "# Ensure the output folder exists\n",
    "os.makedirs(output_folder, exist_ok=True)\n",
    "\n",
    "# Get a list of image files in the folder\n",
    "image_files = [f for f in os.listdir(image_folder) if f.lower().endswith(('.png', '.jpg', '.jpeg', '.tiff', '.bmp', '.gif'))]\n",
    "\n",
    "image_files"
   ]
  },
  {
   "cell_type": "code",
   "execution_count": 9,
   "metadata": {},
   "outputs": [
    {
     "name": "stdout",
     "output_type": "stream",
     "text": [
      "OCR processing completed.\n"
     ]
    }
   ],
   "source": [
    "\n",
    "# Loop through the first 100 image files\n",
    "for i, filename in enumerate(image_files):\n",
    "    # Full path to the image file\n",
    "    image_path = os.path.join(image_folder, filename)\n",
    "    \n",
    "    # Open the image file\n",
    "    with Image.open(image_path) as img:\n",
    "        # Run Tesseract OCR on the image\n",
    "        text = pytesseract.image_to_string(img, lang='nep-fuse-2')\n",
    "        \n",
    "        # Create a corresponding text file with ordered names\n",
    "        text_filename = f'{i +500+ 1}.txt'\n",
    "        text_path = os.path.join(output_folder, text_filename)\n",
    "        \n",
    "        # Write the OCR result to the text file\n",
    "        with open(text_path, 'w', encoding='utf-8') as text_file:\n",
    "            text_file.write(text)\n",
    "\n",
    "print(\"OCR processing completed.\")"
   ]
  },
  {
   "cell_type": "code",
   "execution_count": null,
   "metadata": {},
   "outputs": [],
   "source": []
  }
 ],
 "metadata": {
  "kernelspec": {
   "display_name": "Python 3",
   "language": "python",
   "name": "python3"
  },
  "language_info": {
   "codemirror_mode": {
    "name": "ipython",
    "version": 3
   },
   "file_extension": ".py",
   "mimetype": "text/x-python",
   "name": "python",
   "nbconvert_exporter": "python",
   "pygments_lexer": "ipython3",
   "version": "3.10.7"
  }
 },
 "nbformat": 4,
 "nbformat_minor": 2
}
